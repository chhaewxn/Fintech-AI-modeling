{
  "nbformat": 4,
  "nbformat_minor": 0,
  "metadata": {
    "colab": {
      "provenance": []
    },
    "kernelspec": {
      "display_name": "Python 3",
      "language": "python",
      "name": "python3"
    },
    "language_info": {
      "codemirror_mode": {
        "name": "ipython",
        "version": 3
      },
      "file_extension": ".py",
      "mimetype": "text/x-python",
      "name": "python",
      "nbconvert_exporter": "python",
      "pygments_lexer": "ipython3",
      "version": "3.7.3"
    }
  },
  "cells": [
    {
      "cell_type": "markdown",
      "metadata": {
        "id": "LlS4gyYqJVpn"
      },
      "source": [
        "##로지스틱 회귀 실습"
      ]
    },
    {
      "cell_type": "markdown",
      "metadata": {
        "id": "ILi_LPl9JVpw"
      },
      "source": [
        "##03. 데이터 준비하기"
      ]
    },
    {
      "cell_type": "code",
      "metadata": {
        "id": "Mba6QeEmLn3r"
      },
      "source": [
        "# 사용할 데이터를 불러와서 저장하기\n",
        "\n",
        "import pandas as pd\n",
        "\n",
        "fish = pd.read_csv('https://bit.ly/fish_csv_data')\n",
        "fish.head()"
      ],
      "execution_count": null,
      "outputs": []
    },
    {
      "cell_type": "code",
      "metadata": {
        "id": "90xOaHFYxYda"
      },
      "source": [
        "#데이터 확인해보기\n",
        "\n",
        "#저장했던 변수명을 그대로 쓰기\n",
        "fish"
      ],
      "execution_count": null,
      "outputs": []
    },
    {
      "cell_type": "code",
      "metadata": {
        "colab": {
          "base_uri": "https://localhost:8080/"
        },
        "id": "ChdGfrH6xqBn",
        "outputId": "6bc3e264-160d-4aee-f728-fa38c3b5cab1"
      },
      "source": [
        "#출력문의 형태로 보기\n",
        "print(fish)"
      ],
      "execution_count": 39,
      "outputs": [
        {
          "output_type": "stream",
          "name": "stdout",
          "text": [
            "    Species  Weight  Length  Diagonal   Height   Width\n",
            "0     Bream   242.0    25.4      30.0  11.5200  4.0200\n",
            "1     Bream   290.0    26.3      31.2  12.4800  4.3056\n",
            "2     Bream   340.0    26.5      31.1  12.3778  4.6961\n",
            "3     Bream   363.0    29.0      33.5  12.7300  4.4555\n",
            "4     Bream   430.0    29.0      34.0  12.4440  5.1340\n",
            "..      ...     ...     ...       ...      ...     ...\n",
            "154   Smelt    12.2    12.2      13.4   2.0904  1.3936\n",
            "155   Smelt    13.4    12.4      13.5   2.4300  1.2690\n",
            "156   Smelt    12.2    13.0      13.8   2.2770  1.2558\n",
            "157   Smelt    19.7    14.3      15.2   2.8728  2.0672\n",
            "158   Smelt    19.9    15.0      16.2   2.9322  1.8792\n",
            "\n",
            "[159 rows x 6 columns]\n"
          ]
        }
      ]
    },
    {
      "cell_type": "code",
      "metadata": {
        "id": "UWJWlRCHVWUg"
      },
      "source": [
        "#생선의 종류를 보고 싶다\n",
        "#특정한 columes에 대해서 나올 수 있는 index값 목록을 보고 싶다.\n",
        "print(pd.unique(fish['Species']))"
      ],
      "execution_count": null,
      "outputs": []
    },
    {
      "cell_type": "code",
      "metadata": {
        "id": "lx1CgqMJz7Zy"
      },
      "source": [
        "#생선의 종류가 몇 가지인지 구한다\n",
        "fish_num=pd.unique(fish['Species']) #생선의 index값 목록을 fish_num으로 저장\n",
        "len(fish_num) #원소의 개수를 구한다"
      ],
      "execution_count": null,
      "outputs": []
    },
    {
      "cell_type": "code",
      "source": [
        "fish_num"
      ],
      "metadata": {
        "id": "IU9e-iHlrHei"
      },
      "execution_count": null,
      "outputs": []
    },
    {
      "cell_type": "code",
      "metadata": {
        "id": "8JjMXc9wVE7C"
      },
      "source": [
        "#생선의 종류 : 타깃(target)\n",
        "#나머지 값 : 입력데이터(input)\n",
        "#데이터 프레임에서 5개의 열을 선택하고 이를 fish_input이라는 이름으로 저장\n",
        "fish_input = fish[['Weight','Length','Diagonal','Height','Width']].to_numpy()"
      ],
      "execution_count": 7,
      "outputs": []
    },
    {
      "cell_type": "code",
      "metadata": {
        "id": "1T6C1d5iMzb8",
        "scrolled": true
      },
      "source": [
        "print(fish_input[:5]) #5개 행만 출력"
      ],
      "execution_count": null,
      "outputs": []
    },
    {
      "cell_type": "code",
      "metadata": {
        "id": "np3pacip01pR"
      },
      "source": [
        "fish_input #전체보기"
      ],
      "execution_count": null,
      "outputs": []
    },
    {
      "cell_type": "code",
      "metadata": {
        "id": "aB2oHhojTfWE"
      },
      "source": [
        "#생선의 타깃데이터를 생성해서 데이터 프레임 형식으로 저장\n",
        "#데이터 프레임으로 저장하기 위해서 to_numpy 입력\n",
        "fish_target = fish['Species'].to_numpy()"
      ],
      "execution_count": 42,
      "outputs": []
    },
    {
      "cell_type": "code",
      "metadata": {
        "id": "bItWO34W4X3P"
      },
      "source": [
        "#저장된 데이터 프레임 확인하기\n",
        "fish_target"
      ],
      "execution_count": null,
      "outputs": []
    },
    {
      "cell_type": "markdown",
      "metadata": {
        "id": "2EM5gZts8uYc"
      },
      "source": [
        "**[과제 1번째]**"
      ]
    },
    {
      "cell_type": "code",
      "metadata": {
        "id": "dkllezAJW63K"
      },
      "source": [
        "#데이터를 학습할 것과 테스트 할 것으로 쪼갭니다.\n",
        "from sklearn.model_selection import train_test_split\n",
        "\n",
        "train_input, test_input, train_target, test_target = train_test_split(\n",
        "    fish_input, fish_target, random_state=42)\n",
        "\n",
        "#strarify=> \"'Species'\"\n",
        "\n",
        "#random_state 명령어를 치는 이유는 무엇일까요? (과제)"
      ],
      "execution_count": 12,
      "outputs": []
    },
    {
      "cell_type": "code",
      "metadata": {
        "id": "NvLtTPQg4uE3"
      },
      "source": [
        "#1단계 -> 여기 저장된 데이터(생선의 특성)을 가지고 생선 종류를 예측하는 학습모형을 만듭니다.\n",
        "train_input"
      ],
      "execution_count": null,
      "outputs": []
    },
    {
      "cell_type": "code",
      "metadata": {
        "id": "4KQlDEA34yE3"
      },
      "source": [
        "#1단계 -> 여기 저장된 데이터(생선의 특성)을 가지고 생선 종류를 예측하는 학습모형을 만듭니다.\n",
        "train_target"
      ],
      "execution_count": null,
      "outputs": []
    },
    {
      "cell_type": "code",
      "metadata": {
        "id": "wWQUZTz75EUr"
      },
      "source": [
        "#2단계 -> 이제 테스트 검증용 데이터(생선의 특성)을 가지고, 우리가 분류한 모델을 넣어서 생선의 종류를 예측합니다.\n",
        "train_input"
      ],
      "execution_count": null,
      "outputs": []
    },
    {
      "cell_type": "code",
      "metadata": {
        "id": "H0ujq0BjXpfp"
      },
      "source": [
        "#데이터를 표준화 시켜서 전처리 합니다.\n",
        "#훈련 데이터 세트 / 테스트(검증)데이터 세트 모두 변환합니다.\n",
        "\n",
        "from sklearn.preprocessing import StandardScaler\n",
        "\n",
        "ss = StandardScaler()\n",
        "ss.fit(train_input,train_target)\n",
        "train_scaled = ss.transform(train_input)\n",
        "test_scaled = ss.transform(test_input)"
      ],
      "execution_count": 46,
      "outputs": []
    },
    {
      "cell_type": "code",
      "source": [
        "test_target"
      ],
      "metadata": {
        "id": "WhQWibNZxMp3"
      },
      "execution_count": null,
      "outputs": []
    },
    {
      "cell_type": "code",
      "source": [
        "from sklearn.neighbors import KNeighborsClassifier\n",
        "kn=KNeighborsClassifier()"
      ],
      "metadata": {
        "id": "B6nbTd3fu1cp"
      },
      "execution_count": 17,
      "outputs": []
    },
    {
      "cell_type": "code",
      "source": [
        "kn.fit(train_scaled, train_target)"
      ],
      "metadata": {
        "id": "PYE1VRu7vsA5"
      },
      "execution_count": null,
      "outputs": []
    },
    {
      "cell_type": "code",
      "source": [
        "kn.score(train_scaled, train_target)"
      ],
      "metadata": {
        "colab": {
          "base_uri": "https://localhost:8080/"
        },
        "id": "7enciMXgwxzE",
        "outputId": "fba6024c-9acf-4fe4-e138-aeb15330946d"
      },
      "execution_count": 21,
      "outputs": [
        {
          "output_type": "execute_result",
          "data": {
            "text/plain": [
              "0.7983193277310925"
            ]
          },
          "metadata": {},
          "execution_count": 21
        }
      ]
    },
    {
      "cell_type": "code",
      "source": [
        "kn.score(test_scaled, test_target)"
      ],
      "metadata": {
        "colab": {
          "base_uri": "https://localhost:8080/"
        },
        "id": "iEcCSiIqw1ak",
        "outputId": "ce115e3c-43f5-4b33-ba93-cb98f48c406a"
      },
      "execution_count": 22,
      "outputs": [
        {
          "output_type": "execute_result",
          "data": {
            "text/plain": [
              "0.85"
            ]
          },
          "metadata": {},
          "execution_count": 22
        }
      ]
    },
    {
      "cell_type": "code",
      "source": [
        "test_input"
      ],
      "metadata": {
        "colab": {
          "base_uri": "https://localhost:8080/"
        },
        "id": "PxklFcRAxw5n",
        "outputId": "5e5ed42e-782b-4209-af46-cb20606c5609"
      },
      "execution_count": 23,
      "outputs": [
        {
          "output_type": "execute_result",
          "data": {
            "text/plain": [
              "array([[7.80000e+01, 1.87000e+01, 1.94000e+01, 5.19920e+00, 3.12340e+00],\n",
              "       [1.34000e+01, 1.24000e+01, 1.35000e+01, 2.43000e+00, 1.26900e+00],\n",
              "       [2.00000e+02, 3.23000e+01, 3.48000e+01, 5.56800e+00, 3.37560e+00],\n",
              "       [2.70000e+02, 2.60000e+01, 2.87000e+01, 8.38040e+00, 4.24760e+00],\n",
              "       [1.50000e+02, 2.30000e+01, 2.45000e+01, 5.21850e+00, 3.62600e+00],\n",
              "       [1.00000e+03, 3.70000e+01, 4.26000e+01, 1.89570e+01, 6.60300e+00],\n",
              "       [7.00000e+00, 1.06000e+01, 1.16000e+01, 1.72840e+00, 1.14840e+00],\n",
              "       [1.80000e+02, 2.52000e+01, 2.79000e+01, 7.08660e+00, 3.90600e+00],\n",
              "       [1.88000e+02, 2.46000e+01, 2.62000e+01, 6.73340e+00, 4.16580e+00],\n",
              "       [1.25000e+03, 5.60000e+01, 5.97000e+01, 1.06863e+01, 6.98490e+00],\n",
              "       [6.50000e+02, 3.35000e+01, 3.87000e+01, 1.44738e+01, 5.72760e+00],\n",
              "       [1.00000e+03, 4.00000e+01, 4.35000e+01, 1.23540e+01, 6.52500e+00],\n",
              "       [6.00000e+02, 3.20000e+01, 3.72000e+01, 1.54380e+01, 5.58000e+00],\n",
              "       [1.50000e+02, 2.00000e+01, 2.24000e+01, 8.89280e+00, 3.29280e+00],\n",
              "       [7.00000e+02, 3.50000e+01, 4.05000e+01, 1.62405e+01, 5.58900e+00],\n",
              "       [9.20000e+02, 3.85000e+01, 4.41000e+01, 1.80369e+01, 6.30630e+00],\n",
              "       [1.00000e+03, 4.35000e+01, 4.60000e+01, 1.26040e+01, 8.14200e+00],\n",
              "       [2.18000e+02, 2.65000e+01, 2.80000e+01, 7.16800e+00, 4.14400e+00],\n",
              "       [2.25000e+02, 2.40000e+01, 2.55000e+01, 7.29300e+00, 3.72300e+00],\n",
              "       [7.00000e+02, 3.30000e+01, 3.83000e+01, 1.48604e+01, 5.28540e+00],\n",
              "       [1.00000e+01, 1.18000e+01, 1.31000e+01, 2.21390e+00, 1.28380e+00],\n",
              "       [6.10000e+02, 3.35000e+01, 3.86000e+01, 1.56330e+01, 5.13380e+00],\n",
              "       [5.00000e+02, 3.15000e+01, 3.64000e+01, 1.37592e+01, 4.36800e+00],\n",
              "       [5.00000e+02, 3.07000e+01, 3.62000e+01, 1.42266e+01, 4.95940e+00],\n",
              "       [9.55000e+02, 3.85000e+01, 4.40000e+01, 1.80840e+01, 6.29200e+00],\n",
              "       [1.10000e+03, 4.30000e+01, 4.55000e+01, 1.25125e+01, 7.41650e+00],\n",
              "       [1.70000e+02, 2.35000e+01, 2.50000e+01, 6.27500e+00, 3.72500e+00],\n",
              "       [2.70000e+02, 2.65000e+01, 2.93000e+01, 8.14540e+00, 4.24850e+00],\n",
              "       [6.70000e+00, 9.80000e+00, 1.08000e+01, 1.73880e+00, 1.04760e+00],\n",
              "       [9.90000e+00, 1.18000e+01, 1.31000e+01, 2.21390e+00, 1.16590e+00],\n",
              "       [5.10000e+02, 4.25000e+01, 4.55000e+01, 6.82500e+00, 4.45900e+00],\n",
              "       [7.00000e+01, 1.74000e+01, 1.85000e+01, 4.58800e+00, 2.94150e+00],\n",
              "       [5.15000e+01, 1.62000e+01, 1.72000e+01, 4.59240e+00, 2.63160e+00],\n",
              "       [5.67000e+02, 4.60000e+01, 4.87000e+01, 7.79200e+00, 4.87000e+00],\n",
              "       [3.40000e+02, 2.65000e+01, 3.11000e+01, 1.23778e+01, 4.69610e+00],\n",
              "       [1.20000e+02, 2.20000e+01, 2.35000e+01, 6.11000e+00, 3.40750e+00],\n",
              "       [1.60000e+02, 2.25000e+01, 2.53000e+01, 7.03340e+00, 3.82030e+00],\n",
              "       [1.20000e+02, 2.10000e+01, 2.37000e+01, 6.11460e+00, 3.29430e+00],\n",
              "       [1.45000e+02, 2.15000e+01, 2.41000e+01, 9.73640e+00, 3.15710e+00],\n",
              "       [8.20000e+02, 3.90000e+01, 4.13000e+01, 1.24313e+01, 7.35140e+00]])"
            ]
          },
          "metadata": {},
          "execution_count": 23
        }
      ]
    },
    {
      "cell_type": "markdown",
      "metadata": {
        "id": "oAxk-V5kQcgc"
      },
      "source": [
        "##04. k-최근접 이웃 분류기의 확률 예측"
      ]
    },
    {
      "cell_type": "code",
      "metadata": {
        "id": "BYWTNPOdXOfr"
      },
      "source": [
        "from sklearn.neighbors import KNeighborsClassifier\n",
        "\n",
        "#최근접 이웃의 개수를 3개로 지정해서 맞추기\n",
        "#개수를 5, 7, 9로 해서 확률을 비교해보세요\n",
        "kn = KNeighborsClassifier(n_neighbors=3)\n",
        "# 가능하면 홀수(3,5,7...) -> 실제로 5, 7, 9\n",
        "kn.fit(train_scaled, train_target)\n",
        "\n",
        "#훈련용 데이터 세트의 정확도\n",
        "print(kn.score(train_scaled, train_target))\n",
        "\n",
        "#테스트(검즘용) 데이터 세트의 정확도\n",
        "print(kn.score(test_scaled, test_target))"
      ],
      "execution_count": null,
      "outputs": []
    },
    {
      "cell_type": "code",
      "metadata": {
        "id": "a879-O42RhFO"
      },
      "source": [
        "# 사이킷런에 저장된 인덱스 값\n",
        "\n",
        "print(kn.classes_)"
      ],
      "execution_count": null,
      "outputs": []
    },
    {
      "cell_type": "code",
      "metadata": {
        "id": "S23v-Efa7lRh"
      },
      "source": [
        "# 참고 원래 순서\n",
        "pd.unique(fish['Species'])"
      ],
      "execution_count": null,
      "outputs": []
    },
    {
      "cell_type": "code",
      "metadata": {
        "id": "EucmtF8HVOS_"
      },
      "source": [
        "#5개 테스트(검증용) 샘플(5개)의 타깃값을 예측함\n",
        "print(kn.predict(test_scaled[:5]))"
      ],
      "execution_count": null,
      "outputs": []
    },
    {
      "cell_type": "code",
      "source": [
        "print(test_target[:5])\n",
        "#5개의 테스트(검증용) 실제 값\n",
        "#4번째가 whitefish로 예측한 값은 perch임"
      ],
      "metadata": {
        "id": "wGhxIFtbv0gH"
      },
      "execution_count": null,
      "outputs": []
    },
    {
      "cell_type": "markdown",
      "metadata": {
        "id": "UK-yB4nz8lhV"
      },
      "source": [
        "**[과제 2]**"
      ]
    },
    {
      "cell_type": "code",
      "metadata": {
        "id": "OSDr8WSKXbUa"
      },
      "source": [
        "#물고기 예측의 과정을 본다\n",
        "import numpy as np\n",
        "\n",
        "#7개의 고유 값에 해당할 확률을 계산해서 가장 가깝게 예측\n",
        "proba = kn.predict_proba(test_scaled[:5])\n",
        "print(np.round(proba, decimals=4))\n",
        "\n",
        "# (과제) 질문 왜 3개만 나올까요?"
      ],
      "execution_count": null,
      "outputs": []
    },
    {
      "cell_type": "code",
      "metadata": {
        "id": "4D1iAUvX86bB"
      },
      "source": [
        "#위에 7개 행렬에 각 칼럼(인덱스) 값은 무엇일까요?\n",
        "print(kn.classes_)"
      ],
      "execution_count": null,
      "outputs": []
    },
    {
      "cell_type": "code",
      "metadata": {
        "id": "Hk-ywsfKkf7t"
      },
      "source": [
        "#4번째 샘플의 최근접 이웃의 클래스를 알아봅니다.\n",
        "distances, indexes = kn.kneighbors(test_scaled[3:4])\n",
        "print(train_target[indexes])"
      ],
      "execution_count": null,
      "outputs": []
    },
    {
      "cell_type": "markdown",
      "metadata": {
        "id": "k9n63pXf9abb"
      },
      "source": [
        "이 샘플의 이웃 : Roach가 1개, Perch가 2개\n",
        "그런다면 Roach확률이 1/3이고 Rerch가 2/3입니다. 따라서 확률은 33% 66%라고 할 수 있습니다."
      ]
    },
    {
      "cell_type": "markdown",
      "metadata": {
        "id": "Q9_wuI_0tEqL"
      },
      "source": [
        "## 05. 로지스틱 회귀"
      ]
    },
    {
      "cell_type": "code",
      "metadata": {
        "id": "8rdDSaZ5uji2"
      },
      "source": [
        "#numpy를 이용해서 시그모이드 함수 만들기\n",
        "\n",
        "import numpy as np\n",
        "import matplotlib.pyplot as plt\n",
        "\n",
        "z = np.arange(-5, 5, 0.1)\n",
        "phi = 1 / (1 + np.exp(-z))\n",
        "\n",
        "plt.plot(z, phi)\n",
        "plt.xlabel('z')\n",
        "plt.ylabel('phi')\n",
        "plt.show()"
      ],
      "execution_count": null,
      "outputs": []
    },
    {
      "cell_type": "markdown",
      "metadata": {
        "id": "1J6LGKpUJbFE"
      },
      "source": [
        "##06. 로지스틱 회귀로 이진 분류 수행하기"
      ]
    },
    {
      "cell_type": "code",
      "metadata": {
        "id": "JeR5cA_fIe24"
      },
      "source": [
        "#블리언 인덱싱(Boolean Indexing -> True/False 값을 전달해 행을 선택)\n",
        "\n",
        "#A부터 E까지 있는 값 중에서 TRUE가 있는 값만 골라낸다.\n",
        "char_arr = np.array(['A', 'B', 'C', 'D', 'E'])\n",
        "print(char_arr[[True, False, True, False, False]])"
      ],
      "execution_count": null,
      "outputs": []
    },
    {
      "cell_type": "code",
      "metadata": {
        "id": "Khxh-3t5-2Tk"
      },
      "source": [
        "#도미와 빙어를 골라내는 훈련세트에 적용\n",
        "\n",
        "#==로 도미와 빙어에 대한 행만 골라냄\n",
        "bream_smelt_indexes = (train_target == 'Bream') | (train_target == 'Smelt')\n",
        "train_bream_smelt = train_scaled[bream_smelt_indexes]\n",
        "target_bream_smelt = train_target[bream_smelt_indexes]"
      ],
      "execution_count": 34,
      "outputs": []
    },
    {
      "cell_type": "code",
      "metadata": {
        "id": "jEzP0aeXANra"
      },
      "source": [
        "from sklearn.linear_model import LogisticRegression\n",
        "\n",
        "#로지스틱 회귀 모형\n",
        "lr = LogisticRegression()\n",
        "lr.fit(train_bream_smelt, target_bream_smelt)"
      ],
      "execution_count": null,
      "outputs": []
    },
    {
      "cell_type": "code",
      "metadata": {
        "id": "VtEWtsB7EIgm"
      },
      "source": [
        "#처음 5개의 샘플만 예측\n",
        "print(lr.predict(train_bream_smelt[:5]))"
      ],
      "execution_count": null,
      "outputs": []
    },
    {
      "cell_type": "code",
      "metadata": {
        "id": "3H_qieV-_CTt"
      },
      "source": [
        "#예측 확률을 보여줌\n",
        "print(lr.predict_proba(train_bream_smelt[:5]))"
      ],
      "execution_count": null,
      "outputs": []
    },
    {
      "cell_type": "code",
      "metadata": {
        "id": "Mm60bpr7EQKU"
      },
      "source": [
        "#행렬의 컬럼 값에 대응되는 부분\n",
        "print(lr.classes_)"
      ],
      "execution_count": null,
      "outputs": []
    },
    {
      "cell_type": "code",
      "metadata": {
        "id": "1mvoYhUVQmFY"
      },
      "source": [
        "#회귀모형의 계수\n",
        "# z= a * weight + b * Length + c * Diagonal + d * Height + e * width + f\n",
        "print(lr.coef_, lr.intercept_)"
      ],
      "execution_count": null,
      "outputs": []
    },
    {
      "cell_type": "code",
      "metadata": {
        "id": "SxrRy9m8A5Hy"
      },
      "source": [
        "#각 모형의 z값을 계산\n",
        "decisions = lr.decision_function(train_bream_smelt[:5])\n",
        "print(decisions)"
      ],
      "execution_count": null,
      "outputs": []
    },
    {
      "cell_type": "code",
      "metadata": {
        "id": "SeuhSRuiA9yZ"
      },
      "source": [
        "#확률을 계산\n",
        "from scipy.special import expit\n",
        "\n",
        "print(expit(decisions))"
      ],
      "execution_count": null,
      "outputs": []
    },
    {
      "cell_type": "markdown",
      "metadata": {
        "id": "vLVhESDJRPh5"
      },
      "source": [
        "![image.png](data:image/png;base64,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)"
      ]
    },
    {
      "cell_type": "markdown",
      "metadata": {
        "id": "6ee-s4l7EuVo"
      },
      "source": [
        "##07.  로지스틱 회귀로 다중 분류 수행하기"
      ]
    },
    {
      "cell_type": "code",
      "metadata": {
        "colab": {
          "base_uri": "https://localhost:8080/"
        },
        "id": "7QugsbD2X8bf",
        "outputId": "1bc6cd09-499d-484d-d942-8b270ce2052e"
      },
      "source": [
        "lr = LogisticRegression(C=100, max_iter=100000)\n",
        "lr.fit(train_scaled, train_target)\n",
        "\n",
        "print(lr.score(train_scaled, train_target))\n",
        "print(lr.score(test_scaled, test_target))\n",
        "\n",
        "#C값과 ITERATION 값을 바꿔서 정확도를 계산"
      ],
      "execution_count": 53,
      "outputs": [
        {
          "output_type": "stream",
          "name": "stdout",
          "text": [
            "0.9831932773109243\n",
            "0.925\n"
          ]
        }
      ]
    },
    {
      "cell_type": "code",
      "metadata": {
        "id": "0taO0XnF9dha"
      },
      "source": [
        "print(lr.predict(test_scaled[:5]))"
      ],
      "execution_count": null,
      "outputs": []
    },
    {
      "cell_type": "code",
      "metadata": {
        "id": "pqZosYezZOi3"
      },
      "source": [
        "#5개 샘플에 대한 예측확률을 계산\n",
        "#그런데 왜 7개 행이 계산?\n",
        "\n",
        "proba = lr.predict_proba(test_scaled[:5])\n",
        "print(np.round(proba, decimals=3))"
      ],
      "execution_count": null,
      "outputs": []
    },
    {
      "cell_type": "code",
      "metadata": {
        "id": "CXASv4WU87UF"
      },
      "source": [
        "print(lr.classes_)"
      ],
      "execution_count": null,
      "outputs": []
    },
    {
      "cell_type": "code",
      "metadata": {
        "id": "1swPv6ZOZTjg"
      },
      "source": [
        "#다중 분류의 선형방정식을 출력함\n",
        "#5개의 특성을 사용해서 7개의 생선의 확률을 예측함\n",
        "print(lr.coef_.shape, lr.intercept_.shape)"
      ],
      "execution_count": null,
      "outputs": []
    },
    {
      "cell_type": "code",
      "metadata": {
        "id": "s9iRz1iAd7Oe"
      },
      "source": [
        "decision = lr.decision_function(test_scaled[:5])\n",
        "print(np.round(decision, decimals=2))"
      ],
      "execution_count": null,
      "outputs": []
    },
    {
      "cell_type": "code",
      "metadata": {
        "id": "49CcsDHZeJma"
      },
      "source": [
        "#시그모이드 함수 : 하나의 선형 방정식의 출력 값을 0~1사이로 압축함\n",
        "# softmax함수 : 여러개의 선행 방정식의 출력 값을 0~1사이로 압축하고 전체 합이 1이 되도록함\n",
        "from scipy.special import softmax\n",
        "\n",
        "proba = softmax(decision, axis=1)\n",
        "print(np.round(proba, decimals=3))"
      ],
      "execution_count": null,
      "outputs": []
    },
    {
      "cell_type": "markdown",
      "metadata": {
        "id": "7c9BkoR7X8X0"
      },
      "source": [
        "![image.png](data:image/png;base64,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)"
      ]
    }
  ]
}