{
  "cells": [
    {
      "cell_type": "code",
      "execution_count": 2,
      "metadata": {
        "id": "LgnWwrEhDGLd"
      },
      "outputs": [],
      "source": [
        "fish_length = [25.4, 26.3, 26.5, 29.0, 29.0, 29.7, 29.7, 30.0, 30.0, 30.7, 31.0, 31.0,\n",
        "                31.5, 32.0, 32.0, 32.0, 33.0, 33.0, 33.5, 33.5, 34.0, 34.0, 34.5, 35.0,\n",
        "                35.0, 35.0, 35.0, 36.0, 36.0, 37.0, 38.5, 38.5, 39.5, 41.0, 41.0, 9.8,\n",
        "                10.5, 10.6, 11.0, 11.2, 11.3, 11.8, 11.8, 12.0, 12.2, 12.4, 13.0, 14.3, 15.0]\n",
        "\n",
        "fish_weight = [242.0, 290.0, 340.0, 363.0, 430.0, 450.0, 500.0, 390.0, 450.0, 500.0, 475.0, 500.0,\n",
        "                500.0, 340.0, 600.0, 600.0, 700.0, 700.0, 610.0, 650.0, 575.0, 685.0, 620.0, 680.0,\n",
        "                700.0, 725.0, 720.0, 714.0, 850.0, 1000.0, 920.0, 955.0, 925.0, 975.0, 950.0, 6.7,\n",
        "                7.5, 7.0, 9.7, 9.8, 8.7, 10.0, 9.9, 9.8, 12.2, 13.4, 12.2, 19.7, 19.9]"
      ]
    },
    {
      "cell_type": "code",
      "execution_count": null,
      "metadata": {
        "id": "i5_Lxhxkb5vT"
      },
      "outputs": [],
      "source": [
        "fish_length"
      ]
    },
    {
      "cell_type": "code",
      "execution_count": null,
      "metadata": {
        "id": "b3_9oYd8b9ga"
      },
      "outputs": [],
      "source": [
        "fish_weight"
      ]
    },
    {
      "cell_type": "code",
      "execution_count": 5,
      "metadata": {
        "id": "881IuQ_xDf7k"
      },
      "outputs": [],
      "source": [
        "#35개는 도미(1), 14개는 빙어(0) 문자열 코드->숫자(문자열)\n",
        "fish_target=[1]*35+[0]*14"
      ]
    },
    {
      "cell_type": "code",
      "source": [
        "#fish_length(길이) fish_weight(무게)의 데이터를 (x,y) 쌍으로 묶습니다.\n",
        "fish_data=[[l,w] for l, w in zip(fish_length, fish_weight)]"
      ],
      "metadata": {
        "id": "dR9h9-a3gFch"
      },
      "execution_count": 8,
      "outputs": []
    },
    {
      "cell_type": "code",
      "execution_count": null,
      "metadata": {
        "id": "lVxWFc2oEgeB"
      },
      "outputs": [],
      "source": [
        "#총 샘플 숫자\n",
        "len(fish_data)"
      ]
    },
    {
      "cell_type": "code",
      "execution_count": 10,
      "metadata": {
        "id": "JgTUK9NVEgZn"
      },
      "outputs": [],
      "source": [
        "from sklearn.neighbors import KNeighborsClassifier\n",
        "kn=KNeighborsClassifier()"
      ]
    },
    {
      "cell_type": "code",
      "execution_count": null,
      "metadata": {
        "id": "CauovNfbI8r0"
      },
      "outputs": [],
      "source": [
        "fish_data\n",
        "#입력된 데이터 확인하기"
      ]
    },
    {
      "cell_type": "code",
      "source": [
        "print(fish_data[0])"
      ],
      "metadata": {
        "id": "AwV8Fj-XfHPi"
      },
      "execution_count": null,
      "outputs": []
    },
    {
      "cell_type": "code",
      "execution_count": null,
      "metadata": {
        "id": "IwDfJ8h8EgS6"
      },
      "outputs": [],
      "source": [
        "print(fish_data[4])"
      ]
    },
    {
      "cell_type": "code",
      "execution_count": null,
      "metadata": {
        "id": "_ZQ-aomeEgHj"
      },
      "outputs": [],
      "source": [
        "print(fish_data[0:5])"
      ]
    },
    {
      "cell_type": "code",
      "execution_count": null,
      "metadata": {
        "id": "Ksi4kgb3F0pE"
      },
      "outputs": [],
      "source": [
        "print(fish_data[:5])"
      ]
    },
    {
      "cell_type": "code",
      "execution_count": null,
      "metadata": {
        "id": "B19BvK0MF_zE"
      },
      "outputs": [],
      "source": [
        "print(fish_data[44:])"
      ]
    },
    {
      "cell_type": "code",
      "execution_count": 17,
      "metadata": {
        "id": "tHpvuf7lGGGf"
      },
      "outputs": [],
      "source": [
        "train_input=fish_data[:35]\n",
        "#훈련세트로 0번부터 34번째 인덱스까지 데이터까지 사용"
      ]
    },
    {
      "cell_type": "code",
      "execution_count": 18,
      "metadata": {
        "id": "VMaLJ9BYGi86"
      },
      "outputs": [],
      "source": [
        "train_target=fish_target[:35]\n",
        "#훈련세트로 타깃값 중에 0번 부터 34번째 인덱스의 데이터까지 사용"
      ]
    },
    {
      "cell_type": "code",
      "execution_count": 19,
      "metadata": {
        "id": "6p0sgKE-GzwD"
      },
      "outputs": [],
      "source": [
        "test_input=fish_data[35:]\n",
        "#테스트 세트로 35번째 인덱스부터 마지막 인덱스까지 사용"
      ]
    },
    {
      "cell_type": "code",
      "execution_count": 20,
      "metadata": {
        "id": "2MFPo96qIUE6"
      },
      "outputs": [],
      "source": [
        "test_target=fish_target[35:]\n",
        "#테스트 세트로 35번째 인덱스부터 마지막 인덱스까지 사용"
      ]
    },
    {
      "cell_type": "code",
      "execution_count": null,
      "metadata": {
        "id": "onS3QGNkIiRJ"
      },
      "outputs": [],
      "source": [
        "kn=kn.fit(train_input,train_target)\n",
        "#훈련세트, 타깃세트를 집어놓고 훈련\n",
        "kn.score(test_input,test_target)\n",
        "#이제 정확도를 평가\n",
        "\n"
      ]
    },
    {
      "cell_type": "code",
      "source": [
        "kn=kn.fit(train_input,train_target)\n",
        "#훈련세트, 타깃세트를 집어놓고 훈련\n",
        "kn.score(test_input,test_target)\n",
        "#이제 정확도를 평가\n"
      ],
      "metadata": {
        "id": "8ECPiMwBNSYT"
      },
      "execution_count": null,
      "outputs": []
    },
    {
      "cell_type": "code",
      "execution_count": 23,
      "metadata": {
        "id": "Gy7ESpnGJ8KQ"
      },
      "outputs": [],
      "source": [
        "import numpy as np"
      ]
    },
    {
      "cell_type": "code",
      "execution_count": 26,
      "metadata": {
        "id": "LuE8YkcrKMWk"
      },
      "outputs": [],
      "source": [
        "input_arr=np.array(fish_data)\n",
        "target_arr=np.array(fish_target)\n",
        "#생선데이터와 생선타겟를 2차원으로 배열 (좌표계에 표시)"
      ]
    },
    {
      "cell_type": "code",
      "execution_count": null,
      "metadata": {
        "id": "ufbu1n0_K9UR"
      },
      "outputs": [],
      "source": [
        "print(input_arr)\n",
        "#2차원으로 배열된 생선데이터를 출력"
      ]
    },
    {
      "cell_type": "code",
      "execution_count": null,
      "metadata": {
        "id": "4-IaUbs9LJkz"
      },
      "outputs": [],
      "source": [
        "print(fish_data)"
      ]
    },
    {
      "cell_type": "code",
      "execution_count": null,
      "metadata": {
        "id": "lFzbPkQeLn4n"
      },
      "outputs": [],
      "source": [
        "print(input_arr.shape)\n",
        "#샘플의 숫자와 특성 수(변수)를 출력합니다."
      ]
    },
    {
      "cell_type": "code",
      "execution_count": 116,
      "metadata": {
        "id": "D9zHkLpxMuTQ"
      },
      "outputs": [],
      "source": [
        "np.random.seed()\n",
        "#무작위로 섞기\n",
        "index=np.arange(49)\n",
        "#0부터 49까지 1씩 증가하는 변수를 만듭니다.\n",
        "np.random.shuffle(index)\n",
        "#인덱스 섞기"
      ]
    },
    {
      "cell_type": "code",
      "execution_count": null,
      "metadata": {
        "id": "GncCAUcZOG_M"
      },
      "outputs": [],
      "source": [
        "print(index)"
      ]
    },
    {
      "cell_type": "code",
      "execution_count": null,
      "metadata": {
        "id": "avlQbI0BOvek"
      },
      "outputs": [],
      "source": [
        "print(input_arr[[1,3]])\n",
        "#1번째와 3번째 값을 불러오기"
      ]
    },
    {
      "cell_type": "code",
      "execution_count": 33,
      "metadata": {
        "id": "dgBAODHjPErp"
      },
      "outputs": [],
      "source": [
        "train_input=input_arr[index[:35]]\n",
        "train_target=target_arr[index[:35]]\n",
        "#35개의 훈련 데이터 셋, 타겟 셋"
      ]
    },
    {
      "cell_type": "code",
      "execution_count": null,
      "metadata": {
        "id": "mIcEiT-TQOs8"
      },
      "outputs": [],
      "source": [
        "print(input_arr[13],train_input[0])\n",
        "#input_arr의 13번째 값과 학습(train)에 넣은 0번째 수치를 비교"
      ]
    },
    {
      "cell_type": "code",
      "execution_count": 35,
      "metadata": {
        "id": "feFBuGMSRh8F"
      },
      "outputs": [],
      "source": [
        "test_input=input_arr[index[35:]]\n",
        "test_target=target_arr[index[35:]]\n",
        "#35번부터 49번(끝)까지 값들을 테스트 타겟으로 함"
      ]
    },
    {
      "cell_type": "code",
      "execution_count": 36,
      "metadata": {
        "colab": {
          "base_uri": "https://localhost:8080/",
          "height": 467
        },
        "id": "ORykMdVcSIh9",
        "outputId": "0cb6328f-db94-40bb-bec4-2f90179887b9"
      },
      "outputs": [
        {
          "output_type": "execute_result",
          "data": {
            "text/plain": [
              "<function matplotlib.pyplot.show(close=None, block=None)>"
            ]
          },
          "metadata": {},
          "execution_count": 36
        },
        {
          "output_type": "display_data",
          "data": {
            "text/plain": [
              "<Figure size 640x480 with 1 Axes>"
            ],
            "image/png": "[encoded data removed]"
          },
          "metadata": {}
        }
      ],
      "source": [
        "import matplotlib.pyplot as plt\n",
        "#그래프를 그리는 함수를 불러오기\n",
        "\n",
        "# Convert train_input to a NumPy array\n",
        "train_input = np.array(train_input)\n",
        "\n",
        "\n",
        "plt.scatter(train_input[:,0], train_input[:,1])\n",
        "plt.scatter(test_input[:,0], test_input[:,1])\n",
        "plt.xlabel('length')\n",
        "plt.ylabel('weight')\n",
        "plt.show\n",
        "#파란색이 훈련세트 주황색이 테스트 세트\n",
        "#데이터에 도미와 빙어가 모두 섞여 있음"
      ]
    },
    {
      "cell_type": "code",
      "execution_count": null,
      "metadata": {
        "id": "J-krrAVPT0wi"
      },
      "outputs": [],
      "source": [
        "kn=kn.fit(train_input, train_target)\n",
        "#테스트 데이터를 입력\n",
        "kn.score(test_input,test_target)"
      ]
    },
    {
      "cell_type": "code",
      "source": [
        "kn.score(train_input,train_target)"
      ],
      "metadata": {
        "id": "ttyrmVvBFP53"
      },
      "execution_count": null,
      "outputs": []
    },
    {
      "cell_type": "code",
      "source": [
        "len(test_input)"
      ],
      "metadata": {
        "id": "t22iYadNkVrK"
      },
      "execution_count": null,
      "outputs": []
    },
    {
      "cell_type": "code",
      "source": [
        "test_input"
      ],
      "metadata": {
        "id": "KYruZRK4kazh"
      },
      "execution_count": null,
      "outputs": []
    },
    {
      "cell_type": "code",
      "execution_count": null,
      "metadata": {
        "id": "u3b4ycLvUIum"
      },
      "outputs": [],
      "source": [
        "kn.predict(test_input)\n",
        "#자 한번 test_input을 놓고 난 뒤에 예측값 확인"
      ]
    },
    {
      "cell_type": "code",
      "execution_count": null,
      "metadata": {
        "id": "q9XiKTSnURom"
      },
      "outputs": [],
      "source": [
        "test_target"
      ]
    },
    {
      "cell_type": "markdown",
      "metadata": {
        "id": "W3xCz0vr8nHy"
      },
      "source": [
        "## 2번째 프로젝트"
      ]
    },
    {
      "cell_type": "code",
      "execution_count": 88,
      "metadata": {
        "id": "nV4ujl_M8rpx"
      },
      "outputs": [],
      "source": [
        "fish_length = [25.4, 26.3, 26.5, 29.0, 29.0, 29.7, 29.7, 30.0, 30.0, 30.7, 31.0, 31.0,\n",
        "                31.5, 32.0, 32.0, 32.0, 33.0, 33.0, 33.5, 33.5, 34.0, 34.0, 34.5, 35.0,\n",
        "                35.0, 35.0, 35.0, 36.0, 36.0, 37.0, 38.5, 38.5, 39.5, 41.0, 41.0, 9.8,\n",
        "                10.5, 10.6, 11.0, 11.2, 11.3, 11.8, 11.8, 12.0, 12.2, 12.4, 13.0, 14.3, 15.0]\n",
        "#생선의 길이 입력"
      ]
    },
    {
      "cell_type": "code",
      "execution_count": 89,
      "metadata": {
        "id": "1nYDhAgk9oLy"
      },
      "outputs": [],
      "source": [
        "fish_weight = [242.0, 290.0, 340.0, 363.0, 430.0, 450.0, 500.0, 390.0, 450.0, 500.0, 475.0, 500.0,\n",
        "                500.0, 340.0, 600.0, 600.0, 700.0, 700.0, 610.0, 650.0, 575.0, 685.0, 620.0, 680.0,\n",
        "                700.0, 725.0, 720.0, 714.0, 850.0, 1000.0, 920.0, 955.0, 925.0, 975.0, 950.0, 6.7,\n",
        "                7.5, 7.0, 9.7, 9.8, 8.7, 10.0, 9.9, 9.8, 12.2, 13.4, 12.2, 19.7, 19.9]\n",
        "#생선의 무게 입력"
      ]
    },
    {
      "cell_type": "code",
      "execution_count": 90,
      "metadata": {
        "id": "Tf1qG68j976V"
      },
      "outputs": [],
      "source": [
        "import numpy as np"
      ]
    },
    {
      "cell_type": "code",
      "execution_count": null,
      "metadata": {
        "id": "7xJOUaMA-MWW"
      },
      "outputs": [],
      "source": [
        "np.column_stack(([1,2,3],[4,5,6]))"
      ]
    },
    {
      "cell_type": "code",
      "execution_count": 92,
      "metadata": {
        "id": "D6YZgUJJ-lRi"
      },
      "outputs": [],
      "source": [
        "fish_data=np.column_stack((fish_length,fish_weight))\n",
        "#데이터를 2개를 합치고 이것을 배열의 형태로한다. 즉 2개의 변수를 연결한 데이터로 만든다."
      ]
    },
    {
      "cell_type": "code",
      "execution_count": null,
      "metadata": {
        "id": "Mcm4nwA-_G86"
      },
      "outputs": [],
      "source": [
        "print(fish_data[:5])\n",
        "#내용을 확인"
      ]
    },
    {
      "cell_type": "code",
      "execution_count": null,
      "metadata": {
        "id": "-0O-i9Nv_XNc"
      },
      "outputs": [],
      "source": [
        "#물고기 종류를 0과 1로 했는데, 보다 쉽게게 np.one라는 함수를 사용\n",
        "print(np.ones(5))\n",
        "#1이 5개"
      ]
    },
    {
      "cell_type": "code",
      "execution_count": 95,
      "metadata": {
        "id": "JC5SagEH_oxH"
      },
      "outputs": [],
      "source": [
        "fish_target=np.concatenate((np.ones(35),np.zeros(14)))\n",
        "#1이 35개 0이 14인 데이터를 만듦\n",
        "#stack과는 달리 길게 데이터를 늘여뜨림 이런 것을 튜플이라고 한다."
      ]
    },
    {
      "cell_type": "code",
      "execution_count": null,
      "metadata": {
        "id": "f2C-PkAb_zrZ"
      },
      "outputs": [],
      "source": [
        "print(fish_target)\n",
        "#내용확인"
      ]
    },
    {
      "cell_type": "code",
      "execution_count": 97,
      "metadata": {
        "id": "Gqg96nN4_8DC"
      },
      "outputs": [],
      "source": [
        "from sklearn.model_selection import train_test_split\n",
        "#train_test_split함수 -> 적정한 비율로 훈련세트와 테스트 세트를 나누어 준다."
      ]
    },
    {
      "cell_type": "code",
      "execution_count": 98,
      "metadata": {
        "id": "o71g57F7A2Ck"
      },
      "outputs": [],
      "source": [
        "train_input, test_input, train_target, test_target = train_test_split(fish_data, fish_target,stratify=fish_target , random_state=40)\n",
        "#4개 값으로 된 데이터 셑을 묶어서 훈련(train)데이터 셑 테스트 데이터 셑으로 나눈다. 그리고 랜덤하게 바꾸는데 42라는 특정한 패턴으로 진행"
      ]
    },
    {
      "cell_type": "code",
      "source": [
        "test_target"
      ],
      "metadata": {
        "id": "-J-P-ODEZqyS"
      },
      "execution_count": null,
      "outputs": []
    },
    {
      "cell_type": "code",
      "source": [
        "fish_data"
      ],
      "metadata": {
        "id": "DwfdiKsFtWYs"
      },
      "execution_count": null,
      "outputs": []
    },
    {
      "cell_type": "code",
      "execution_count": null,
      "metadata": {
        "id": "9dfjn41jBRzU"
      },
      "outputs": [],
      "source": [
        "print(train_input.shape, test_input.shape)\n",
        "#훈련(train)과 테스트할 데이터의 특징\n",
        "#각각 36,13개 값, 공통적으로  2개 변수(길이와 무게)"
      ]
    },
    {
      "cell_type": "code",
      "execution_count": null,
      "metadata": {
        "id": "YVTFciH9CCyK"
      },
      "outputs": [],
      "source": [
        "print(train_target.shape, test_target.shape)\n",
        "#훈련할 타겟 값과 테스트 값 특징\n",
        "#각각 36개, 13개 값"
      ]
    },
    {
      "cell_type": "code",
      "execution_count": null,
      "metadata": {
        "id": "QosA4P-7CSEW"
      },
      "outputs": [],
      "source": [
        "print(test_target)\n",
        "#테스트 타켓의 값들 빙어(0)가 3개, 도미(1)가 10개로 빙어가 다소 부족"
      ]
    },
    {
      "cell_type": "code",
      "execution_count": 106,
      "metadata": {
        "id": "XfdIGWeBCY_s"
      },
      "outputs": [],
      "source": [
        "train_input, test_input, train_target, test_target = train_test_split(fish_data, fish_target, random_state=100)\n",
        "# 타겟값을 조절 : stratify-> 실제 클래스의 비율에 맞게 그룹을 나눠준다.\n",
        "# random_state=42를 35~42까지 입력하고 모형의 정확도가 달라지는지 확인"
      ]
    },
    {
      "cell_type": "code",
      "execution_count": null,
      "metadata": {
        "id": "pPtjT326Cp_E"
      },
      "outputs": [],
      "source": [
        "test_target\n",
        "# 빙어4마리 도미 8마리"
      ]
    },
    {
      "cell_type": "code",
      "source": [
        "train_target"
      ],
      "metadata": {
        "id": "ntxHFZh5JuyD"
      },
      "execution_count": null,
      "outputs": []
    },
    {
      "cell_type": "code",
      "source": [
        "from sklearn.neighbors import KNeighborsClassifier\n",
        "kn=KNeighborsClassifier()\n"
      ],
      "metadata": {
        "id": "pCzND6zozaQX"
      },
      "execution_count": 110,
      "outputs": []
    },
    {
      "cell_type": "code",
      "source": [
        "kn=kn.fit(train_input, train_target)\n",
        "#테스트 데이터를 입력\n",
        "kn.score(test_input,test_target)"
      ],
      "metadata": {
        "id": "y1Ep_cESLbdA"
      },
      "execution_count": null,
      "outputs": []
    },
    {
      "cell_type": "code",
      "source": [
        "kn.score(train_input,train_target)"
      ],
      "metadata": {
        "id": "RMUOrUj5LkHW"
      },
      "execution_count": null,
      "outputs": []
    },
    {
      "cell_type": "code",
      "source": [
        "train_input, test_input, train_target, test_target = train_test_split(fish_data, fish_target, stratify=fish_target, random_state=30)\n",
        "# 타겟값을 조절 : stratify-> 실제 클래스의 비율에 맞게 그룹을 나눠준다.\n",
        "# random_state=42를 35~42까지 입력하고 모형의 정확도가 달라지는지 확인"
      ],
      "metadata": {
        "id": "LNwhEo-6n3TW"
      },
      "execution_count": 113,
      "outputs": []
    },
    {
      "cell_type": "code",
      "source": [
        "test_target\n",
        "# 빙어4마리 도미 8마리"
      ],
      "metadata": {
        "id": "DoBlFmWBn7yU"
      },
      "execution_count": null,
      "outputs": []
    },
    {
      "cell_type": "markdown",
      "metadata": {
        "id": "aMUU83ZxDA_g"
      },
      "source": [
        "##수상한 도미 한 마리##\n"
      ]
    },
    {
      "cell_type": "code",
      "execution_count": 65,
      "metadata": {
        "colab": {
          "base_uri": "https://localhost:8080/"
        },
        "id": "gN0CbyeuDFyq",
        "outputId": "fbe80dad-af5b-4e55-a425-a73aef4ec1fb"
      },
      "outputs": [
        {
          "output_type": "execute_result",
          "data": {
            "text/plain": [
              "1.0"
            ]
          },
          "metadata": {},
          "execution_count": 65
        }
      ],
      "source": [
        "from sklearn.neighbors import KNeighborsClassifier\n",
        "\n",
        "kn = KNeighborsClassifier()\n",
        "kn.fit(train_input, train_target)\n",
        "kn.score(test_input, test_target)\n",
        "#도미/빙어 분류모델을 불러오고 성능을 검증"
      ]
    },
    {
      "cell_type": "code",
      "execution_count": 66,
      "metadata": {
        "colab": {
          "base_uri": "https://localhost:8080/"
        },
        "id": "z_Wd1Ue5Du4T",
        "outputId": "19213a59-9c7e-46d5-8dc7-7a00138589c3"
      },
      "outputs": [
        {
          "output_type": "stream",
          "name": "stdout",
          "text": [
            "[1.]\n"
          ]
        }
      ],
      "source": [
        "print(kn.predict([[2500, 1500]]))\n",
        "#길어 25cm 무게 150g인 것은 도미(1)인가? 빙어(0)인가? : 빙어"
      ]
    },
    {
      "cell_type": "code",
      "execution_count": 67,
      "metadata": {
        "id": "ynxbtcmhDw1z"
      },
      "outputs": [],
      "source": [
        "import matplotlib.pyplot as plt\n",
        "#차트로 내용을 확인"
      ]
    },
    {
      "cell_type": "code",
      "execution_count": 68,
      "metadata": {
        "colab": {
          "base_uri": "https://localhost:8080/",
          "height": 449
        },
        "id": "fl7uvmPNDzRH",
        "outputId": "b2e008bd-a3e6-4165-894e-455451c9ad21"
      },
      "outputs": [
        {
          "output_type": "display_data",
          "data": {
            "text/plain": [
              "<Figure size 640x480 with 1 Axes>"
            ],
            "image/png": "[encoded data removed]"
          },
          "metadata": {}
        }
      ],
      "source": [
        "plt.scatter(train_input[:,0], train_input[:,1])\n",
        "plt.scatter(25, 150, marker='^')\n",
        "plt.xlabel('length')\n",
        "plt.ylabel('weight')\n",
        "plt.show()\n",
        "#25, 150에 해당하는 것을 표시한다."
      ]
    },
    {
      "cell_type": "code",
      "execution_count": 70,
      "metadata": {
        "id": "lThsLzU5D2OW"
      },
      "outputs": [],
      "source": [
        "distances, indexes = kn.kneighbors([[25, 1150]])\n",
        "#왜 25cm, 150g인 도미를 빙어로 판단했는지 살펴본다."
      ]
    },
    {
      "cell_type": "code",
      "execution_count": 71,
      "metadata": {
        "colab": {
          "base_uri": "https://localhost:8080/",
          "height": 449
        },
        "id": "52-1mkQAD31c",
        "outputId": "5fb60bfc-b063-45e6-98e9-3ba0bbc976a0"
      },
      "outputs": [
        {
          "output_type": "display_data",
          "data": {
            "text/plain": [
              "<Figure size 640x480 with 1 Axes>"
            ],
            "image/png": "[encoded data removed]"
          },
          "metadata": {}
        }
      ],
      "source": [
        "plt.scatter(train_input[:,0], train_input[:,1])\n",
        "plt.scatter(25, 150, marker='^')\n",
        "plt.scatter(train_input[indexes,0], train_input[indexes,1], marker='D')\n",
        "plt.xlabel('length')\n",
        "plt.ylabel('weight')\n",
        "plt.show()\n",
        "#삼각형(마커)에 가까운 5개에 해당하는 것들의 학습결과 : 빙어로 판단"
      ]
    },
    {
      "cell_type": "code",
      "execution_count": null,
      "metadata": {
        "id": "p-UaZuLMD68W"
      },
      "outputs": [],
      "source": [
        "print(train_input[indexes])\n",
        "# 마커 앞에 있는 4개 생선"
      ]
    },
    {
      "cell_type": "code",
      "execution_count": null,
      "metadata": {
        "id": "O2RU3VDfD8s_"
      },
      "outputs": [],
      "source": [
        "print(train_target[indexes])\n",
        "# 실제로 보니까. 4개는 빙어이고 나머지 1개는 도미"
      ]
    },
    {
      "cell_type": "code",
      "execution_count": null,
      "metadata": {
        "id": "ytERtiqpD-oo"
      },
      "outputs": [],
      "source": [
        "print(distances)\n",
        "# 거리를 측정\n",
        "# 실제로 빙어에 해당하는 값들은 130이다."
      ]
    },
    {
      "cell_type": "markdown",
      "metadata": {
        "id": "r_svFTcAEBUY"
      },
      "source": [
        "기준 맞추기"
      ]
    },
    {
      "cell_type": "code",
      "execution_count": 75,
      "metadata": {
        "colab": {
          "base_uri": "https://localhost:8080/",
          "height": 449
        },
        "id": "qR-xTBYKLjAW",
        "outputId": "8735d9af-d43c-4ec0-ad7b-328ab4e5f4f5"
      },
      "outputs": [
        {
          "output_type": "display_data",
          "data": {
            "text/plain": [
              "<Figure size 640x480 with 1 Axes>"
            ],
            "image/png": "[encoded data removed]"
          },
          "metadata": {}
        }
      ],
      "source": [
        "#원래 그림\n",
        "plt.scatter(train_input[:,0], train_input[:,1])\n",
        "plt.scatter(25, 150, marker='^')\n",
        "plt.scatter(train_input[indexes,0], train_input[indexes,1], marker='D')\n",
        "plt.xlabel('length')\n",
        "plt.ylabel('weight')\n",
        "plt.show()"
      ]
    },
    {
      "cell_type": "code",
      "execution_count": 76,
      "metadata": {
        "colab": {
          "base_uri": "https://localhost:8080/",
          "height": 449
        },
        "id": "QpwzKWF_EBJE",
        "outputId": "96a202b1-e4b9-45bb-e861-0bf0992d4f05"
      },
      "outputs": [
        {
          "output_type": "display_data",
          "data": {
            "text/plain": [
              "<Figure size 640x480 with 1 Axes>"
            ],
            "image/png": "[encoded data removed]"
          },
          "metadata": {}
        }
      ],
      "source": [
        "#바꾼그림\n",
        "plt.scatter(train_input[:,0], train_input[:,1])\n",
        "plt.scatter(25, 150, marker='^')\n",
        "plt.scatter(train_input[indexes,0], train_input[indexes,1], marker='D')\n",
        "plt.xlim((0, 1000))\n",
        "#구간을 1000으로 동일하게 해서 본다\n",
        "plt.xlabel('length')\n",
        "plt.ylabel('weight')\n",
        "plt.show()"
      ]
    },
    {
      "cell_type": "code",
      "execution_count": 77,
      "metadata": {
        "id": "E4TgX5sHD_u6"
      },
      "outputs": [],
      "source": [
        "#데이터의 원래 값이 아니라 표준화된 값으로 계산해서 분류한다.\n",
        "mean = np.mean(train_input, axis=0)\n",
        "std = np.std(train_input, axis=0)"
      ]
    },
    {
      "cell_type": "code",
      "execution_count": null,
      "metadata": {
        "id": "gc6wIYO0ELAt"
      },
      "outputs": [],
      "source": [
        "print(mean, std)"
      ]
    },
    {
      "cell_type": "code",
      "execution_count": 79,
      "metadata": {
        "id": "S7sGpUMmENud"
      },
      "outputs": [],
      "source": [
        "train_scaled = (train_input - mean) / std\n",
        "#표준화 예시"
      ]
    },
    {
      "cell_type": "code",
      "execution_count": null,
      "metadata": {
        "id": "pgJQOq1IENin"
      },
      "outputs": [],
      "source": [
        "train_scaled"
      ]
    },
    {
      "cell_type": "markdown",
      "metadata": {
        "id": "zpm9nI09EyA1"
      },
      "source": [
        "전처리 데이터로 모델 훈련하기"
      ]
    },
    {
      "cell_type": "code",
      "execution_count": 81,
      "metadata": {
        "colab": {
          "base_uri": "https://localhost:8080/",
          "height": 449
        },
        "id": "Or96upp-E2Z1",
        "outputId": "f0005e68-4c0a-46df-e25f-373c3d5069d1"
      },
      "outputs": [
        {
          "output_type": "display_data",
          "data": {
            "text/plain": [
              "<Figure size 640x480 with 1 Axes>"
            ],
            "image/png": "[encoded data removed]"
          },
          "metadata": {}
        }
      ],
      "source": [
        "plt.scatter(train_scaled[:,0], train_scaled[:,1])\n",
        "plt.scatter(25, 150, marker='^')\n",
        "plt.xlabel('length')\n",
        "plt.ylabel('weight')\n",
        "plt.show()\n",
        "#표준화된 데이터를 가지고 데이터를 봄\n",
        "#25,150의 값도 마찬가지로 변환을 해야함"
      ]
    },
    {
      "cell_type": "code",
      "execution_count": 82,
      "metadata": {
        "id": "0Pa-sEjNE4X4"
      },
      "outputs": [],
      "source": [
        "new = ([25, 150] - mean) / std\n",
        "#수상한 도미(마커)에 해당 하는 값에 대해서 표준화"
      ]
    },
    {
      "cell_type": "code",
      "source": [
        "new"
      ],
      "metadata": {
        "colab": {
          "base_uri": "https://localhost:8080/"
        },
        "id": "pk0n93knTDEN",
        "outputId": "ecef870c-447b-4123-87f5-18b094e86f99"
      },
      "execution_count": 83,
      "outputs": [
        {
          "output_type": "execute_result",
          "data": {
            "text/plain": [
              "array([-0.20160666, -0.93437391])"
            ]
          },
          "metadata": {},
          "execution_count": 83
        }
      ]
    },
    {
      "cell_type": "code",
      "execution_count": 84,
      "metadata": {
        "colab": {
          "base_uri": "https://localhost:8080/",
          "height": 449
        },
        "id": "AtF_FMfsE6R0",
        "outputId": "39ff2ff6-16e5-4aeb-8153-7f61ca171c8a"
      },
      "outputs": [
        {
          "output_type": "display_data",
          "data": {
            "text/plain": [
              "<Figure size 640x480 with 1 Axes>"
            ],
            "image/png": "[encoded data removed]"
          },
          "metadata": {}
        }
      ],
      "source": [
        "plt.scatter(train_scaled[:,0], train_scaled[:,1])\n",
        "plt.scatter(new[0], new[1], marker='^')\n",
        "plt.xlabel('length')\n",
        "plt.ylabel('weight')\n",
        "plt.show()\n",
        "#표준화 한 값끼리 비교"
      ]
    },
    {
      "cell_type": "code",
      "execution_count": null,
      "metadata": {
        "id": "fzhCNHmKE8Ga"
      },
      "outputs": [],
      "source": [
        "kn.fit(train_scaled, train_target)\n",
        "#표준화한 데이터를 가지고 학습"
      ]
    },
    {
      "cell_type": "code",
      "execution_count": 120,
      "metadata": {
        "id": "FFc6xeBUE9xr"
      },
      "outputs": [],
      "source": [
        "test_scaled = (test_input - mean) / std\n",
        "#테스트 할 값들에 대해서도 표준화"
      ]
    },
    {
      "cell_type": "code",
      "execution_count": null,
      "metadata": {
        "id": "HsZtbfJgE_w5"
      },
      "outputs": [],
      "source": [
        "kn.score(test_scaled, test_target)\n",
        "#정확도는 불변"
      ]
    },
    {
      "cell_type": "code",
      "execution_count": null,
      "metadata": {
        "id": "zY_-MSG9FCMx"
      },
      "outputs": [],
      "source": [
        "print(kn.predict([new]))\n",
        "#63번째 행과 비교"
      ]
    },
    {
      "cell_type": "code",
      "execution_count": null,
      "metadata": {
        "id": "oqoxWY68FDt1"
      },
      "outputs": [],
      "source": [
        "distances, indexes = kn.kneighbors([new])"
      ]
    },
    {
      "cell_type": "code",
      "execution_count": null,
      "metadata": {
        "id": "j3ZIC549FFlD"
      },
      "outputs": [],
      "source": [
        "plt.scatter(train_scaled[:,0], train_scaled[:,1])\n",
        "plt.scatter(new[0], new[1], marker='^')\n",
        "plt.scatter(train_scaled[indexes,0], train_scaled[indexes,1], marker='D')\n",
        "plt.xlabel('length')\n",
        "plt.ylabel('weight')\n",
        "plt.show()\n",
        "#인접한 물고기들의 정확도 비교"
      ]
    }
  ],
  "metadata": {
    "colab": {
      "provenance": []
    },
    "kernelspec": {
      "display_name": "Python 3",
      "name": "python3"
    },
    "language_info": {
      "name": "python"
    }
  },
  "nbformat": 4,
  "nbformat_minor": 0
}