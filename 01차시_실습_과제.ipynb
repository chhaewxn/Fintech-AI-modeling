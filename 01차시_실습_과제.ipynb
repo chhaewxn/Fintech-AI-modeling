{
  "nbformat": 4,
  "nbformat_minor": 0,
  "metadata": {
    "colab": {
      "provenance": []
    },
    "kernelspec": {
      "name": "python3",
      "display_name": "Python 3"
    },
    "language_info": {
      "name": "python"
    }
  },
  "cells": [
    {
      "cell_type": "markdown",
      "source": [
        "###(과제) 3.아마존(AMZN)"
      ],
      "metadata": {
        "id": "H32bPREDlrcf"
      }
    },
    {
      "cell_type": "code",
      "source": [
        "#작업에 필요한 라이브러리(데이터 받기, 데이터 포멧변경, 그래프 작성)\n",
        "import yfinance as yf\n",
        "import pandas as pd\n",
        "import matplotlib.pyplot as plt"
      ],
      "metadata": {
        "id": "_VHzyysZlxQL"
      },
      "execution_count": 17,
      "outputs": []
    },
    {
      "cell_type": "code",
      "source": [
        "# 페이팔 주식 데이터를 가져옵니다.\n",
        "start_date = '2015-09-01'\n",
        "end_date = '2023-06-30'\n",
        "ticker = 'AMZN'\n",
        "data_amzn = yf.download(ticker, start=start_date, end=end_date)\n",
        "\n",
        "# 데이터프레임으로 변환합니다.\n",
        "df_amzn = pd.DataFrame(data_amzn['Close'])\n",
        "df_amzn.columns = [ticker + 'price']\n",
        "df_amzn.index.name = 'date'\n",
        "\n",
        "# 시작일 이후의 데이터만 필터링합니다.\n",
        "df_amzn = df_amzn[df_amzn.index >= '2015-09-01']\n",
        "\n",
        "\n",
        "# 기준 금리 데이터 : 미리보기\n",
        "df_amzn"
      ],
      "metadata": {
        "id": "f4KBVY2Kl3tf",
        "colab": {
          "base_uri": "https://localhost:8080/",
          "height": 473
        },
        "outputId": "5585cb43-612b-4ab7-d709-f0cd221348dc"
      },
      "execution_count": 18,
      "outputs": [
        {
          "output_type": "stream",
          "name": "stdout",
          "text": [
            "\r[*********************100%%**********************]  1 of 1 completed\n"
          ]
        },
        {
          "output_type": "execute_result",
          "data": {
            "text/plain": [
              "             AMZNprice\n",
              "date                  \n",
              "2015-09-01   24.827000\n",
              "2015-09-02   25.527500\n",
              "2015-09-03   25.236000\n",
              "2015-09-04   24.950001\n",
              "2015-09-08   25.877001\n",
              "...                ...\n",
              "2023-06-23  129.330002\n",
              "2023-06-26  127.330002\n",
              "2023-06-27  129.179993\n",
              "2023-06-28  129.039993\n",
              "2023-06-29  127.900002\n",
              "\n",
              "[1970 rows x 1 columns]"
            ],
            "text/html": [
              "\n",
              "  <div id=\"df-05472d45-a4c7-4e4b-989f-c669150b6270\" class=\"colab-df-container\">\n",
              "    <div>\n",
              "<style scoped>\n",
              "    .dataframe tbody tr th:only-of-type {\n",
              "        vertical-align: middle;\n",
              "    }\n",
              "\n",
              "    .dataframe tbody tr th {\n",
              "        vertical-align: top;\n",
              "    }\n",
              "\n",
              "    .dataframe thead th {\n",
              "        text-align: right;\n",
              "    }\n",
              "</style>\n",
              "<table border=\"1\" class=\"dataframe\">\n",
              "  <thead>\n",
              "    <tr style=\"text-align: right;\">\n",
              "      <th></th>\n",
              "      <th>AMZNprice</th>\n",
              "    </tr>\n",
              "    <tr>\n",
              "      <th>date</th>\n",
              "      <th></th>\n",
              "    </tr>\n",
              "  </thead>\n",
              "  <tbody>\n",
              "    <tr>\n",
              "      <th>2015-09-01</th>\n",
              "      <td>24.827000</td>\n",
              "    </tr>\n",
              "    <tr>\n",
              "      <th>2015-09-02</th>\n",
              "      <td>25.527500</td>\n",
              "    </tr>\n",
              "    <tr>\n",
              "      <th>2015-09-03</th>\n",
              "      <td>25.236000</td>\n",
              "    </tr>\n",
              "    <tr>\n",
              "      <th>2015-09-04</th>\n",
              "      <td>24.950001</td>\n",
              "    </tr>\n",
              "    <tr>\n",
              "      <th>2015-09-08</th>\n",
              "      <td>25.877001</td>\n",
              "    </tr>\n",
              "    <tr>\n",
              "      <th>...</th>\n",
              "      <td>...</td>\n",
              "    </tr>\n",
              "    <tr>\n",
              "      <th>2023-06-23</th>\n",
              "      <td>129.330002</td>\n",
              "    </tr>\n",
              "    <tr>\n",
              "      <th>2023-06-26</th>\n",
              "      <td>127.330002</td>\n",
              "    </tr>\n",
              "    <tr>\n",
              "      <th>2023-06-27</th>\n",
              "      <td>129.179993</td>\n",
              "    </tr>\n",
              "    <tr>\n",
              "      <th>2023-06-28</th>\n",
              "      <td>129.039993</td>\n",
              "    </tr>\n",
              "    <tr>\n",
              "      <th>2023-06-29</th>\n",
              "      <td>127.900002</td>\n",
              "    </tr>\n",
              "  </tbody>\n",
              "</table>\n",
              "<p>1970 rows × 1 columns</p>\n",
              "</div>\n",
              "    <div class=\"colab-df-buttons\">\n",
              "\n",
              "  <div class=\"colab-df-container\">\n",
              "    <button class=\"colab-df-convert\" onclick=\"convertToInteractive('df-05472d45-a4c7-4e4b-989f-c669150b6270')\"\n",
              "            title=\"Convert this dataframe to an interactive table.\"\n",
              "            style=\"display:none;\">\n",
              "\n",
              "  <svg xmlns=\"http://www.w3.org/2000/svg\" height=\"24px\" viewBox=\"0 -960 960 960\">\n",
              "    <path d=\"M120-120v-720h720v720H120Zm60-500h600v-160H180v160Zm220 220h160v-160H400v160Zm0 220h160v-160H400v160ZM180-400h160v-160H180v160Zm440 0h160v-160H620v160ZM180-180h160v-160H180v160Zm440 0h160v-160H620v160Z\"/>\n",
              "  </svg>\n",
              "    </button>\n",
              "\n",
              "  <style>\n",
              "    .colab-df-container {\n",
              "      display:flex;\n",
              "      gap: 12px;\n",
              "    }\n",
              "\n",
              "    .colab-df-convert {\n",
              "      background-color: #E8F0FE;\n",
              "      border: none;\n",
              "      border-radius: 50%;\n",
              "      cursor: pointer;\n",
              "      display: none;\n",
              "      fill: #1967D2;\n",
              "      height: 32px;\n",
              "      padding: 0 0 0 0;\n",
              "      width: 32px;\n",
              "    }\n",
              "\n",
              "    .colab-df-convert:hover {\n",
              "      background-color: #E2EBFA;\n",
              "      box-shadow: 0px 1px 2px rgba(60, 64, 67, 0.3), 0px 1px 3px 1px rgba(60, 64, 67, 0.15);\n",
              "      fill: #174EA6;\n",
              "    }\n",
              "\n",
              "    .colab-df-buttons div {\n",
              "      margin-bottom: 4px;\n",
              "    }\n",
              "\n",
              "    [theme=dark] .colab-df-convert {\n",
              "      background-color: #3B4455;\n",
              "      fill: #D2E3FC;\n",
              "    }\n",
              "\n",
              "    [theme=dark] .colab-df-convert:hover {\n",
              "      background-color: #434B5C;\n",
              "      box-shadow: 0px 1px 3px 1px rgba(0, 0, 0, 0.15);\n",
              "      filter: drop-shadow(0px 1px 2px rgba(0, 0, 0, 0.3));\n",
              "      fill: #FFFFFF;\n",
              "    }\n",
              "  </style>\n",
              "\n",
              "    <script>\n",
              "      const buttonEl =\n",
              "        document.querySelector('#df-05472d45-a4c7-4e4b-989f-c669150b6270 button.colab-df-convert');\n",
              "      buttonEl.style.display =\n",
              "        google.colab.kernel.accessAllowed ? 'block' : 'none';\n",
              "\n",
              "      async function convertToInteractive(key) {\n",
              "        const element = document.querySelector('#df-05472d45-a4c7-4e4b-989f-c669150b6270');\n",
              "        const dataTable =\n",
              "          await google.colab.kernel.invokeFunction('convertToInteractive',\n",
              "                                                    [key], {});\n",
              "        if (!dataTable) return;\n",
              "\n",
              "        const docLinkHtml = 'Like what you see? Visit the ' +\n",
              "          '<a target=\"_blank\" href=https://colab.research.google.com/notebooks/data_table.ipynb>data table notebook</a>'\n",
              "          + ' to learn more about interactive tables.';\n",
              "        element.innerHTML = '';\n",
              "        dataTable['output_type'] = 'display_data';\n",
              "        await google.colab.output.renderOutput(dataTable, element);\n",
              "        const docLink = document.createElement('div');\n",
              "        docLink.innerHTML = docLinkHtml;\n",
              "        element.appendChild(docLink);\n",
              "      }\n",
              "    </script>\n",
              "  </div>\n",
              "\n",
              "\n",
              "<div id=\"df-44bec807-3c7d-4287-904d-cac0b431c732\">\n",
              "  <button class=\"colab-df-quickchart\" onclick=\"quickchart('df-44bec807-3c7d-4287-904d-cac0b431c732')\"\n",
              "            title=\"Suggest charts.\"\n",
              "            style=\"display:none;\">\n",
              "\n",
              "<svg xmlns=\"http://www.w3.org/2000/svg\" height=\"24px\"viewBox=\"0 0 24 24\"\n",
              "     width=\"24px\">\n",
              "    <g>\n",
              "        <path d=\"M19 3H5c-1.1 0-2 .9-2 2v14c0 1.1.9 2 2 2h14c1.1 0 2-.9 2-2V5c0-1.1-.9-2-2-2zM9 17H7v-7h2v7zm4 0h-2V7h2v10zm4 0h-2v-4h2v4z\"/>\n",
              "    </g>\n",
              "</svg>\n",
              "  </button>\n",
              "\n",
              "<style>\n",
              "  .colab-df-quickchart {\n",
              "    background-color: #E8F0FE;\n",
              "    border: none;\n",
              "    border-radius: 50%;\n",
              "    cursor: pointer;\n",
              "    display: none;\n",
              "    fill: #1967D2;\n",
              "    height: 32px;\n",
              "    padding: 0 0 0 0;\n",
              "    width: 32px;\n",
              "  }\n",
              "\n",
              "  .colab-df-quickchart:hover {\n",
              "    background-color: #E2EBFA;\n",
              "    box-shadow: 0px 1px 2px rgba(60, 64, 67, 0.3), 0px 1px 3px 1px rgba(60, 64, 67, 0.15);\n",
              "    fill: #174EA6;\n",
              "  }\n",
              "\n",
              "  [theme=dark] .colab-df-quickchart {\n",
              "    background-color: #3B4455;\n",
              "    fill: #D2E3FC;\n",
              "  }\n",
              "\n",
              "  [theme=dark] .colab-df-quickchart:hover {\n",
              "    background-color: #434B5C;\n",
              "    box-shadow: 0px 1px 3px 1px rgba(0, 0, 0, 0.15);\n",
              "    filter: drop-shadow(0px 1px 2px rgba(0, 0, 0, 0.3));\n",
              "    fill: #FFFFFF;\n",
              "  }\n",
              "</style>\n",
              "\n",
              "  <script>\n",
              "    async function quickchart(key) {\n",
              "      const charts = await google.colab.kernel.invokeFunction(\n",
              "          'suggestCharts', [key], {});\n",
              "    }\n",
              "    (() => {\n",
              "      let quickchartButtonEl =\n",
              "        document.querySelector('#df-44bec807-3c7d-4287-904d-cac0b431c732 button');\n",
              "      quickchartButtonEl.style.display =\n",
              "        google.colab.kernel.accessAllowed ? 'block' : 'none';\n",
              "    })();\n",
              "  </script>\n",
              "</div>\n",
              "    </div>\n",
              "  </div>\n"
            ]
          },
          "metadata": {},
          "execution_count": 18
        }
      ]
    },
    {
      "cell_type": "code",
      "source": [
        "#주가 데이터를 CSV 파일로 저장\n",
        "\n",
        "# CSV 파일로 저장\n",
        "from google.colab import files\n",
        "\n",
        "df_amzn.to_csv('amzn.csv', encoding='utf-8-sig')\n",
        "\n",
        "# 파일을 다운로드합니다.\n",
        "files.download('amzn.csv')"
      ],
      "metadata": {
        "colab": {
          "base_uri": "https://localhost:8080/",
          "height": 17
        },
        "id": "VkRAdk0TnOWi",
        "outputId": "52101817-a8fc-4623-eead-ba56ec665903"
      },
      "execution_count": null,
      "outputs": [
        {
          "output_type": "display_data",
          "data": {
            "text/plain": [
              "<IPython.core.display.Javascript object>"
            ],
            "application/javascript": [
              "\n",
              "    async function download(id, filename, size) {\n",
              "      if (!google.colab.kernel.accessAllowed) {\n",
              "        return;\n",
              "      }\n",
              "      const div = document.createElement('div');\n",
              "      const label = document.createElement('label');\n",
              "      label.textContent = `Downloading \"${filename}\": `;\n",
              "      div.appendChild(label);\n",
              "      const progress = document.createElement('progress');\n",
              "      progress.max = size;\n",
              "      div.appendChild(progress);\n",
              "      document.body.appendChild(div);\n",
              "\n",
              "      const buffers = [];\n",
              "      let downloaded = 0;\n",
              "\n",
              "      const channel = await google.colab.kernel.comms.open(id);\n",
              "      // Send a message to notify the kernel that we're ready.\n",
              "      channel.send({})\n",
              "\n",
              "      for await (const message of channel.messages) {\n",
              "        // Send a message to notify the kernel that we're ready.\n",
              "        channel.send({})\n",
              "        if (message.buffers) {\n",
              "          for (const buffer of message.buffers) {\n",
              "            buffers.push(buffer);\n",
              "            downloaded += buffer.byteLength;\n",
              "            progress.value = downloaded;\n",
              "          }\n",
              "        }\n",
              "      }\n",
              "      const blob = new Blob(buffers, {type: 'application/binary'});\n",
              "      const a = document.createElement('a');\n",
              "      a.href = window.URL.createObjectURL(blob);\n",
              "      a.download = filename;\n",
              "      div.appendChild(a);\n",
              "      a.click();\n",
              "      div.remove();\n",
              "    }\n",
              "  "
            ]
          },
          "metadata": {}
        },
        {
          "output_type": "display_data",
          "data": {
            "text/plain": [
              "<IPython.core.display.Javascript object>"
            ],
            "application/javascript": [
              "download(\"download_37483eb6-261b-4647-9388-81c157fecb1a\", \"amzn.csv\", 57084)"
            ]
          },
          "metadata": {}
        }
      ]
    },
    {
      "cell_type": "code",
      "source": [
        "# 차트(그래프) 작성\n",
        "plt.figure(figsize=(10, 6))\n",
        "plt.plot(df_amzn)\n",
        "plt.title(ticker + ' price')\n",
        "plt.xlabel('date')\n",
        "plt.ylabel('price($)')\n",
        "plt.grid(True)\n",
        "plt.show()"
      ],
      "metadata": {
        "colab": {
          "base_uri": "https://localhost:8080/",
          "height": 564
        },
        "id": "dzdEc-xQnUhy",
        "outputId": "275f1e18-ea18-4caa-bf78-6f05d02fa42c"
      },
      "execution_count": 19,
      "outputs": [
        {
          "output_type": "display_data",
          "data": {
            "text/plain": [
              "<Figure size 1000x600 with 1 Axes>"
            ],
            "image/png": "[encoded data removed]"
          },
          "metadata": {}
        }
      ]
    },
    {
      "cell_type": "code",
      "source": [],
      "metadata": {
        "id": "NNIwPu0mnaVo"
      },
      "execution_count": null,
      "outputs": []
    },
    {
      "cell_type": "markdown",
      "source": [
        "  ## 2. FRED (Federal Reserve Economic Data) API를 사용해서 데이터를 받기\n",
        "  "
      ],
      "metadata": {
        "id": "CHw2vm98JIbk"
      }
    },
    {
      "cell_type": "markdown",
      "source": [
        "### 1. Fred API를 Colab에 설치하기\n"
      ],
      "metadata": {
        "id": "h1GAQqurPNl0"
      }
    },
    {
      "cell_type": "code",
      "execution_count": 27,
      "metadata": {
        "colab": {
          "base_uri": "https://localhost:8080/"
        },
        "id": "KzDsKAZiIwZD",
        "outputId": "54a075ef-04d1-4531-b544-abdb7b30e2b4"
      },
      "outputs": [
        {
          "output_type": "stream",
          "name": "stdout",
          "text": [
            "Requirement already satisfied: fredapi in /usr/local/lib/python3.10/dist-packages (0.5.1)\n",
            "Requirement already satisfied: pandas in /usr/local/lib/python3.10/dist-packages (from fredapi) (1.5.3)\n",
            "Requirement already satisfied: python-dateutil>=2.8.1 in /usr/local/lib/python3.10/dist-packages (from pandas->fredapi) (2.8.2)\n",
            "Requirement already satisfied: pytz>=2020.1 in /usr/local/lib/python3.10/dist-packages (from pandas->fredapi) (2023.3)\n",
            "Requirement already satisfied: numpy>=1.21.0 in /usr/local/lib/python3.10/dist-packages (from pandas->fredapi) (1.23.5)\n",
            "Requirement already satisfied: six>=1.5 in /usr/local/lib/python3.10/dist-packages (from python-dateutil>=2.8.1->pandas->fredapi) (1.16.0)\n"
          ]
        }
      ],
      "source": [
        "pip install fredapi\n"
      ]
    },
    {
      "cell_type": "markdown",
      "source": [
        "###2. API를 활용해서 데이터 받기"
      ],
      "metadata": {
        "id": "Gmz3B00bJSur"
      }
    },
    {
      "cell_type": "markdown",
      "source": [
        "#### 2-1 데이터를 받아오는 코드"
      ],
      "metadata": {
        "id": "6MOJsPEzM8cM"
      }
    },
    {
      "cell_type": "code",
      "source": [
        "#차트를 그리는 라이브러리 사용\n",
        "#기준금리 데이터를 받아오는 라이브러리 사용\n",
        "import matplotlib.pyplot as plt\n",
        "import pandas as pd\n",
        "from fredapi import Fred\n",
        "\n",
        "# FRED API 키 입력\n",
        "fred = Fred(api_key='b2182a80ba352b4be7486642fe6444c7')\n",
        "\n",
        "# 기준금리 데이터를 가져옵니다. (시작일, 종료일)\n",
        "data_interest = fred.get_series('DFF', start_date='2017-11-09', end_date='2023-06-30')\n",
        "\n",
        "\n",
        "# 데이터프레임으로 변환합니다. (한글, 영어 모두 가능)\n",
        "df_interest = pd.DataFrame(data_interest, columns=['기준금리'])\n",
        "df_interest.index.name = '날짜'\n",
        "\n",
        "# 시작일 이후의 데이터만 필터링합니다.\n",
        "df_interest = df_interest[df_interest.index >= '2017-11-09']\n",
        "\n",
        "\n",
        "# 기준 금리 데이터 : 미리보기\n",
        "df_interest"
      ],
      "metadata": {
        "colab": {
          "base_uri": "https://localhost:8080/",
          "height": 455
        },
        "id": "Z4o2UEpfJSSt",
        "outputId": "3f07e7c1-e273-4d3c-bbe7-9497d6ca26d0"
      },
      "execution_count": 21,
      "outputs": [
        {
          "output_type": "execute_result",
          "data": {
            "text/plain": [
              "            기준금리\n",
              "날짜              \n",
              "2017-11-09  1.16\n",
              "2017-11-10  1.16\n",
              "2017-11-11  1.16\n",
              "2017-11-12  1.16\n",
              "2017-11-13  1.16\n",
              "...          ...\n",
              "2023-08-14  5.33\n",
              "2023-08-15  5.33\n",
              "2023-08-16  5.33\n",
              "2023-08-17  5.33\n",
              "2023-08-18  5.33\n",
              "\n",
              "[2109 rows x 1 columns]"
            ],
            "text/html": [
              "\n",
              "  <div id=\"df-f6d02018-056f-497f-943c-0bf882bf93e2\" class=\"colab-df-container\">\n",
              "    <div>\n",
              "<style scoped>\n",
              "    .dataframe tbody tr th:only-of-type {\n",
              "        vertical-align: middle;\n",
              "    }\n",
              "\n",
              "    .dataframe tbody tr th {\n",
              "        vertical-align: top;\n",
              "    }\n",
              "\n",
              "    .dataframe thead th {\n",
              "        text-align: right;\n",
              "    }\n",
              "</style>\n",
              "<table border=\"1\" class=\"dataframe\">\n",
              "  <thead>\n",
              "    <tr style=\"text-align: right;\">\n",
              "      <th></th>\n",
              "      <th>기준금리</th>\n",
              "    </tr>\n",
              "    <tr>\n",
              "      <th>날짜</th>\n",
              "      <th></th>\n",
              "    </tr>\n",
              "  </thead>\n",
              "  <tbody>\n",
              "    <tr>\n",
              "      <th>2017-11-09</th>\n",
              "      <td>1.16</td>\n",
              "    </tr>\n",
              "    <tr>\n",
              "      <th>2017-11-10</th>\n",
              "      <td>1.16</td>\n",
              "    </tr>\n",
              "    <tr>\n",
              "      <th>2017-11-11</th>\n",
              "      <td>1.16</td>\n",
              "    </tr>\n",
              "    <tr>\n",
              "      <th>2017-11-12</th>\n",
              "      <td>1.16</td>\n",
              "    </tr>\n",
              "    <tr>\n",
              "      <th>2017-11-13</th>\n",
              "      <td>1.16</td>\n",
              "    </tr>\n",
              "    <tr>\n",
              "      <th>...</th>\n",
              "      <td>...</td>\n",
              "    </tr>\n",
              "    <tr>\n",
              "      <th>2023-08-14</th>\n",
              "      <td>5.33</td>\n",
              "    </tr>\n",
              "    <tr>\n",
              "      <th>2023-08-15</th>\n",
              "      <td>5.33</td>\n",
              "    </tr>\n",
              "    <tr>\n",
              "      <th>2023-08-16</th>\n",
              "      <td>5.33</td>\n",
              "    </tr>\n",
              "    <tr>\n",
              "      <th>2023-08-17</th>\n",
              "      <td>5.33</td>\n",
              "    </tr>\n",
              "    <tr>\n",
              "      <th>2023-08-18</th>\n",
              "      <td>5.33</td>\n",
              "    </tr>\n",
              "  </tbody>\n",
              "</table>\n",
              "<p>2109 rows × 1 columns</p>\n",
              "</div>\n",
              "    <div class=\"colab-df-buttons\">\n",
              "\n",
              "  <div class=\"colab-df-container\">\n",
              "    <button class=\"colab-df-convert\" onclick=\"convertToInteractive('df-f6d02018-056f-497f-943c-0bf882bf93e2')\"\n",
              "            title=\"Convert this dataframe to an interactive table.\"\n",
              "            style=\"display:none;\">\n",
              "\n",
              "  <svg xmlns=\"http://www.w3.org/2000/svg\" height=\"24px\" viewBox=\"0 -960 960 960\">\n",
              "    <path d=\"M120-120v-720h720v720H120Zm60-500h600v-160H180v160Zm220 220h160v-160H400v160Zm0 220h160v-160H400v160ZM180-400h160v-160H180v160Zm440 0h160v-160H620v160ZM180-180h160v-160H180v160Zm440 0h160v-160H620v160Z\"/>\n",
              "  </svg>\n",
              "    </button>\n",
              "\n",
              "  <style>\n",
              "    .colab-df-container {\n",
              "      display:flex;\n",
              "      gap: 12px;\n",
              "    }\n",
              "\n",
              "    .colab-df-convert {\n",
              "      background-color: #E8F0FE;\n",
              "      border: none;\n",
              "      border-radius: 50%;\n",
              "      cursor: pointer;\n",
              "      display: none;\n",
              "      fill: #1967D2;\n",
              "      height: 32px;\n",
              "      padding: 0 0 0 0;\n",
              "      width: 32px;\n",
              "    }\n",
              "\n",
              "    .colab-df-convert:hover {\n",
              "      background-color: #E2EBFA;\n",
              "      box-shadow: 0px 1px 2px rgba(60, 64, 67, 0.3), 0px 1px 3px 1px rgba(60, 64, 67, 0.15);\n",
              "      fill: #174EA6;\n",
              "    }\n",
              "\n",
              "    .colab-df-buttons div {\n",
              "      margin-bottom: 4px;\n",
              "    }\n",
              "\n",
              "    [theme=dark] .colab-df-convert {\n",
              "      background-color: #3B4455;\n",
              "      fill: #D2E3FC;\n",
              "    }\n",
              "\n",
              "    [theme=dark] .colab-df-convert:hover {\n",
              "      background-color: #434B5C;\n",
              "      box-shadow: 0px 1px 3px 1px rgba(0, 0, 0, 0.15);\n",
              "      filter: drop-shadow(0px 1px 2px rgba(0, 0, 0, 0.3));\n",
              "      fill: #FFFFFF;\n",
              "    }\n",
              "  </style>\n",
              "\n",
              "    <script>\n",
              "      const buttonEl =\n",
              "        document.querySelector('#df-f6d02018-056f-497f-943c-0bf882bf93e2 button.colab-df-convert');\n",
              "      buttonEl.style.display =\n",
              "        google.colab.kernel.accessAllowed ? 'block' : 'none';\n",
              "\n",
              "      async function convertToInteractive(key) {\n",
              "        const element = document.querySelector('#df-f6d02018-056f-497f-943c-0bf882bf93e2');\n",
              "        const dataTable =\n",
              "          await google.colab.kernel.invokeFunction('convertToInteractive',\n",
              "                                                    [key], {});\n",
              "        if (!dataTable) return;\n",
              "\n",
              "        const docLinkHtml = 'Like what you see? Visit the ' +\n",
              "          '<a target=\"_blank\" href=https://colab.research.google.com/notebooks/data_table.ipynb>data table notebook</a>'\n",
              "          + ' to learn more about interactive tables.';\n",
              "        element.innerHTML = '';\n",
              "        dataTable['output_type'] = 'display_data';\n",
              "        await google.colab.output.renderOutput(dataTable, element);\n",
              "        const docLink = document.createElement('div');\n",
              "        docLink.innerHTML = docLinkHtml;\n",
              "        element.appendChild(docLink);\n",
              "      }\n",
              "    </script>\n",
              "  </div>\n",
              "\n",
              "\n",
              "<div id=\"df-898b9e12-2997-4699-babe-725f5b7232d3\">\n",
              "  <button class=\"colab-df-quickchart\" onclick=\"quickchart('df-898b9e12-2997-4699-babe-725f5b7232d3')\"\n",
              "            title=\"Suggest charts.\"\n",
              "            style=\"display:none;\">\n",
              "\n",
              "<svg xmlns=\"http://www.w3.org/2000/svg\" height=\"24px\"viewBox=\"0 0 24 24\"\n",
              "     width=\"24px\">\n",
              "    <g>\n",
              "        <path d=\"M19 3H5c-1.1 0-2 .9-2 2v14c0 1.1.9 2 2 2h14c1.1 0 2-.9 2-2V5c0-1.1-.9-2-2-2zM9 17H7v-7h2v7zm4 0h-2V7h2v10zm4 0h-2v-4h2v4z\"/>\n",
              "    </g>\n",
              "</svg>\n",
              "  </button>\n",
              "\n",
              "<style>\n",
              "  .colab-df-quickchart {\n",
              "    background-color: #E8F0FE;\n",
              "    border: none;\n",
              "    border-radius: 50%;\n",
              "    cursor: pointer;\n",
              "    display: none;\n",
              "    fill: #1967D2;\n",
              "    height: 32px;\n",
              "    padding: 0 0 0 0;\n",
              "    width: 32px;\n",
              "  }\n",
              "\n",
              "  .colab-df-quickchart:hover {\n",
              "    background-color: #E2EBFA;\n",
              "    box-shadow: 0px 1px 2px rgba(60, 64, 67, 0.3), 0px 1px 3px 1px rgba(60, 64, 67, 0.15);\n",
              "    fill: #174EA6;\n",
              "  }\n",
              "\n",
              "  [theme=dark] .colab-df-quickchart {\n",
              "    background-color: #3B4455;\n",
              "    fill: #D2E3FC;\n",
              "  }\n",
              "\n",
              "  [theme=dark] .colab-df-quickchart:hover {\n",
              "    background-color: #434B5C;\n",
              "    box-shadow: 0px 1px 3px 1px rgba(0, 0, 0, 0.15);\n",
              "    filter: drop-shadow(0px 1px 2px rgba(0, 0, 0, 0.3));\n",
              "    fill: #FFFFFF;\n",
              "  }\n",
              "</style>\n",
              "\n",
              "  <script>\n",
              "    async function quickchart(key) {\n",
              "      const charts = await google.colab.kernel.invokeFunction(\n",
              "          'suggestCharts', [key], {});\n",
              "    }\n",
              "    (() => {\n",
              "      let quickchartButtonEl =\n",
              "        document.querySelector('#df-898b9e12-2997-4699-babe-725f5b7232d3 button');\n",
              "      quickchartButtonEl.style.display =\n",
              "        google.colab.kernel.accessAllowed ? 'block' : 'none';\n",
              "    })();\n",
              "  </script>\n",
              "</div>\n",
              "    </div>\n",
              "  </div>\n"
            ]
          },
          "metadata": {},
          "execution_count": 21
        }
      ]
    },
    {
      "cell_type": "code",
      "source": [
        "# 기준금리 데이터 출력\n",
        "print(df_interest)"
      ],
      "metadata": {
        "colab": {
          "base_uri": "https://localhost:8080/"
        },
        "id": "T5Dc3IPsL4_0",
        "outputId": "6056a81e-dfa9-436c-c4de-14922d27ef88"
      },
      "execution_count": 22,
      "outputs": [
        {
          "output_type": "stream",
          "name": "stdout",
          "text": [
            "            기준금리\n",
            "날짜              \n",
            "2017-11-09  1.16\n",
            "2017-11-10  1.16\n",
            "2017-11-11  1.16\n",
            "2017-11-12  1.16\n",
            "2017-11-13  1.16\n",
            "...          ...\n",
            "2023-08-14  5.33\n",
            "2023-08-15  5.33\n",
            "2023-08-16  5.33\n",
            "2023-08-17  5.33\n",
            "2023-08-18  5.33\n",
            "\n",
            "[2109 rows x 1 columns]\n"
          ]
        }
      ]
    },
    {
      "cell_type": "markdown",
      "source": [
        "#### 2-2 데이터를 저장하는 코드"
      ],
      "metadata": {
        "id": "Z5mq_T6hNENT"
      }
    },
    {
      "cell_type": "code",
      "source": [
        "# 기준금리 데이터를 CSV 파일로 저장\n",
        "\n",
        "# CSV 파일로 저장합니다.\n",
        "from google.colab import files\n",
        "\n",
        "df_interest.to_csv('interest.csv', encoding='utf-8-sig')\n",
        "\n",
        "# 파일을 다운로드합니다.\n",
        "files.download('interest.csv')"
      ],
      "metadata": {
        "colab": {
          "base_uri": "https://localhost:8080/",
          "height": 17
        },
        "id": "5-8qzidYMHib",
        "outputId": "c714e716-5aca-4588-ea50-867fb7231bb7"
      },
      "execution_count": 23,
      "outputs": [
        {
          "output_type": "display_data",
          "data": {
            "text/plain": [
              "<IPython.core.display.Javascript object>"
            ],
            "application/javascript": [
              "\n",
              "    async function download(id, filename, size) {\n",
              "      if (!google.colab.kernel.accessAllowed) {\n",
              "        return;\n",
              "      }\n",
              "      const div = document.createElement('div');\n",
              "      const label = document.createElement('label');\n",
              "      label.textContent = `Downloading \"${filename}\": `;\n",
              "      div.appendChild(label);\n",
              "      const progress = document.createElement('progress');\n",
              "      progress.max = size;\n",
              "      div.appendChild(progress);\n",
              "      document.body.appendChild(div);\n",
              "\n",
              "      const buffers = [];\n",
              "      let downloaded = 0;\n",
              "\n",
              "      const channel = await google.colab.kernel.comms.open(id);\n",
              "      // Send a message to notify the kernel that we're ready.\n",
              "      channel.send({})\n",
              "\n",
              "      for await (const message of channel.messages) {\n",
              "        // Send a message to notify the kernel that we're ready.\n",
              "        channel.send({})\n",
              "        if (message.buffers) {\n",
              "          for (const buffer of message.buffers) {\n",
              "            buffers.push(buffer);\n",
              "            downloaded += buffer.byteLength;\n",
              "            progress.value = downloaded;\n",
              "          }\n",
              "        }\n",
              "      }\n",
              "      const blob = new Blob(buffers, {type: 'application/binary'});\n",
              "      const a = document.createElement('a');\n",
              "      a.href = window.URL.createObjectURL(blob);\n",
              "      a.download = filename;\n",
              "      div.appendChild(a);\n",
              "      a.click();\n",
              "      div.remove();\n",
              "    }\n",
              "  "
            ]
          },
          "metadata": {}
        },
        {
          "output_type": "display_data",
          "data": {
            "text/plain": [
              "<IPython.core.display.Javascript object>"
            ],
            "application/javascript": [
              "download(\"download_1e9ca13f-22a1-4174-84d3-40d0d6ecaf74\", \"interest.csv\", 33445)"
            ]
          },
          "metadata": {}
        }
      ]
    },
    {
      "cell_type": "markdown",
      "source": [
        "#### 2-3 차트로 만들기"
      ],
      "metadata": {
        "id": "XWlz-nOfNMcM"
      }
    },
    {
      "cell_type": "code",
      "source": [
        "# 차트를 그립니다.\n",
        "plt.figure(figsize=(10, 6))\n",
        "plt.plot(df_interest)  #df_interest 대신에 \"data_interest\"를 입력하면 어떻게 달라질까요?\n",
        "plt.title('usa_interest')\n",
        "plt.xlabel('day')\n",
        "plt.ylabel('interest(%)')\n",
        "plt.grid(True)\n",
        "plt.show()"
      ],
      "metadata": {
        "colab": {
          "base_uri": "https://localhost:8080/",
          "height": 564
        },
        "id": "o-OjELXlJk_M",
        "outputId": "927bd123-67e8-4a5f-c4cb-fb8e492410d5"
      },
      "execution_count": 24,
      "outputs": [
        {
          "output_type": "display_data",
          "data": {
            "text/plain": [
              "<Figure size 1000x600 with 1 Axes>"
            ],
            "image/png": "[encoded data removed]"
          },
          "metadata": {}
        }
      ]
    },
    {
      "cell_type": "markdown",
      "source": [
        "### 4. 응용 \"기간\"별 구분해서 시각화"
      ],
      "metadata": {
        "id": "qw4kEd051ylY"
      }
    },
    {
      "cell_type": "code",
      "source": [
        "# 1. 페이팔의 주가 불러오기\n",
        "paypal_data = yf.download('PYPL', start=\"2017-11-09\", end=\"2023-06-30\")\n"
      ],
      "metadata": {
        "id": "3-bJQtHc1yNE",
        "colab": {
          "base_uri": "https://localhost:8080/"
        },
        "outputId": "e63957c7-1251-446d-e2ac-5f08ba04c926"
      },
      "execution_count": 25,
      "outputs": [
        {
          "output_type": "stream",
          "name": "stdout",
          "text": [
            "\r[*********************100%%**********************]  1 of 1 completed\n"
          ]
        }
      ]
    },
    {
      "cell_type": "code",
      "source": [
        "# 1. 페이팔의 주가 불러오기"
      ],
      "metadata": {
        "id": "M9pb4QLi19Wt"
      },
      "execution_count": 26,
      "outputs": []
    },
    {
      "cell_type": "code",
      "source": [
        "import pandas as pd\n",
        "import matplotlib.pyplot as plt\n",
        "import yfinance as yf\n",
        "from fredapi import Fred\n",
        "\n",
        "# 1. Load PayPal's stock price data\n",
        "paypal_data = yf.download('PYPL', start=\"2017-11-09\", end=\"2023-06-30\")\n",
        "\n",
        "# 2. Define the start and end dates for each phase\n",
        "phase1_start = '2017-11-09'\n",
        "phase1_end = '2019-07-31'\n",
        "phase2_start = '2019-07-31'\n",
        "phase2_end = '2020-03-15'\n",
        "phase3_start = '2020-03-15'\n",
        "phase3_end = '2022-03-17'\n",
        "phase4_start = '2022-03-17'\n",
        "phase4_end = '2023-06-30'\n",
        "\n",
        "# 3. 날짜 구간을 가져옴\n",
        "phase1_data = paypal_data.loc[phase1_start:phase1_end]\n",
        "phase2_data = paypal_data.loc[phase2_start:phase2_end]\n",
        "phase3_data = paypal_data.loc[phase3_start:phase3_end]\n",
        "phase4_data = paypal_data.loc[phase4_start:phase4_end]\n",
        "\n",
        "# 4. 기준금리의 데이터를 가져옴\n",
        "fred = Fred(api_key='b2182a80ba352b4be7486642fe6444c7')  # Replace 'YOUR_API_KEY' with your actual API key\n",
        "interest_rate_data = fred.get_series('DFF', start_date=\"2017-11-09\", end_date=\"2023-06-30\")\n",
        "\n",
        "# 5. 페이팔 주가를 3의 구간으로 나눔\n",
        "phase1_data.index = pd.to_datetime(phase1_data.index)\n",
        "phase2_data.index = pd.to_datetime(phase2_data.index)\n",
        "phase3_data.index = pd.to_datetime(phase3_data.index)\n",
        "phase4_data.index = pd.to_datetime(phase4_data.index)\n",
        "interest_rate_data.index = pd.to_datetime(interest_rate_data.index)\n",
        "\n",
        "# 6. 각 영역에 대한 색깔을 지정\n",
        "colors = ['blue', 'orange', 'green', 'red']\n",
        "\n",
        "# 7. 불러온 데이터를 \"차트\"에 입력\n",
        "plt.figure(figsize=(10, 6))\n",
        "plt.subplot(2, 1, 1)\n",
        "plt.plot(phase1_data.index, phase1_data['Close'], label='Time Zone 01', color=colors[0])\n",
        "plt.plot(phase2_data.index, phase2_data['Close'], label='Time Zone 02', color=colors[1])\n",
        "plt.plot(phase3_data.index, phase3_data['Close'], label='Time Zone 03', color=colors[2])\n",
        "plt.plot(phase4_data.index, phase4_data['Close'], label='Time Zone 04', color=colors[3])\n",
        "plt.xlabel(\"Date\")\n",
        "plt.ylabel(\"PayPal Stock Price\")\n",
        "plt.title(\"PayPal Stock Price - Phases\")\n",
        "plt.legend()\n",
        "\n",
        "# 8. 기준금리 데이터도 위와 같이 진행\n",
        "plt.subplot(2, 1, 2)\n",
        "plt.plot(interest_rate_data.index, interest_rate_data, color='gray')\n",
        "plt.xlabel(\"Date\")\n",
        "plt.ylabel(\"Interest Rate (%)\")\n",
        "plt.title(\"Federal Reserve Interest Rate - Phases\")\n",
        "plt.xlim(pd.to_datetime(\"2017-11-09\"), pd.to_datetime(\"2023-06-30\"))  # Set the x-axis limit for interest rate chart\n",
        "plt.ylim(0, 8)  # Set the y-axis limit for interest rate chart\n",
        "\n",
        "# Create colored background for each phase\n",
        "plt.axvspan(phase1_data.index[0], phase1_data.index[-1], color=colors[0], alpha=0.2)\n",
        "plt.axvspan(phase2_data.index[0], phase2_data.index[-1], color=colors[1], alpha=0.2)\n",
        "plt.axvspan(phase3_data.index[0], phase3_data.index[-1], color=colors[2], alpha=0.2)\n",
        "plt.axvspan(phase4_data.index[0], phase4_data.index[-1], color=colors[3], alpha=0.2)\n",
        "\n",
        "plt.tight_layout()\n",
        "plt.show()\n"
      ],
      "metadata": {
        "colab": {
          "base_uri": "https://localhost:8080/",
          "height": 626
        },
        "id": "iCxFeJGY15s7",
        "outputId": "f253182c-4dfa-40ec-f82e-e1230422e93f"
      },
      "execution_count": null,
      "outputs": [
        {
          "output_type": "stream",
          "name": "stdout",
          "text": [
            "\r[*********************100%***********************]  1 of 1 completed\n"
          ]
        },
        {
          "output_type": "display_data",
          "data": {
            "text/plain": [
              "<Figure size 1000x600 with 2 Axes>"
            ],
            "image/png": "[encoded data removed]"
          },
          "metadata": {}
        }
      ]
    },
    {
      "cell_type": "markdown",
      "source": [
        "(과제) : 아마존, 어펌, s&p500 지수 주가데이터를 위의 차트와 같이 나오도록 실습해보기"
      ],
      "metadata": {
        "id": "jyj_nxN8ZHgL"
      }
    }
  ]
}