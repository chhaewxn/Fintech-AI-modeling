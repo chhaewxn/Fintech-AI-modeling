{
  "nbformat": 4,
  "nbformat_minor": 0,
  "metadata": {
    "colab": {
      "provenance": []
    },
    "kernelspec": {
      "name": "python3",
      "display_name": "Python 3"
    },
    "language_info": {
      "name": "python"
    }
  },
  "cells": [
    {
      "cell_type": "markdown",
      "source": [
        "## 1. yfinance를 설치해서 주가데이터 가져오기"
      ],
      "metadata": {
        "id": "qxQMqOjFPCeV"
      }
    },
    {
      "cell_type": "markdown",
      "source": [
        "### 1. 야후파이낸스 라이브러리 실행"
      ],
      "metadata": {
        "id": "G9wHQJjMPi5m"
      }
    },
    {
      "cell_type": "code",
      "source": [
        "import yfinance as yf\n"
      ],
      "metadata": {
        "id": "Z_V9J9GDPCPF"
      },
      "execution_count": 1,
      "outputs": []
    },
    {
      "cell_type": "markdown",
      "source": [
        "### 2. 그래프 및 데이터프레임(엑셀형식의 데이터 작성) 지원 라이브러리 실행"
      ],
      "metadata": {
        "id": "nlbO9rj8P3Zu"
      }
    },
    {
      "cell_type": "code",
      "source": [
        "import pandas as pd\n",
        "import matplotlib.pyplot as plt"
      ],
      "metadata": {
        "id": "XC0XUcwmQF8k"
      },
      "execution_count": 2,
      "outputs": []
    },
    {
      "cell_type": "markdown",
      "source": [
        "### 3. 데이터를 받아오는 코드"
      ],
      "metadata": {
        "id": "O4xt-aG7PiVN"
      }
    },
    {
      "cell_type": "code",
      "source": [
        "# 페이팔 주식 데이터를 가져옵니다.\n",
        "start_date = '2015-09-01'\n",
        "end_date = '2023-06-30'\n",
        "ticker = 'PYPL'\n",
        "data_pypl = yf.download(ticker, start=start_date, end=end_date)\n",
        "\n",
        "# 데이터프레임으로 변환합니다.\n",
        "df_pypl = pd.DataFrame(data_pypl['Close'])\n",
        "df_pypl.columns = [ticker + 'price']\n",
        "df_pypl.index.name = 'date'\n",
        "\n",
        "# 시작일 이후의 데이터만 필터링합니다.\n",
        "df_pypl = df_pypl[df_pypl.index >= '2015-09-01']\n",
        "\n",
        "\n",
        "# 기준 금리 데이터 : 미리보기\n",
        "df_pypl\n",
        "\n"
      ],
      "metadata": {
        "colab": {
          "base_uri": "https://localhost:8080/",
          "height": 473
        },
        "id": "gkUm1aUmQXzz",
        "outputId": "fd9c2ed2-5cda-4a4b-c858-8d90fbef0a10"
      },
      "execution_count": 5,
      "outputs": [
        {
          "output_type": "stream",
          "name": "stdout",
          "text": [
            "\r[*********************100%%**********************]  1 of 1 completed\n"
          ]
        },
        {
          "output_type": "execute_result",
          "data": {
            "text/plain": [
              "            PYPLprice\n",
              "date                 \n",
              "2015-09-01  33.770000\n",
              "2015-09-02  35.070000\n",
              "2015-09-03  35.310001\n",
              "2015-09-04  34.290001\n",
              "2015-09-08  34.700001\n",
              "...               ...\n",
              "2023-06-23  66.940002\n",
              "2023-06-26  66.440002\n",
              "2023-06-27  66.230003\n",
              "2023-06-28  66.029999\n",
              "2023-06-29  65.860001\n",
              "\n",
              "[1970 rows x 1 columns]"
            ],
            "text/html": [
              "\n",
              "  <div id=\"df-82d35e4b-74d5-42dd-aae6-5b5be2071320\" class=\"colab-df-container\">\n",
              "    <div>\n",
              "<style scoped>\n",
              "    .dataframe tbody tr th:only-of-type {\n",
              "        vertical-align: middle;\n",
              "    }\n",
              "\n",
              "    .dataframe tbody tr th {\n",
              "        vertical-align: top;\n",
              "    }\n",
              "\n",
              "    .dataframe thead th {\n",
              "        text-align: right;\n",
              "    }\n",
              "</style>\n",
              "<table border=\"1\" class=\"dataframe\">\n",
              "  <thead>\n",
              "    <tr style=\"text-align: right;\">\n",
              "      <th></th>\n",
              "      <th>PYPLprice</th>\n",
              "    </tr>\n",
              "    <tr>\n",
              "      <th>date</th>\n",
              "      <th></th>\n",
              "    </tr>\n",
              "  </thead>\n",
              "  <tbody>\n",
              "    <tr>\n",
              "      <th>2015-09-01</th>\n",
              "      <td>33.770000</td>\n",
              "    </tr>\n",
              "    <tr>\n",
              "      <th>2015-09-02</th>\n",
              "      <td>35.070000</td>\n",
              "    </tr>\n",
              "    <tr>\n",
              "      <th>2015-09-03</th>\n",
              "      <td>35.310001</td>\n",
              "    </tr>\n",
              "    <tr>\n",
              "      <th>2015-09-04</th>\n",
              "      <td>34.290001</td>\n",
              "    </tr>\n",
              "    <tr>\n",
              "      <th>2015-09-08</th>\n",
              "      <td>34.700001</td>\n",
              "    </tr>\n",
              "    <tr>\n",
              "      <th>...</th>\n",
              "      <td>...</td>\n",
              "    </tr>\n",
              "    <tr>\n",
              "      <th>2023-06-23</th>\n",
              "      <td>66.940002</td>\n",
              "    </tr>\n",
              "    <tr>\n",
              "      <th>2023-06-26</th>\n",
              "      <td>66.440002</td>\n",
              "    </tr>\n",
              "    <tr>\n",
              "      <th>2023-06-27</th>\n",
              "      <td>66.230003</td>\n",
              "    </tr>\n",
              "    <tr>\n",
              "      <th>2023-06-28</th>\n",
              "      <td>66.029999</td>\n",
              "    </tr>\n",
              "    <tr>\n",
              "      <th>2023-06-29</th>\n",
              "      <td>65.860001</td>\n",
              "    </tr>\n",
              "  </tbody>\n",
              "</table>\n",
              "<p>1970 rows × 1 columns</p>\n",
              "</div>\n",
              "    <div class=\"colab-df-buttons\">\n",
              "\n",
              "  <div class=\"colab-df-container\">\n",
              "    <button class=\"colab-df-convert\" onclick=\"convertToInteractive('df-82d35e4b-74d5-42dd-aae6-5b5be2071320')\"\n",
              "            title=\"Convert this dataframe to an interactive table.\"\n",
              "            style=\"display:none;\">\n",
              "\n",
              "  <svg xmlns=\"http://www.w3.org/2000/svg\" height=\"24px\" viewBox=\"0 -960 960 960\">\n",
              "    <path d=\"M120-120v-720h720v720H120Zm60-500h600v-160H180v160Zm220 220h160v-160H400v160Zm0 220h160v-160H400v160ZM180-400h160v-160H180v160Zm440 0h160v-160H620v160ZM180-180h160v-160H180v160Zm440 0h160v-160H620v160Z\"/>\n",
              "  </svg>\n",
              "    </button>\n",
              "\n",
              "  <style>\n",
              "    .colab-df-container {\n",
              "      display:flex;\n",
              "      gap: 12px;\n",
              "    }\n",
              "\n",
              "    .colab-df-convert {\n",
              "      background-color: #E8F0FE;\n",
              "      border: none;\n",
              "      border-radius: 50%;\n",
              "      cursor: pointer;\n",
              "      display: none;\n",
              "      fill: #1967D2;\n",
              "      height: 32px;\n",
              "      padding: 0 0 0 0;\n",
              "      width: 32px;\n",
              "    }\n",
              "\n",
              "    .colab-df-convert:hover {\n",
              "      background-color: #E2EBFA;\n",
              "      box-shadow: 0px 1px 2px rgba(60, 64, 67, 0.3), 0px 1px 3px 1px rgba(60, 64, 67, 0.15);\n",
              "      fill: #174EA6;\n",
              "    }\n",
              "\n",
              "    .colab-df-buttons div {\n",
              "      margin-bottom: 4px;\n",
              "    }\n",
              "\n",
              "    [theme=dark] .colab-df-convert {\n",
              "      background-color: #3B4455;\n",
              "      fill: #D2E3FC;\n",
              "    }\n",
              "\n",
              "    [theme=dark] .colab-df-convert:hover {\n",
              "      background-color: #434B5C;\n",
              "      box-shadow: 0px 1px 3px 1px rgba(0, 0, 0, 0.15);\n",
              "      filter: drop-shadow(0px 1px 2px rgba(0, 0, 0, 0.3));\n",
              "      fill: #FFFFFF;\n",
              "    }\n",
              "  </style>\n",
              "\n",
              "    <script>\n",
              "      const buttonEl =\n",
              "        document.querySelector('#df-82d35e4b-74d5-42dd-aae6-5b5be2071320 button.colab-df-convert');\n",
              "      buttonEl.style.display =\n",
              "        google.colab.kernel.accessAllowed ? 'block' : 'none';\n",
              "\n",
              "      async function convertToInteractive(key) {\n",
              "        const element = document.querySelector('#df-82d35e4b-74d5-42dd-aae6-5b5be2071320');\n",
              "        const dataTable =\n",
              "          await google.colab.kernel.invokeFunction('convertToInteractive',\n",
              "                                                    [key], {});\n",
              "        if (!dataTable) return;\n",
              "\n",
              "        const docLinkHtml = 'Like what you see? Visit the ' +\n",
              "          '<a target=\"_blank\" href=https://colab.research.google.com/notebooks/data_table.ipynb>data table notebook</a>'\n",
              "          + ' to learn more about interactive tables.';\n",
              "        element.innerHTML = '';\n",
              "        dataTable['output_type'] = 'display_data';\n",
              "        await google.colab.output.renderOutput(dataTable, element);\n",
              "        const docLink = document.createElement('div');\n",
              "        docLink.innerHTML = docLinkHtml;\n",
              "        element.appendChild(docLink);\n",
              "      }\n",
              "    </script>\n",
              "  </div>\n",
              "\n",
              "\n",
              "<div id=\"df-2b7b7a47-6f8c-4741-9d07-cc78b18572ee\">\n",
              "  <button class=\"colab-df-quickchart\" onclick=\"quickchart('df-2b7b7a47-6f8c-4741-9d07-cc78b18572ee')\"\n",
              "            title=\"Suggest charts.\"\n",
              "            style=\"display:none;\">\n",
              "\n",
              "<svg xmlns=\"http://www.w3.org/2000/svg\" height=\"24px\"viewBox=\"0 0 24 24\"\n",
              "     width=\"24px\">\n",
              "    <g>\n",
              "        <path d=\"M19 3H5c-1.1 0-2 .9-2 2v14c0 1.1.9 2 2 2h14c1.1 0 2-.9 2-2V5c0-1.1-.9-2-2-2zM9 17H7v-7h2v7zm4 0h-2V7h2v10zm4 0h-2v-4h2v4z\"/>\n",
              "    </g>\n",
              "</svg>\n",
              "  </button>\n",
              "\n",
              "<style>\n",
              "  .colab-df-quickchart {\n",
              "    background-color: #E8F0FE;\n",
              "    border: none;\n",
              "    border-radius: 50%;\n",
              "    cursor: pointer;\n",
              "    display: none;\n",
              "    fill: #1967D2;\n",
              "    height: 32px;\n",
              "    padding: 0 0 0 0;\n",
              "    width: 32px;\n",
              "  }\n",
              "\n",
              "  .colab-df-quickchart:hover {\n",
              "    background-color: #E2EBFA;\n",
              "    box-shadow: 0px 1px 2px rgba(60, 64, 67, 0.3), 0px 1px 3px 1px rgba(60, 64, 67, 0.15);\n",
              "    fill: #174EA6;\n",
              "  }\n",
              "\n",
              "  [theme=dark] .colab-df-quickchart {\n",
              "    background-color: #3B4455;\n",
              "    fill: #D2E3FC;\n",
              "  }\n",
              "\n",
              "  [theme=dark] .colab-df-quickchart:hover {\n",
              "    background-color: #434B5C;\n",
              "    box-shadow: 0px 1px 3px 1px rgba(0, 0, 0, 0.15);\n",
              "    filter: drop-shadow(0px 1px 2px rgba(0, 0, 0, 0.3));\n",
              "    fill: #FFFFFF;\n",
              "  }\n",
              "</style>\n",
              "\n",
              "  <script>\n",
              "    async function quickchart(key) {\n",
              "      const charts = await google.colab.kernel.invokeFunction(\n",
              "          'suggestCharts', [key], {});\n",
              "    }\n",
              "    (() => {\n",
              "      let quickchartButtonEl =\n",
              "        document.querySelector('#df-2b7b7a47-6f8c-4741-9d07-cc78b18572ee button');\n",
              "      quickchartButtonEl.style.display =\n",
              "        google.colab.kernel.accessAllowed ? 'block' : 'none';\n",
              "    })();\n",
              "  </script>\n",
              "</div>\n",
              "    </div>\n",
              "  </div>\n"
            ]
          },
          "metadata": {},
          "execution_count": 5
        }
      ]
    },
    {
      "cell_type": "markdown",
      "source": [
        "(참고 데이터프레임)"
      ],
      "metadata": {
        "id": "saRR726aplic"
      }
    },
    {
      "cell_type": "markdown",
      "source": [
        "![image.png](data:image/png;base64,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)"
      ],
      "metadata": {
        "id": "xnnvlg6Tpjy-"
      }
    },
    {
      "cell_type": "code",
      "source": [
        "# 페이팔 데이터 출력\n",
        "print(df_pypl)"
      ],
      "metadata": {
        "colab": {
          "base_uri": "https://localhost:8080/"
        },
        "id": "PPq8hF7bRktA",
        "outputId": "2d8fd232-6a15-43f1-fdd8-259921809c5f"
      },
      "execution_count": 6,
      "outputs": [
        {
          "output_type": "stream",
          "name": "stdout",
          "text": [
            "            PYPLprice\n",
            "date                 \n",
            "2015-09-01  33.770000\n",
            "2015-09-02  35.070000\n",
            "2015-09-03  35.310001\n",
            "2015-09-04  34.290001\n",
            "2015-09-08  34.700001\n",
            "...               ...\n",
            "2023-06-23  66.940002\n",
            "2023-06-26  66.440002\n",
            "2023-06-27  66.230003\n",
            "2023-06-28  66.029999\n",
            "2023-06-29  65.860001\n",
            "\n",
            "[1970 rows x 1 columns]\n"
          ]
        }
      ]
    },
    {
      "cell_type": "markdown",
      "source": [
        "### 4. 데이터를 저장하는 코드"
      ],
      "metadata": {
        "id": "beVFwMRNRr3c"
      }
    },
    {
      "cell_type": "code",
      "source": [
        "# 페이팔 주가 데이터를 CSV 파일로 저장\n",
        "\n",
        "# CSV 파일로 저장\n",
        "from google.colab import files\n",
        "\n",
        "df_pypl.to_csv('pypl.csv', encoding='utf-8-sig')\n",
        "\n",
        "# 파일을 다운로드합니다.\n",
        "files.download('pypl.csv')"
      ],
      "metadata": {
        "colab": {
          "base_uri": "https://localhost:8080/",
          "height": 17
        },
        "id": "nGONMc72Rxzu",
        "outputId": "70f73187-01a7-4de3-a1fa-5b381c4bcb51"
      },
      "execution_count": 7,
      "outputs": [
        {
          "output_type": "display_data",
          "data": {
            "text/plain": [
              "<IPython.core.display.Javascript object>"
            ],
            "application/javascript": [
              "\n",
              "    async function download(id, filename, size) {\n",
              "      if (!google.colab.kernel.accessAllowed) {\n",
              "        return;\n",
              "      }\n",
              "      const div = document.createElement('div');\n",
              "      const label = document.createElement('label');\n",
              "      label.textContent = `Downloading \"${filename}\": `;\n",
              "      div.appendChild(label);\n",
              "      const progress = document.createElement('progress');\n",
              "      progress.max = size;\n",
              "      div.appendChild(progress);\n",
              "      document.body.appendChild(div);\n",
              "\n",
              "      const buffers = [];\n",
              "      let downloaded = 0;\n",
              "\n",
              "      const channel = await google.colab.kernel.comms.open(id);\n",
              "      // Send a message to notify the kernel that we're ready.\n",
              "      channel.send({})\n",
              "\n",
              "      for await (const message of channel.messages) {\n",
              "        // Send a message to notify the kernel that we're ready.\n",
              "        channel.send({})\n",
              "        if (message.buffers) {\n",
              "          for (const buffer of message.buffers) {\n",
              "            buffers.push(buffer);\n",
              "            downloaded += buffer.byteLength;\n",
              "            progress.value = downloaded;\n",
              "          }\n",
              "        }\n",
              "      }\n",
              "      const blob = new Blob(buffers, {type: 'application/binary'});\n",
              "      const a = document.createElement('a');\n",
              "      a.href = window.URL.createObjectURL(blob);\n",
              "      a.download = filename;\n",
              "      div.appendChild(a);\n",
              "      a.click();\n",
              "      div.remove();\n",
              "    }\n",
              "  "
            ]
          },
          "metadata": {}
        },
        {
          "output_type": "display_data",
          "data": {
            "text/plain": [
              "<IPython.core.display.Javascript object>"
            ],
            "application/javascript": [
              "download(\"download_32a135e8-e66a-4f15-af1e-431ff89dd350\", \"pypl.csv\", 56526)"
            ]
          },
          "metadata": {}
        }
      ]
    },
    {
      "cell_type": "markdown",
      "source": [
        "###5. 차트를 그려주는 코드"
      ],
      "metadata": {
        "id": "JAapsfLFR60s"
      }
    },
    {
      "cell_type": "code",
      "source": [
        "# 차트(그래프) 작성\n",
        "plt.figure(figsize=(10, 6))\n",
        "plt.plot(df_pypl)\n",
        "plt.title(ticker + ' price')\n",
        "plt.xlabel('date')\n",
        "plt.ylabel('price')\n",
        "plt.grid(True)\n",
        "plt.show()"
      ],
      "metadata": {
        "colab": {
          "base_uri": "https://localhost:8080/",
          "height": 441
        },
        "id": "ud3_uZzxQcvU",
        "outputId": "7a315fa2-39d0-4bf7-ec4f-58ba50891131"
      },
      "execution_count": 8,
      "outputs": [
        {
          "output_type": "display_data",
          "data": {
            "text/plain": [
              "<Figure size 1000x600 with 1 Axes>"
            ],
            "image/png": "[encoded data removed]"
          },
          "metadata": {}
        }
      ]
    },
    {
      "cell_type": "markdown",
      "source": [
        "  ## 2. FRED (Federal Reserve Economic Data) API를 사용해서 데이터를 받기\n",
        "  "
      ],
      "metadata": {
        "id": "CHw2vm98JIbk"
      }
    },
    {
      "cell_type": "markdown",
      "source": [
        "### 1. Fred API를 Colab에 설치하기\n"
      ],
      "metadata": {
        "id": "h1GAQqurPNl0"
      }
    },
    {
      "cell_type": "code",
      "execution_count": null,
      "metadata": {
        "colab": {
          "base_uri": "https://localhost:8080/"
        },
        "id": "KzDsKAZiIwZD",
        "outputId": "47c889b3-fa6c-4af5-e3cb-476594260063"
      },
      "outputs": [
        {
          "output_type": "stream",
          "name": "stdout",
          "text": [
            "Collecting fredapi\n",
            "  Downloading fredapi-0.5.0-py3-none-any.whl (11 kB)\n",
            "Requirement already satisfied: pandas in /usr/local/lib/python3.10/dist-packages (from fredapi) (1.5.3)\n",
            "Requirement already satisfied: python-dateutil>=2.8.1 in /usr/local/lib/python3.10/dist-packages (from pandas->fredapi) (2.8.2)\n",
            "Requirement already satisfied: pytz>=2020.1 in /usr/local/lib/python3.10/dist-packages (from pandas->fredapi) (2022.7.1)\n",
            "Requirement already satisfied: numpy>=1.21.0 in /usr/local/lib/python3.10/dist-packages (from pandas->fredapi) (1.22.4)\n",
            "Requirement already satisfied: six>=1.5 in /usr/local/lib/python3.10/dist-packages (from python-dateutil>=2.8.1->pandas->fredapi) (1.16.0)\n",
            "Installing collected packages: fredapi\n",
            "Successfully installed fredapi-0.5.0\n"
          ]
        }
      ],
      "source": [
        "pip install fredapi\n"
      ]
    },
    {
      "cell_type": "markdown",
      "source": [
        "###2. API를 활용해서 데이터 받기"
      ],
      "metadata": {
        "id": "Gmz3B00bJSur"
      }
    },
    {
      "cell_type": "markdown",
      "source": [
        "#### 2-1 데이터를 받아오는 코드"
      ],
      "metadata": {
        "id": "6MOJsPEzM8cM"
      }
    },
    {
      "cell_type": "code",
      "source": [
        "#차트를 그리는 라이브러리 사용\n",
        "#기준금리 데이터를 받아오는 라이브러리 사용\n",
        "import matplotlib.pyplot as plt\n",
        "import pandas as pd\n",
        "from fredapi import Fred\n",
        "\n",
        "# FRED API 키 입력\n",
        "fred = Fred(api_key='b2182a80ba352b4be7486642fe6444c7')\n",
        "\n",
        "# 기준금리 데이터를 가져옵니다. (시작일, 종료일)\n",
        "data_interest = fred.get_series('DFF', start_date='2017-11-09', end_date='2023-06-30')\n",
        "\n",
        "\n",
        "# 데이터프레임으로 변환합니다. (한글, 영어 모두 가능)\n",
        "df_interest = pd.DataFrame(data_interest, columns=['기준금리'])\n",
        "df_interest.index.name = '날짜'\n",
        "\n",
        "# 시작일 이후의 데이터만 필터링합니다.\n",
        "df_interest = df_interest[df_interest.index >= '2017-11-09']\n",
        "\n",
        "\n",
        "# 기준 금리 데이터 : 미리보기\n",
        "df_interest"
      ],
      "metadata": {
        "colab": {
          "base_uri": "https://localhost:8080/",
          "height": 455
        },
        "id": "Z4o2UEpfJSSt",
        "outputId": "c8b15e53-7b48-4e7f-ad3f-0b4ffe82602e"
      },
      "execution_count": null,
      "outputs": [
        {
          "output_type": "execute_result",
          "data": {
            "text/plain": [
              "            기준금리\n",
              "날짜              \n",
              "2017-11-09  1.16\n",
              "2017-11-10  1.16\n",
              "2017-11-11  1.16\n",
              "2017-11-12  1.16\n",
              "2017-11-13  1.16\n",
              "...          ...\n",
              "2023-07-15  5.08\n",
              "2023-07-16  5.08\n",
              "2023-07-17  5.08\n",
              "2023-07-18  5.08\n",
              "2023-07-19  5.08\n",
              "\n",
              "[2079 rows x 1 columns]"
            ],
            "text/html": [
              "\n",
              "\n",
              "  <div id=\"df-3a86054e-7d53-47c5-ac71-575a81eab1c8\">\n",
              "    <div class=\"colab-df-container\">\n",
              "      <div>\n",
              "<style scoped>\n",
              "    .dataframe tbody tr th:only-of-type {\n",
              "        vertical-align: middle;\n",
              "    }\n",
              "\n",
              "    .dataframe tbody tr th {\n",
              "        vertical-align: top;\n",
              "    }\n",
              "\n",
              "    .dataframe thead th {\n",
              "        text-align: right;\n",
              "    }\n",
              "</style>\n",
              "<table border=\"1\" class=\"dataframe\">\n",
              "  <thead>\n",
              "    <tr style=\"text-align: right;\">\n",
              "      <th></th>\n",
              "      <th>기준금리</th>\n",
              "    </tr>\n",
              "    <tr>\n",
              "      <th>날짜</th>\n",
              "      <th></th>\n",
              "    </tr>\n",
              "  </thead>\n",
              "  <tbody>\n",
              "    <tr>\n",
              "      <th>2017-11-09</th>\n",
              "      <td>1.16</td>\n",
              "    </tr>\n",
              "    <tr>\n",
              "      <th>2017-11-10</th>\n",
              "      <td>1.16</td>\n",
              "    </tr>\n",
              "    <tr>\n",
              "      <th>2017-11-11</th>\n",
              "      <td>1.16</td>\n",
              "    </tr>\n",
              "    <tr>\n",
              "      <th>2017-11-12</th>\n",
              "      <td>1.16</td>\n",
              "    </tr>\n",
              "    <tr>\n",
              "      <th>2017-11-13</th>\n",
              "      <td>1.16</td>\n",
              "    </tr>\n",
              "    <tr>\n",
              "      <th>...</th>\n",
              "      <td>...</td>\n",
              "    </tr>\n",
              "    <tr>\n",
              "      <th>2023-07-15</th>\n",
              "      <td>5.08</td>\n",
              "    </tr>\n",
              "    <tr>\n",
              "      <th>2023-07-16</th>\n",
              "      <td>5.08</td>\n",
              "    </tr>\n",
              "    <tr>\n",
              "      <th>2023-07-17</th>\n",
              "      <td>5.08</td>\n",
              "    </tr>\n",
              "    <tr>\n",
              "      <th>2023-07-18</th>\n",
              "      <td>5.08</td>\n",
              "    </tr>\n",
              "    <tr>\n",
              "      <th>2023-07-19</th>\n",
              "      <td>5.08</td>\n",
              "    </tr>\n",
              "  </tbody>\n",
              "</table>\n",
              "<p>2079 rows × 1 columns</p>\n",
              "</div>\n",
              "      <button class=\"colab-df-convert\" onclick=\"convertToInteractive('df-3a86054e-7d53-47c5-ac71-575a81eab1c8')\"\n",
              "              title=\"Convert this dataframe to an interactive table.\"\n",
              "              style=\"display:none;\">\n",
              "\n",
              "  <svg xmlns=\"http://www.w3.org/2000/svg\" height=\"24px\"viewBox=\"0 0 24 24\"\n",
              "       width=\"24px\">\n",
              "    <path d=\"M0 0h24v24H0V0z\" fill=\"none\"/>\n",
              "    <path d=\"M18.56 5.44l.94 2.06.94-2.06 2.06-.94-2.06-.94-.94-2.06-.94 2.06-2.06.94zm-11 1L8.5 8.5l.94-2.06 2.06-.94-2.06-.94L8.5 2.5l-.94 2.06-2.06.94zm10 10l.94 2.06.94-2.06 2.06-.94-2.06-.94-.94-2.06-.94 2.06-2.06.94z\"/><path d=\"M17.41 7.96l-1.37-1.37c-.4-.4-.92-.59-1.43-.59-.52 0-1.04.2-1.43.59L10.3 9.45l-7.72 7.72c-.78.78-.78 2.05 0 2.83L4 21.41c.39.39.9.59 1.41.59.51 0 1.02-.2 1.41-.59l7.78-7.78 2.81-2.81c.8-.78.8-2.07 0-2.86zM5.41 20L4 18.59l7.72-7.72 1.47 1.35L5.41 20z\"/>\n",
              "  </svg>\n",
              "      </button>\n",
              "\n",
              "\n",
              "\n",
              "    <div id=\"df-9d63989e-301c-4254-a558-19ba54dda2ce\">\n",
              "      <button class=\"colab-df-quickchart\" onclick=\"quickchart('df-9d63989e-301c-4254-a558-19ba54dda2ce')\"\n",
              "              title=\"Suggest charts.\"\n",
              "              style=\"display:none;\">\n",
              "\n",
              "<svg xmlns=\"http://www.w3.org/2000/svg\" height=\"24px\"viewBox=\"0 0 24 24\"\n",
              "     width=\"24px\">\n",
              "    <g>\n",
              "        <path d=\"M19 3H5c-1.1 0-2 .9-2 2v14c0 1.1.9 2 2 2h14c1.1 0 2-.9 2-2V5c0-1.1-.9-2-2-2zM9 17H7v-7h2v7zm4 0h-2V7h2v10zm4 0h-2v-4h2v4z\"/>\n",
              "    </g>\n",
              "</svg>\n",
              "      </button>\n",
              "    </div>\n",
              "\n",
              "<style>\n",
              "  .colab-df-quickchart {\n",
              "    background-color: #E8F0FE;\n",
              "    border: none;\n",
              "    border-radius: 50%;\n",
              "    cursor: pointer;\n",
              "    display: none;\n",
              "    fill: #1967D2;\n",
              "    height: 32px;\n",
              "    padding: 0 0 0 0;\n",
              "    width: 32px;\n",
              "  }\n",
              "\n",
              "  .colab-df-quickchart:hover {\n",
              "    background-color: #E2EBFA;\n",
              "    box-shadow: 0px 1px 2px rgba(60, 64, 67, 0.3), 0px 1px 3px 1px rgba(60, 64, 67, 0.15);\n",
              "    fill: #174EA6;\n",
              "  }\n",
              "\n",
              "  [theme=dark] .colab-df-quickchart {\n",
              "    background-color: #3B4455;\n",
              "    fill: #D2E3FC;\n",
              "  }\n",
              "\n",
              "  [theme=dark] .colab-df-quickchart:hover {\n",
              "    background-color: #434B5C;\n",
              "    box-shadow: 0px 1px 3px 1px rgba(0, 0, 0, 0.15);\n",
              "    filter: drop-shadow(0px 1px 2px rgba(0, 0, 0, 0.3));\n",
              "    fill: #FFFFFF;\n",
              "  }\n",
              "</style>\n",
              "\n",
              "    <script>\n",
              "      async function quickchart(key) {\n",
              "        const containerElement = document.querySelector('#' + key);\n",
              "        const charts = await google.colab.kernel.invokeFunction(\n",
              "            'suggestCharts', [key], {});\n",
              "      }\n",
              "    </script>\n",
              "\n",
              "      <script>\n",
              "\n",
              "function displayQuickchartButton(domScope) {\n",
              "  let quickchartButtonEl =\n",
              "    domScope.querySelector('#df-9d63989e-301c-4254-a558-19ba54dda2ce button.colab-df-quickchart');\n",
              "  quickchartButtonEl.style.display =\n",
              "    google.colab.kernel.accessAllowed ? 'block' : 'none';\n",
              "}\n",
              "\n",
              "        displayQuickchartButton(document);\n",
              "      </script>\n",
              "      <style>\n",
              "    .colab-df-container {\n",
              "      display:flex;\n",
              "      flex-wrap:wrap;\n",
              "      gap: 12px;\n",
              "    }\n",
              "\n",
              "    .colab-df-convert {\n",
              "      background-color: #E8F0FE;\n",
              "      border: none;\n",
              "      border-radius: 50%;\n",
              "      cursor: pointer;\n",
              "      display: none;\n",
              "      fill: #1967D2;\n",
              "      height: 32px;\n",
              "      padding: 0 0 0 0;\n",
              "      width: 32px;\n",
              "    }\n",
              "\n",
              "    .colab-df-convert:hover {\n",
              "      background-color: #E2EBFA;\n",
              "      box-shadow: 0px 1px 2px rgba(60, 64, 67, 0.3), 0px 1px 3px 1px rgba(60, 64, 67, 0.15);\n",
              "      fill: #174EA6;\n",
              "    }\n",
              "\n",
              "    [theme=dark] .colab-df-convert {\n",
              "      background-color: #3B4455;\n",
              "      fill: #D2E3FC;\n",
              "    }\n",
              "\n",
              "    [theme=dark] .colab-df-convert:hover {\n",
              "      background-color: #434B5C;\n",
              "      box-shadow: 0px 1px 3px 1px rgba(0, 0, 0, 0.15);\n",
              "      filter: drop-shadow(0px 1px 2px rgba(0, 0, 0, 0.3));\n",
              "      fill: #FFFFFF;\n",
              "    }\n",
              "  </style>\n",
              "\n",
              "      <script>\n",
              "        const buttonEl =\n",
              "          document.querySelector('#df-3a86054e-7d53-47c5-ac71-575a81eab1c8 button.colab-df-convert');\n",
              "        buttonEl.style.display =\n",
              "          google.colab.kernel.accessAllowed ? 'block' : 'none';\n",
              "\n",
              "        async function convertToInteractive(key) {\n",
              "          const element = document.querySelector('#df-3a86054e-7d53-47c5-ac71-575a81eab1c8');\n",
              "          const dataTable =\n",
              "            await google.colab.kernel.invokeFunction('convertToInteractive',\n",
              "                                                     [key], {});\n",
              "          if (!dataTable) return;\n",
              "\n",
              "          const docLinkHtml = 'Like what you see? Visit the ' +\n",
              "            '<a target=\"_blank\" href=https://colab.research.google.com/notebooks/data_table.ipynb>data table notebook</a>'\n",
              "            + ' to learn more about interactive tables.';\n",
              "          element.innerHTML = '';\n",
              "          dataTable['output_type'] = 'display_data';\n",
              "          await google.colab.output.renderOutput(dataTable, element);\n",
              "          const docLink = document.createElement('div');\n",
              "          docLink.innerHTML = docLinkHtml;\n",
              "          element.appendChild(docLink);\n",
              "        }\n",
              "      </script>\n",
              "    </div>\n",
              "  </div>\n"
            ]
          },
          "metadata": {},
          "execution_count": 2
        }
      ]
    },
    {
      "cell_type": "code",
      "source": [
        "# 기준금리 데이터 출력\n",
        "print(df_interest)"
      ],
      "metadata": {
        "colab": {
          "base_uri": "https://localhost:8080/"
        },
        "id": "T5Dc3IPsL4_0",
        "outputId": "f22fd2e4-af1b-4424-ba69-b0ba99a9f448"
      },
      "execution_count": null,
      "outputs": [
        {
          "output_type": "stream",
          "name": "stdout",
          "text": [
            "            기준금리\n",
            "날짜              \n",
            "2017-11-09  1.16\n",
            "2017-11-10  1.16\n",
            "2017-11-11  1.16\n",
            "2017-11-12  1.16\n",
            "2017-11-13  1.16\n",
            "...          ...\n",
            "2023-07-15  5.08\n",
            "2023-07-16  5.08\n",
            "2023-07-17  5.08\n",
            "2023-07-18  5.08\n",
            "2023-07-19  5.08\n",
            "\n",
            "[2079 rows x 1 columns]\n"
          ]
        }
      ]
    },
    {
      "cell_type": "markdown",
      "source": [
        "#### 2-2 데이터를 저장하는 코드"
      ],
      "metadata": {
        "id": "Z5mq_T6hNENT"
      }
    },
    {
      "cell_type": "code",
      "source": [
        "# 기준금리 데이터를 CSV 파일로 저장\n",
        "\n",
        "# CSV 파일로 저장합니다.\n",
        "from google.colab import files\n",
        "\n",
        "df_interest.to_csv('interest.csv', encoding='utf-8-sig')\n",
        "\n",
        "# 파일을 다운로드합니다.\n",
        "files.download('interest.csv')"
      ],
      "metadata": {
        "colab": {
          "base_uri": "https://localhost:8080/",
          "height": 17
        },
        "id": "5-8qzidYMHib",
        "outputId": "ef64d8cd-d1ff-4477-fa2f-38bdb3837753"
      },
      "execution_count": null,
      "outputs": [
        {
          "output_type": "display_data",
          "data": {
            "text/plain": [
              "<IPython.core.display.Javascript object>"
            ],
            "application/javascript": [
              "\n",
              "    async function download(id, filename, size) {\n",
              "      if (!google.colab.kernel.accessAllowed) {\n",
              "        return;\n",
              "      }\n",
              "      const div = document.createElement('div');\n",
              "      const label = document.createElement('label');\n",
              "      label.textContent = `Downloading \"${filename}\": `;\n",
              "      div.appendChild(label);\n",
              "      const progress = document.createElement('progress');\n",
              "      progress.max = size;\n",
              "      div.appendChild(progress);\n",
              "      document.body.appendChild(div);\n",
              "\n",
              "      const buffers = [];\n",
              "      let downloaded = 0;\n",
              "\n",
              "      const channel = await google.colab.kernel.comms.open(id);\n",
              "      // Send a message to notify the kernel that we're ready.\n",
              "      channel.send({})\n",
              "\n",
              "      for await (const message of channel.messages) {\n",
              "        // Send a message to notify the kernel that we're ready.\n",
              "        channel.send({})\n",
              "        if (message.buffers) {\n",
              "          for (const buffer of message.buffers) {\n",
              "            buffers.push(buffer);\n",
              "            downloaded += buffer.byteLength;\n",
              "            progress.value = downloaded;\n",
              "          }\n",
              "        }\n",
              "      }\n",
              "      const blob = new Blob(buffers, {type: 'application/binary'});\n",
              "      const a = document.createElement('a');\n",
              "      a.href = window.URL.createObjectURL(blob);\n",
              "      a.download = filename;\n",
              "      div.appendChild(a);\n",
              "      a.click();\n",
              "      div.remove();\n",
              "    }\n",
              "  "
            ]
          },
          "metadata": {}
        },
        {
          "output_type": "display_data",
          "data": {
            "text/plain": [
              "<IPython.core.display.Javascript object>"
            ],
            "application/javascript": [
              "download(\"download_33bccebe-7579-43f6-923c-0216ea4956c8\", \"interest.csv\", 32965)"
            ]
          },
          "metadata": {}
        }
      ]
    },
    {
      "cell_type": "markdown",
      "source": [
        "#### 2-3 차트로 만들기"
      ],
      "metadata": {
        "id": "XWlz-nOfNMcM"
      }
    },
    {
      "cell_type": "code",
      "source": [
        "# 차트를 그립니다.\n",
        "plt.figure(figsize=(10, 6))\n",
        "plt.plot(df_interest)  #df_interest 대신에 \"data_interest\"를 입력하면 어떻게 달라질까요?\n",
        "plt.title('usa_interest')\n",
        "plt.xlabel('day')\n",
        "plt.ylabel('interest(%)')\n",
        "plt.grid(True)\n",
        "plt.show()"
      ],
      "metadata": {
        "colab": {
          "base_uri": "https://localhost:8080/",
          "height": 564
        },
        "id": "o-OjELXlJk_M",
        "outputId": "61d5f997-8c34-49ce-ee5a-5e2d0571d048"
      },
      "execution_count": null,
      "outputs": [
        {
          "output_type": "display_data",
          "data": {
            "text/plain": [
              "<Figure size 1000x600 with 1 Axes>"
            ],
            "image/png": "[encoded data removed]"
          },
          "metadata": {}
        }
      ]
    }
  ]
}
