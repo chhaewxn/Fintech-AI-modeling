{
  "cells": [
    {
      "cell_type": "markdown",
      "source": [
        "# 분류 모형 : 여행자 보험금을 청구할 고객을 맞혀보자\n",
        "## 1. 데이터 불러오기"
      ],
      "metadata": {
        "id": "73DzEZb-C6iU"
      },
      "id": "73DzEZb-C6iU"
    },
    {
      "cell_type": "code",
      "execution_count": 1,
      "id": "gentle-imagination",
      "metadata": {
        "id": "gentle-imagination"
      },
      "outputs": [],
      "source": [
        "import pandas as pd\n",
        "import warnings\n",
        "warnings.filterwarnings('ignore')"
      ]
    },
    {
      "cell_type": "code",
      "execution_count": 2,
      "id": "aboriginal-pharmacy",
      "metadata": {
        "id": "aboriginal-pharmacy"
      },
      "outputs": [],
      "source": [
        "travel_insurance = pd.read_csv(\"https://raw.githubusercontent.com/fintech-data/Revolution/main/data/travel%20insurance.csv\")"
      ]
    },
    {
      "cell_type": "code",
      "execution_count": 3,
      "id": "laden-diesel",
      "metadata": {
        "id": "laden-diesel",
        "outputId": "c69ad5a1-8140-4bfc-f58f-29e0588edc3b",
        "colab": {
          "base_uri": "https://localhost:8080/",
          "height": 206
        }
      },
      "outputs": [
        {
          "output_type": "execute_result",
          "data": {
            "text/plain": [
              "  Agency    Agency Type Distribution Channel                     Product Name  \\\n",
              "0    CBH  Travel Agency              Offline               Comprehensive Plan   \n",
              "1    CBH  Travel Agency              Offline               Comprehensive Plan   \n",
              "2    CWT  Travel Agency               Online  Rental Vehicle Excess Insurance   \n",
              "3    CWT  Travel Agency               Online  Rental Vehicle Excess Insurance   \n",
              "4    CWT  Travel Agency               Online  Rental Vehicle Excess Insurance   \n",
              "\n",
              "  Claim  Duration Destination  Net Sales  Commision (in value) Gender  Age  \n",
              "0    No       186    MALAYSIA      -29.0                  9.57      F   81  \n",
              "1    No       186    MALAYSIA      -29.0                  9.57      F   71  \n",
              "2    No        65   AUSTRALIA      -49.5                 29.70    NaN   32  \n",
              "3    No        60   AUSTRALIA      -39.6                 23.76    NaN   32  \n",
              "4    No        79       ITALY      -19.8                 11.88    NaN   41  "
            ],
            "text/html": [
              "\n",
              "  <div id=\"df-ab6d389b-7118-42db-8bf4-285491810358\" class=\"colab-df-container\">\n",
              "    <div>\n",
              "<style scoped>\n",
              "    .dataframe tbody tr th:only-of-type {\n",
              "        vertical-align: middle;\n",
              "    }\n",
              "\n",
              "    .dataframe tbody tr th {\n",
              "        vertical-align: top;\n",
              "    }\n",
              "\n",
              "    .dataframe thead th {\n",
              "        text-align: right;\n",
              "    }\n",
              "</style>\n",
              "<table border=\"1\" class=\"dataframe\">\n",
              "  <thead>\n",
              "    <tr style=\"text-align: right;\">\n",
              "      <th></th>\n",
              "      <th>Agency</th>\n",
              "      <th>Agency Type</th>\n",
              "      <th>Distribution Channel</th>\n",
              "      <th>Product Name</th>\n",
              "      <th>Claim</th>\n",
              "      <th>Duration</th>\n",
              "      <th>Destination</th>\n",
              "      <th>Net Sales</th>\n",
              "      <th>Commision (in value)</th>\n",
              "      <th>Gender</th>\n",
              "      <th>Age</th>\n",
              "    </tr>\n",
              "  </thead>\n",
              "  <tbody>\n",
              "    <tr>\n",
              "      <th>0</th>\n",
              "      <td>CBH</td>\n",
              "      <td>Travel Agency</td>\n",
              "      <td>Offline</td>\n",
              "      <td>Comprehensive Plan</td>\n",
              "      <td>No</td>\n",
              "      <td>186</td>\n",
              "      <td>MALAYSIA</td>\n",
              "      <td>-29.0</td>\n",
              "      <td>9.57</td>\n",
              "      <td>F</td>\n",
              "      <td>81</td>\n",
              "    </tr>\n",
              "    <tr>\n",
              "      <th>1</th>\n",
              "      <td>CBH</td>\n",
              "      <td>Travel Agency</td>\n",
              "      <td>Offline</td>\n",
              "      <td>Comprehensive Plan</td>\n",
              "      <td>No</td>\n",
              "      <td>186</td>\n",
              "      <td>MALAYSIA</td>\n",
              "      <td>-29.0</td>\n",
              "      <td>9.57</td>\n",
              "      <td>F</td>\n",
              "      <td>71</td>\n",
              "    </tr>\n",
              "    <tr>\n",
              "      <th>2</th>\n",
              "      <td>CWT</td>\n",
              "      <td>Travel Agency</td>\n",
              "      <td>Online</td>\n",
              "      <td>Rental Vehicle Excess Insurance</td>\n",
              "      <td>No</td>\n",
              "      <td>65</td>\n",
              "      <td>AUSTRALIA</td>\n",
              "      <td>-49.5</td>\n",
              "      <td>29.70</td>\n",
              "      <td>NaN</td>\n",
              "      <td>32</td>\n",
              "    </tr>\n",
              "    <tr>\n",
              "      <th>3</th>\n",
              "      <td>CWT</td>\n",
              "      <td>Travel Agency</td>\n",
              "      <td>Online</td>\n",
              "      <td>Rental Vehicle Excess Insurance</td>\n",
              "      <td>No</td>\n",
              "      <td>60</td>\n",
              "      <td>AUSTRALIA</td>\n",
              "      <td>-39.6</td>\n",
              "      <td>23.76</td>\n",
              "      <td>NaN</td>\n",
              "      <td>32</td>\n",
              "    </tr>\n",
              "    <tr>\n",
              "      <th>4</th>\n",
              "      <td>CWT</td>\n",
              "      <td>Travel Agency</td>\n",
              "      <td>Online</td>\n",
              "      <td>Rental Vehicle Excess Insurance</td>\n",
              "      <td>No</td>\n",
              "      <td>79</td>\n",
              "      <td>ITALY</td>\n",
              "      <td>-19.8</td>\n",
              "      <td>11.88</td>\n",
              "      <td>NaN</td>\n",
              "      <td>41</td>\n",
              "    </tr>\n",
              "  </tbody>\n",
              "</table>\n",
              "</div>\n",
              "    <div class=\"colab-df-buttons\">\n",
              "\n",
              "  <div class=\"colab-df-container\">\n",
              "    <button class=\"colab-df-convert\" onclick=\"convertToInteractive('df-ab6d389b-7118-42db-8bf4-285491810358')\"\n",
              "            title=\"Convert this dataframe to an interactive table.\"\n",
              "            style=\"display:none;\">\n",
              "\n",
              "  <svg xmlns=\"http://www.w3.org/2000/svg\" height=\"24px\" viewBox=\"0 -960 960 960\">\n",
              "    <path d=\"M120-120v-720h720v720H120Zm60-500h600v-160H180v160Zm220 220h160v-160H400v160Zm0 220h160v-160H400v160ZM180-400h160v-160H180v160Zm440 0h160v-160H620v160ZM180-180h160v-160H180v160Zm440 0h160v-160H620v160Z\"/>\n",
              "  </svg>\n",
              "    </button>\n",
              "\n",
              "  <style>\n",
              "    .colab-df-container {\n",
              "      display:flex;\n",
              "      gap: 12px;\n",
              "    }\n",
              "\n",
              "    .colab-df-convert {\n",
              "      background-color: #E8F0FE;\n",
              "      border: none;\n",
              "      border-radius: 50%;\n",
              "      cursor: pointer;\n",
              "      display: none;\n",
              "      fill: #1967D2;\n",
              "      height: 32px;\n",
              "      padding: 0 0 0 0;\n",
              "      width: 32px;\n",
              "    }\n",
              "\n",
              "    .colab-df-convert:hover {\n",
              "      background-color: #E2EBFA;\n",
              "      box-shadow: 0px 1px 2px rgba(60, 64, 67, 0.3), 0px 1px 3px 1px rgba(60, 64, 67, 0.15);\n",
              "      fill: #174EA6;\n",
              "    }\n",
              "\n",
              "    .colab-df-buttons div {\n",
              "      margin-bottom: 4px;\n",
              "    }\n",
              "\n",
              "    [theme=dark] .colab-df-convert {\n",
              "      background-color: #3B4455;\n",
              "      fill: #D2E3FC;\n",
              "    }\n",
              "\n",
              "    [theme=dark] .colab-df-convert:hover {\n",
              "      background-color: #434B5C;\n",
              "      box-shadow: 0px 1px 3px 1px rgba(0, 0, 0, 0.15);\n",
              "      filter: drop-shadow(0px 1px 2px rgba(0, 0, 0, 0.3));\n",
              "      fill: #FFFFFF;\n",
              "    }\n",
              "  </style>\n",
              "\n",
              "    <script>\n",
              "      const buttonEl =\n",
              "        document.querySelector('#df-ab6d389b-7118-42db-8bf4-285491810358 button.colab-df-convert');\n",
              "      buttonEl.style.display =\n",
              "        google.colab.kernel.accessAllowed ? 'block' : 'none';\n",
              "\n",
              "      async function convertToInteractive(key) {\n",
              "        const element = document.querySelector('#df-ab6d389b-7118-42db-8bf4-285491810358');\n",
              "        const dataTable =\n",
              "          await google.colab.kernel.invokeFunction('convertToInteractive',\n",
              "                                                    [key], {});\n",
              "        if (!dataTable) return;\n",
              "\n",
              "        const docLinkHtml = 'Like what you see? Visit the ' +\n",
              "          '<a target=\"_blank\" href=https://colab.research.google.com/notebooks/data_table.ipynb>data table notebook</a>'\n",
              "          + ' to learn more about interactive tables.';\n",
              "        element.innerHTML = '';\n",
              "        dataTable['output_type'] = 'display_data';\n",
              "        await google.colab.output.renderOutput(dataTable, element);\n",
              "        const docLink = document.createElement('div');\n",
              "        docLink.innerHTML = docLinkHtml;\n",
              "        element.appendChild(docLink);\n",
              "      }\n",
              "    </script>\n",
              "  </div>\n",
              "\n",
              "\n",
              "<div id=\"df-485be559-82e0-40a1-a08b-ec69f16abba3\">\n",
              "  <button class=\"colab-df-quickchart\" onclick=\"quickchart('df-485be559-82e0-40a1-a08b-ec69f16abba3')\"\n",
              "            title=\"Suggest charts.\"\n",
              "            style=\"display:none;\">\n",
              "\n",
              "<svg xmlns=\"http://www.w3.org/2000/svg\" height=\"24px\"viewBox=\"0 0 24 24\"\n",
              "     width=\"24px\">\n",
              "    <g>\n",
              "        <path d=\"M19 3H5c-1.1 0-2 .9-2 2v14c0 1.1.9 2 2 2h14c1.1 0 2-.9 2-2V5c0-1.1-.9-2-2-2zM9 17H7v-7h2v7zm4 0h-2V7h2v10zm4 0h-2v-4h2v4z\"/>\n",
              "    </g>\n",
              "</svg>\n",
              "  </button>\n",
              "\n",
              "<style>\n",
              "  .colab-df-quickchart {\n",
              "    background-color: #E8F0FE;\n",
              "    border: none;\n",
              "    border-radius: 50%;\n",
              "    cursor: pointer;\n",
              "    display: none;\n",
              "    fill: #1967D2;\n",
              "    height: 32px;\n",
              "    padding: 0 0 0 0;\n",
              "    width: 32px;\n",
              "  }\n",
              "\n",
              "  .colab-df-quickchart:hover {\n",
              "    background-color: #E2EBFA;\n",
              "    box-shadow: 0px 1px 2px rgba(60, 64, 67, 0.3), 0px 1px 3px 1px rgba(60, 64, 67, 0.15);\n",
              "    fill: #174EA6;\n",
              "  }\n",
              "\n",
              "  [theme=dark] .colab-df-quickchart {\n",
              "    background-color: #3B4455;\n",
              "    fill: #D2E3FC;\n",
              "  }\n",
              "\n",
              "  [theme=dark] .colab-df-quickchart:hover {\n",
              "    background-color: #434B5C;\n",
              "    box-shadow: 0px 1px 3px 1px rgba(0, 0, 0, 0.15);\n",
              "    filter: drop-shadow(0px 1px 2px rgba(0, 0, 0, 0.3));\n",
              "    fill: #FFFFFF;\n",
              "  }\n",
              "</style>\n",
              "\n",
              "  <script>\n",
              "    async function quickchart(key) {\n",
              "      const charts = await google.colab.kernel.invokeFunction(\n",
              "          'suggestCharts', [key], {});\n",
              "    }\n",
              "    (() => {\n",
              "      let quickchartButtonEl =\n",
              "        document.querySelector('#df-485be559-82e0-40a1-a08b-ec69f16abba3 button');\n",
              "      quickchartButtonEl.style.display =\n",
              "        google.colab.kernel.accessAllowed ? 'block' : 'none';\n",
              "    })();\n",
              "  </script>\n",
              "</div>\n",
              "    </div>\n",
              "  </div>\n"
            ]
          },
          "metadata": {},
          "execution_count": 3
        }
      ],
      "source": [
        "travel_insurance.head()"
      ]
    },
    {
      "cell_type": "code",
      "execution_count": 4,
      "id": "religious-roller",
      "metadata": {
        "id": "religious-roller"
      },
      "outputs": [],
      "source": [
        "travel_insurance.rename(columns={ 'Agency Type':'Agency_Type', 'Distribution Channel':'Distribution_Channel', 'Product Name':'Product_Name',\n",
        "       'Net Sales':'Net_Sales', 'Commision (in value)':'Commision_in_value'\n",
        "       },inplace=True)\n"
      ]
    },
    {
      "cell_type": "markdown",
      "id": "tracked-yukon",
      "metadata": {
        "id": "tracked-yukon"
      },
      "source": [
        "- Agency: str, 보험 판매점\n",
        "- Agency Type: str, 판매점 형태\n",
        "- Distribution Channel: str, 판매 채널\n",
        "- Product Name : str,  판매 상품 종류\n",
        "- Duration: str, 보험기간\n",
        "- Destination: str,  여행국가\n",
        "- Net Sales: int, 순마진\n",
        "- Commision (in value): float, 수수료\n",
        "- Gender: str, 성별\n",
        "- Age: int, 나이\n",
        "- Claim : 보험금 청구\n"
      ]
    },
    {
      "cell_type": "markdown",
      "id": "federal-reward",
      "metadata": {
        "id": "federal-reward"
      },
      "source": [
        "# 2. 데이터 전처리"
      ]
    },
    {
      "cell_type": "code",
      "execution_count": 5,
      "id": "drawn-edinburgh",
      "metadata": {
        "id": "drawn-edinburgh",
        "outputId": "5ea6701e-aa3b-43f3-bac9-4a3c81c6c0b7",
        "colab": {
          "base_uri": "https://localhost:8080/"
        }
      },
      "outputs": [
        {
          "output_type": "execute_result",
          "data": {
            "text/plain": [
              "(63326, 11)"
            ]
          },
          "metadata": {},
          "execution_count": 5
        }
      ],
      "source": [
        "travel_insurance.shape"
      ]
    },
    {
      "cell_type": "code",
      "execution_count": 6,
      "id": "flush-influence",
      "metadata": {
        "id": "flush-influence",
        "outputId": "6573fa0c-dd21-4a43-917b-3f0cabaa1150",
        "colab": {
          "base_uri": "https://localhost:8080/"
        }
      },
      "outputs": [
        {
          "output_type": "stream",
          "name": "stdout",
          "text": [
            "<class 'pandas.core.frame.DataFrame'>\n",
            "RangeIndex: 63326 entries, 0 to 63325\n",
            "Data columns (total 11 columns):\n",
            " #   Column                Non-Null Count  Dtype  \n",
            "---  ------                --------------  -----  \n",
            " 0   Agency                63326 non-null  object \n",
            " 1   Agency_Type           63326 non-null  object \n",
            " 2   Distribution_Channel  63326 non-null  object \n",
            " 3   Product_Name          63326 non-null  object \n",
            " 4   Claim                 63326 non-null  object \n",
            " 5   Duration              63326 non-null  int64  \n",
            " 6   Destination           63326 non-null  object \n",
            " 7   Net_Sales             63326 non-null  float64\n",
            " 8   Commision_in_value    63326 non-null  float64\n",
            " 9   Gender                18219 non-null  object \n",
            " 10  Age                   63326 non-null  int64  \n",
            "dtypes: float64(2), int64(2), object(7)\n",
            "memory usage: 5.3+ MB\n"
          ]
        }
      ],
      "source": [
        "travel_insurance.info()"
      ]
    },
    {
      "cell_type": "markdown",
      "id": "polished-currency",
      "metadata": {
        "id": "polished-currency"
      },
      "source": [
        "## 2-1. 결측치 제거"
      ]
    },
    {
      "cell_type": "code",
      "execution_count": 7,
      "id": "martial-forge",
      "metadata": {
        "id": "martial-forge",
        "outputId": "2f405033-9bea-4215-da30-6907d689f60a",
        "colab": {
          "base_uri": "https://localhost:8080/"
        }
      },
      "outputs": [
        {
          "output_type": "execute_result",
          "data": {
            "text/plain": [
              "Agency                      0\n",
              "Agency_Type                 0\n",
              "Distribution_Channel        0\n",
              "Product_Name                0\n",
              "Claim                       0\n",
              "Duration                    0\n",
              "Destination                 0\n",
              "Net_Sales                   0\n",
              "Commision_in_value          0\n",
              "Gender                  45107\n",
              "Age                         0\n",
              "dtype: int64"
            ]
          },
          "metadata": {},
          "execution_count": 7
        }
      ],
      "source": [
        "travel_insurance.isnull().sum() #Gender에 결측치가 매우 많음"
      ]
    },
    {
      "cell_type": "code",
      "execution_count": 8,
      "id": "hawaiian-charge",
      "metadata": {
        "id": "hawaiian-charge",
        "outputId": "9d6d7e81-f7bd-4ffb-909f-202cda51c5fe",
        "colab": {
          "base_uri": "https://localhost:8080/"
        }
      },
      "outputs": [
        {
          "output_type": "execute_result",
          "data": {
            "text/plain": [
              "array(['F', nan, 'M'], dtype=object)"
            ]
          },
          "metadata": {},
          "execution_count": 8
        }
      ],
      "source": [
        "travel_insurance['Gender'].unique() # 성별을 모르는 경우가 매우 많다."
      ]
    },
    {
      "cell_type": "code",
      "execution_count": 9,
      "id": "recent-audience",
      "metadata": {
        "id": "recent-audience"
      },
      "outputs": [],
      "source": [
        "# History가 없는 경우 존재 -> NaN 값을 'None'이라는 모른다는 표시의 문자열로 변환\n",
        "travel_insurance['Gender'] = travel_insurance['Gender'].fillna('None')"
      ]
    },
    {
      "cell_type": "code",
      "execution_count": 10,
      "id": "placed-surname",
      "metadata": {
        "id": "placed-surname",
        "outputId": "426b6c88-f9ba-4e43-da23-f4a517392474",
        "colab": {
          "base_uri": "https://localhost:8080/"
        }
      },
      "outputs": [
        {
          "output_type": "execute_result",
          "data": {
            "text/plain": [
              "Agency                  0\n",
              "Agency_Type             0\n",
              "Distribution_Channel    0\n",
              "Product_Name            0\n",
              "Claim                   0\n",
              "Duration                0\n",
              "Destination             0\n",
              "Net_Sales               0\n",
              "Commision_in_value      0\n",
              "Gender                  0\n",
              "Age                     0\n",
              "dtype: int64"
            ]
          },
          "metadata": {},
          "execution_count": 10
        }
      ],
      "source": [
        "travel_insurance.isnull().sum()"
      ]
    },
    {
      "cell_type": "markdown",
      "id": "sustained-heating",
      "metadata": {
        "id": "sustained-heating"
      },
      "source": [
        "## 2-2. 이상치 탐지"
      ]
    },
    {
      "cell_type": "code",
      "execution_count": 11,
      "id": "golden-second",
      "metadata": {
        "id": "golden-second",
        "outputId": "6b9ea433-e3b1-4601-e08c-fd6edc86a3d6",
        "colab": {
          "base_uri": "https://localhost:8080/",
          "height": 300
        }
      },
      "outputs": [
        {
          "output_type": "execute_result",
          "data": {
            "text/plain": [
              "           Duration     Net_Sales  Commision_in_value           Age\n",
              "count  63326.000000  63326.000000        63326.000000  63326.000000\n",
              "mean      49.317074     40.702018            9.809992     39.969981\n",
              "std      101.791566     48.845637           19.804388     14.017010\n",
              "min       -2.000000   -389.000000            0.000000      0.000000\n",
              "25%        9.000000     18.000000            0.000000     35.000000\n",
              "50%       22.000000     26.530000            0.000000     36.000000\n",
              "75%       53.000000     48.000000           11.550000     43.000000\n",
              "max     4881.000000    810.000000          283.500000    118.000000"
            ],
            "text/html": [
              "\n",
              "  <div id=\"df-dbf26772-29e1-49a6-b951-ed26e5703c24\" class=\"colab-df-container\">\n",
              "    <div>\n",
              "<style scoped>\n",
              "    .dataframe tbody tr th:only-of-type {\n",
              "        vertical-align: middle;\n",
              "    }\n",
              "\n",
              "    .dataframe tbody tr th {\n",
              "        vertical-align: top;\n",
              "    }\n",
              "\n",
              "    .dataframe thead th {\n",
              "        text-align: right;\n",
              "    }\n",
              "</style>\n",
              "<table border=\"1\" class=\"dataframe\">\n",
              "  <thead>\n",
              "    <tr style=\"text-align: right;\">\n",
              "      <th></th>\n",
              "      <th>Duration</th>\n",
              "      <th>Net_Sales</th>\n",
              "      <th>Commision_in_value</th>\n",
              "      <th>Age</th>\n",
              "    </tr>\n",
              "  </thead>\n",
              "  <tbody>\n",
              "    <tr>\n",
              "      <th>count</th>\n",
              "      <td>63326.000000</td>\n",
              "      <td>63326.000000</td>\n",
              "      <td>63326.000000</td>\n",
              "      <td>63326.000000</td>\n",
              "    </tr>\n",
              "    <tr>\n",
              "      <th>mean</th>\n",
              "      <td>49.317074</td>\n",
              "      <td>40.702018</td>\n",
              "      <td>9.809992</td>\n",
              "      <td>39.969981</td>\n",
              "    </tr>\n",
              "    <tr>\n",
              "      <th>std</th>\n",
              "      <td>101.791566</td>\n",
              "      <td>48.845637</td>\n",
              "      <td>19.804388</td>\n",
              "      <td>14.017010</td>\n",
              "    </tr>\n",
              "    <tr>\n",
              "      <th>min</th>\n",
              "      <td>-2.000000</td>\n",
              "      <td>-389.000000</td>\n",
              "      <td>0.000000</td>\n",
              "      <td>0.000000</td>\n",
              "    </tr>\n",
              "    <tr>\n",
              "      <th>25%</th>\n",
              "      <td>9.000000</td>\n",
              "      <td>18.000000</td>\n",
              "      <td>0.000000</td>\n",
              "      <td>35.000000</td>\n",
              "    </tr>\n",
              "    <tr>\n",
              "      <th>50%</th>\n",
              "      <td>22.000000</td>\n",
              "      <td>26.530000</td>\n",
              "      <td>0.000000</td>\n",
              "      <td>36.000000</td>\n",
              "    </tr>\n",
              "    <tr>\n",
              "      <th>75%</th>\n",
              "      <td>53.000000</td>\n",
              "      <td>48.000000</td>\n",
              "      <td>11.550000</td>\n",
              "      <td>43.000000</td>\n",
              "    </tr>\n",
              "    <tr>\n",
              "      <th>max</th>\n",
              "      <td>4881.000000</td>\n",
              "      <td>810.000000</td>\n",
              "      <td>283.500000</td>\n",
              "      <td>118.000000</td>\n",
              "    </tr>\n",
              "  </tbody>\n",
              "</table>\n",
              "</div>\n",
              "    <div class=\"colab-df-buttons\">\n",
              "\n",
              "  <div class=\"colab-df-container\">\n",
              "    <button class=\"colab-df-convert\" onclick=\"convertToInteractive('df-dbf26772-29e1-49a6-b951-ed26e5703c24')\"\n",
              "            title=\"Convert this dataframe to an interactive table.\"\n",
              "            style=\"display:none;\">\n",
              "\n",
              "  <svg xmlns=\"http://www.w3.org/2000/svg\" height=\"24px\" viewBox=\"0 -960 960 960\">\n",
              "    <path d=\"M120-120v-720h720v720H120Zm60-500h600v-160H180v160Zm220 220h160v-160H400v160Zm0 220h160v-160H400v160ZM180-400h160v-160H180v160Zm440 0h160v-160H620v160ZM180-180h160v-160H180v160Zm440 0h160v-160H620v160Z\"/>\n",
              "  </svg>\n",
              "    </button>\n",
              "\n",
              "  <style>\n",
              "    .colab-df-container {\n",
              "      display:flex;\n",
              "      gap: 12px;\n",
              "    }\n",
              "\n",
              "    .colab-df-convert {\n",
              "      background-color: #E8F0FE;\n",
              "      border: none;\n",
              "      border-radius: 50%;\n",
              "      cursor: pointer;\n",
              "      display: none;\n",
              "      fill: #1967D2;\n",
              "      height: 32px;\n",
              "      padding: 0 0 0 0;\n",
              "      width: 32px;\n",
              "    }\n",
              "\n",
              "    .colab-df-convert:hover {\n",
              "      background-color: #E2EBFA;\n",
              "      box-shadow: 0px 1px 2px rgba(60, 64, 67, 0.3), 0px 1px 3px 1px rgba(60, 64, 67, 0.15);\n",
              "      fill: #174EA6;\n",
              "    }\n",
              "\n",
              "    .colab-df-buttons div {\n",
              "      margin-bottom: 4px;\n",
              "    }\n",
              "\n",
              "    [theme=dark] .colab-df-convert {\n",
              "      background-color: #3B4455;\n",
              "      fill: #D2E3FC;\n",
              "    }\n",
              "\n",
              "    [theme=dark] .colab-df-convert:hover {\n",
              "      background-color: #434B5C;\n",
              "      box-shadow: 0px 1px 3px 1px rgba(0, 0, 0, 0.15);\n",
              "      filter: drop-shadow(0px 1px 2px rgba(0, 0, 0, 0.3));\n",
              "      fill: #FFFFFF;\n",
              "    }\n",
              "  </style>\n",
              "\n",
              "    <script>\n",
              "      const buttonEl =\n",
              "        document.querySelector('#df-dbf26772-29e1-49a6-b951-ed26e5703c24 button.colab-df-convert');\n",
              "      buttonEl.style.display =\n",
              "        google.colab.kernel.accessAllowed ? 'block' : 'none';\n",
              "\n",
              "      async function convertToInteractive(key) {\n",
              "        const element = document.querySelector('#df-dbf26772-29e1-49a6-b951-ed26e5703c24');\n",
              "        const dataTable =\n",
              "          await google.colab.kernel.invokeFunction('convertToInteractive',\n",
              "                                                    [key], {});\n",
              "        if (!dataTable) return;\n",
              "\n",
              "        const docLinkHtml = 'Like what you see? Visit the ' +\n",
              "          '<a target=\"_blank\" href=https://colab.research.google.com/notebooks/data_table.ipynb>data table notebook</a>'\n",
              "          + ' to learn more about interactive tables.';\n",
              "        element.innerHTML = '';\n",
              "        dataTable['output_type'] = 'display_data';\n",
              "        await google.colab.output.renderOutput(dataTable, element);\n",
              "        const docLink = document.createElement('div');\n",
              "        docLink.innerHTML = docLinkHtml;\n",
              "        element.appendChild(docLink);\n",
              "      }\n",
              "    </script>\n",
              "  </div>\n",
              "\n",
              "\n",
              "<div id=\"df-fda25798-3147-4ae5-a5ae-5ef7fecc4e13\">\n",
              "  <button class=\"colab-df-quickchart\" onclick=\"quickchart('df-fda25798-3147-4ae5-a5ae-5ef7fecc4e13')\"\n",
              "            title=\"Suggest charts.\"\n",
              "            style=\"display:none;\">\n",
              "\n",
              "<svg xmlns=\"http://www.w3.org/2000/svg\" height=\"24px\"viewBox=\"0 0 24 24\"\n",
              "     width=\"24px\">\n",
              "    <g>\n",
              "        <path d=\"M19 3H5c-1.1 0-2 .9-2 2v14c0 1.1.9 2 2 2h14c1.1 0 2-.9 2-2V5c0-1.1-.9-2-2-2zM9 17H7v-7h2v7zm4 0h-2V7h2v10zm4 0h-2v-4h2v4z\"/>\n",
              "    </g>\n",
              "</svg>\n",
              "  </button>\n",
              "\n",
              "<style>\n",
              "  .colab-df-quickchart {\n",
              "    background-color: #E8F0FE;\n",
              "    border: none;\n",
              "    border-radius: 50%;\n",
              "    cursor: pointer;\n",
              "    display: none;\n",
              "    fill: #1967D2;\n",
              "    height: 32px;\n",
              "    padding: 0 0 0 0;\n",
              "    width: 32px;\n",
              "  }\n",
              "\n",
              "  .colab-df-quickchart:hover {\n",
              "    background-color: #E2EBFA;\n",
              "    box-shadow: 0px 1px 2px rgba(60, 64, 67, 0.3), 0px 1px 3px 1px rgba(60, 64, 67, 0.15);\n",
              "    fill: #174EA6;\n",
              "  }\n",
              "\n",
              "  [theme=dark] .colab-df-quickchart {\n",
              "    background-color: #3B4455;\n",
              "    fill: #D2E3FC;\n",
              "  }\n",
              "\n",
              "  [theme=dark] .colab-df-quickchart:hover {\n",
              "    background-color: #434B5C;\n",
              "    box-shadow: 0px 1px 3px 1px rgba(0, 0, 0, 0.15);\n",
              "    filter: drop-shadow(0px 1px 2px rgba(0, 0, 0, 0.3));\n",
              "    fill: #FFFFFF;\n",
              "  }\n",
              "</style>\n",
              "\n",
              "  <script>\n",
              "    async function quickchart(key) {\n",
              "      const charts = await google.colab.kernel.invokeFunction(\n",
              "          'suggestCharts', [key], {});\n",
              "    }\n",
              "    (() => {\n",
              "      let quickchartButtonEl =\n",
              "        document.querySelector('#df-fda25798-3147-4ae5-a5ae-5ef7fecc4e13 button');\n",
              "      quickchartButtonEl.style.display =\n",
              "        google.colab.kernel.accessAllowed ? 'block' : 'none';\n",
              "    })();\n",
              "  </script>\n",
              "</div>\n",
              "    </div>\n",
              "  </div>\n"
            ]
          },
          "metadata": {},
          "execution_count": 11
        }
      ],
      "source": [
        "travel_insurance.describe()"
      ]
    },
    {
      "cell_type": "code",
      "execution_count": 12,
      "id": "invalid-collectible",
      "metadata": {
        "id": "invalid-collectible"
      },
      "outputs": [],
      "source": [
        "import seaborn as sns\n",
        "import matplotlib.pyplot as plt\n",
        "import matplotlib.patheffects as path_effects\n",
        "%matplotlib inline"
      ]
    },
    {
      "cell_type": "code",
      "execution_count": 13,
      "id": "cross-gallery",
      "metadata": {
        "id": "cross-gallery",
        "outputId": "7df3d30d-2c21-4b59-cc1d-fa4220833c8b",
        "colab": {
          "base_uri": "https://localhost:8080/",
          "height": 430
        }
      },
      "outputs": [
        {
          "output_type": "display_data",
          "data": {
            "text/plain": [
              "<Figure size 640x480 with 1 Axes>"
            ],
            "image/png": "[encoded data removed]"
          },
          "metadata": {}
        }
      ],
      "source": [
        "bplot= sns.boxplot(data=travel_insurance) # DURATION에 매우 큰 이상치가 몰려있다."
      ]
    },
    {
      "cell_type": "code",
      "execution_count": 14,
      "id": "pacific-differential",
      "metadata": {
        "id": "pacific-differential",
        "outputId": "c033e1d0-e38b-4ebc-9f71-02e9837b5945",
        "colab": {
          "base_uri": "https://localhost:8080/",
          "height": 430
        }
      },
      "outputs": [
        {
          "output_type": "display_data",
          "data": {
            "text/plain": [
              "<Figure size 640x480 with 1 Axes>"
            ],
            "image/png": "[encoded data removed]"
          },
          "metadata": {}
        }
      ],
      "source": [
        "bplot= sns.boxplot(data= travel_insurance[['Duration']])"
      ]
    },
    {
      "cell_type": "code",
      "execution_count": 15,
      "id": "played-orange",
      "metadata": {
        "id": "played-orange",
        "outputId": "bf5cc127-5fe3-4fc1-ac07-297f797a0649",
        "colab": {
          "base_uri": "https://localhost:8080/",
          "height": 430
        }
      },
      "outputs": [
        {
          "output_type": "display_data",
          "data": {
            "text/plain": [
              "<Figure size 640x480 with 1 Axes>"
            ],
            "image/png": "[encoded data removed]"
          },
          "metadata": {}
        }
      ],
      "source": [
        "bplot= sns.boxplot(data= travel_insurance[['Net_Sales']])"
      ]
    },
    {
      "cell_type": "code",
      "execution_count": null,
      "id": "assisted-guatemala",
      "metadata": {
        "id": "assisted-guatemala"
      },
      "outputs": [],
      "source": [
        "bplot= sns.boxplot(data= travel_insurance[['Commision_in_value']])"
      ]
    },
    {
      "cell_type": "code",
      "execution_count": null,
      "id": "engaged-chocolate",
      "metadata": {
        "id": "engaged-chocolate"
      },
      "outputs": [],
      "source": [
        "bplot= sns.boxplot(data= travel_insurance[['Age']])"
      ]
    },
    {
      "cell_type": "markdown",
      "id": "virgin-hazard",
      "metadata": {
        "id": "virgin-hazard"
      },
      "source": [
        "##### CHECK : 데이터에 이상치로 보이는 값들이 다수 존재 하지만 실제 고객 데이터 값으로 보고 그대로 진행, 만약에 이상치가 있다면 다음의 코드를 실행해서 이상치를 처리에 활용할 수 있음"
      ]
    },
    {
      "cell_type": "code",
      "execution_count": null,
      "id": "interesting-friendly",
      "metadata": {
        "id": "interesting-friendly"
      },
      "outputs": [],
      "source": [
        "import numpy as np"
      ]
    },
    {
      "cell_type": "code",
      "execution_count": null,
      "id": "fresh-thesaurus",
      "metadata": {
        "id": "fresh-thesaurus"
      },
      "outputs": [],
      "source": [
        "def get_outlier(df=None, column=None, weight=1.5):\n",
        "    # target 값과 상관관계가 높은 열을 우선적으로 진행\n",
        "    q25 = np.percentile(df[column].values, 25)\n",
        "    q75 = np.percentile(df[column].values, 75)\n",
        "\n",
        "    IQR = q75 - q25\n",
        "    IQR_weight = IQR*weight\n",
        "\n",
        "    lowest = q25 - IQR_weight\n",
        "    highest = q75 + IQR_weight\n",
        "\n",
        "    outlier_idx = df[column][ (df[column] < lowest) | (df[column] > highest) ].index\n",
        "\n",
        "    return outlier_idx"
      ]
    },
    {
      "cell_type": "markdown",
      "id": "plain-repeat",
      "metadata": {
        "id": "plain-repeat"
      },
      "source": [
        "# 3. 탐색적 자료분석 (EDA)"
      ]
    },
    {
      "cell_type": "markdown",
      "id": "powered-boundary",
      "metadata": {
        "id": "powered-boundary"
      },
      "source": [
        "## 3-1 범주형 (빈도분석)"
      ]
    },
    {
      "cell_type": "code",
      "source": [
        "plt.figure(figsize=(15,10))\n",
        "for i in range(4):\n",
        "    plt.subplot(2,2,1) #오탈자수정 i->1\n",
        "    sns.countplot(x = 'Claim', data = travel_insurance)\n",
        "    plt.title('Claim')"
      ],
      "metadata": {
        "colab": {
          "base_uri": "https://localhost:8080/",
          "height": 452
        },
        "id": "pXzA0K8KFrO8",
        "outputId": "d41fab0c-1b07-4a80-80bc-944f92e5bf64"
      },
      "id": "pXzA0K8KFrO8",
      "execution_count": 65,
      "outputs": [
        {
          "output_type": "display_data",
          "data": {
            "text/plain": [
              "<Figure size 1500x1000 with 1 Axes>"
            ],
            "image/png": "[encoded data removed]"
          },
          "metadata": {}
        }
      ]
    },
    {
      "cell_type": "code",
      "source": [
        "plt.figure(figsize=(15,10))\n",
        "for i in range(4):\n",
        "    plt.subplot(2,2,1)\n",
        "    sns.countplot(x = 'Agency_Type', data = travel_insurance)\n",
        "    plt.title('Agency_Type')"
      ],
      "metadata": {
        "id": "XHXl50vErIkx"
      },
      "id": "XHXl50vErIkx",
      "execution_count": null,
      "outputs": []
    },
    {
      "cell_type": "code",
      "source": [
        "plt.figure(figsize=(15,10))\n",
        "for i in range(4):\n",
        "    plt.subplot(2,2,1) #오탈자수정 i->1\n",
        "    sns.countplot(x = 'Product_Name', data = travel_insurance)\n",
        "    plt.title('Product_Name ')"
      ],
      "metadata": {
        "id": "VRhBf9xFMin7"
      },
      "id": "VRhBf9xFMin7",
      "execution_count": null,
      "outputs": []
    },
    {
      "cell_type": "code",
      "execution_count": null,
      "id": "remarkable-prague",
      "metadata": {
        "id": "remarkable-prague"
      },
      "outputs": [],
      "source": [
        "plt.figure(figsize=(15,10))\n",
        "for i in range(4):\n",
        "    plt.subplot(2,2,1)\n",
        "    sns.countplot(x = 'Distribution_Channel', data = travel_insurance)\n",
        "    plt.title('Distribution_Channel')"
      ]
    },
    {
      "cell_type": "code",
      "source": [
        "plt.figure(figsize=(15,10))\n",
        "for i in range(4):\n",
        "    plt.subplot(2,2,1)\n",
        "    sns.countplot(x = 'Gender', data = travel_insurance)\n",
        "    plt.title('Gender')"
      ],
      "metadata": {
        "id": "S6E_NtBFGdvc"
      },
      "id": "S6E_NtBFGdvc",
      "execution_count": null,
      "outputs": []
    },
    {
      "cell_type": "code",
      "execution_count": null,
      "id": "impressive-stadium",
      "metadata": {
        "id": "impressive-stadium"
      },
      "outputs": [],
      "source": [
        "plt.figure(figsize=(15,10))\n",
        "\n",
        "wedges, texts = plt.pie(travel_insurance['Destination'].value_counts(),\n",
        "                                  labels = travel_insurance['Destination'].unique(),\n",
        "                                  shadow = True,\n",
        "                                  textprops = dict(color =\"magenta\"))\n",
        "\n",
        "\n",
        "plt.pie(travel_insurance['Destination'].value_counts(),labels=travel_insurance['Destination'].unique())\n",
        "plt.title('Destination')"
      ]
    },
    {
      "cell_type": "code",
      "execution_count": null,
      "id": "corporate-denial",
      "metadata": {
        "id": "corporate-denial"
      },
      "outputs": [],
      "source": [
        "plt.figure(figsize = (10,4))\n",
        "plt.hist(travel_insurance['Age'],bins=100)\n",
        "plt.title('Age')\n",
        "plt.xticks(rotation=90)"
      ]
    },
    {
      "cell_type": "markdown",
      "id": "material-indianapolis",
      "metadata": {
        "id": "material-indianapolis"
      },
      "source": [
        "## 3-2 종속변수 y"
      ]
    },
    {
      "cell_type": "code",
      "execution_count": null,
      "id": "continuing-dylan",
      "metadata": {
        "id": "continuing-dylan"
      },
      "outputs": [],
      "source": [
        "plt.figure(figsize=[10,10])\n",
        "sorted_counts= travel_insurance.Claim.value_counts()\n",
        "plt.pie(sorted_counts, explode=(0.1,0),labels=['No', 'Yes'],\n",
        "       colors=['#009ACD', '#ADD8E6'], autopct='%1.0f%%',\n",
        "       shadow=False, startangle=0,\n",
        "       pctdistance=1.2,labeldistance=1.4)\n",
        "plt.axis('equal')\n",
        "plt.title(\"Number of Travel Claimed vs Non-Claimed\")\n",
        "\n",
        "\n",
        "# : 불균형이 상당히 심한 불균형 데이터\n",
        "## 1) 평가지표를 f1 score를 사용\n",
        "## 2) 머신러닝 불균형 해소 방법인 SMOTE 이용"
      ]
    },
    {
      "cell_type": "markdown",
      "id": "mighty-sunglasses",
      "metadata": {
        "id": "mighty-sunglasses"
      },
      "source": [
        "## 3-3. 연속형"
      ]
    },
    {
      "cell_type": "code",
      "execution_count": 23,
      "id": "refined-formula",
      "metadata": {
        "id": "refined-formula",
        "colab": {
          "base_uri": "https://localhost:8080/",
          "height": 112
        },
        "outputId": "2af719b7-2f4d-4c1b-e466-0ff19766af1e"
      },
      "outputs": [
        {
          "output_type": "execute_result",
          "data": {
            "text/plain": [
              "  Agency    Agency_Type Distribution_Channel        Product_Name Claim  \\\n",
              "0    CBH  Travel Agency              Offline  Comprehensive Plan    No   \n",
              "1    CBH  Travel Agency              Offline  Comprehensive Plan    No   \n",
              "\n",
              "   Duration Destination  Net_Sales  Commision_in_value Gender  Age  \n",
              "0       186    MALAYSIA      -29.0                9.57      F   81  \n",
              "1       186    MALAYSIA      -29.0                9.57      F   71  "
            ],
            "text/html": [
              "\n",
              "  <div id=\"df-59899573-fc8e-4975-8e20-8539f48f88c9\" class=\"colab-df-container\">\n",
              "    <div>\n",
              "<style scoped>\n",
              "    .dataframe tbody tr th:only-of-type {\n",
              "        vertical-align: middle;\n",
              "    }\n",
              "\n",
              "    .dataframe tbody tr th {\n",
              "        vertical-align: top;\n",
              "    }\n",
              "\n",
              "    .dataframe thead th {\n",
              "        text-align: right;\n",
              "    }\n",
              "</style>\n",
              "<table border=\"1\" class=\"dataframe\">\n",
              "  <thead>\n",
              "    <tr style=\"text-align: right;\">\n",
              "      <th></th>\n",
              "      <th>Agency</th>\n",
              "      <th>Agency_Type</th>\n",
              "      <th>Distribution_Channel</th>\n",
              "      <th>Product_Name</th>\n",
              "      <th>Claim</th>\n",
              "      <th>Duration</th>\n",
              "      <th>Destination</th>\n",
              "      <th>Net_Sales</th>\n",
              "      <th>Commision_in_value</th>\n",
              "      <th>Gender</th>\n",
              "      <th>Age</th>\n",
              "    </tr>\n",
              "  </thead>\n",
              "  <tbody>\n",
              "    <tr>\n",
              "      <th>0</th>\n",
              "      <td>CBH</td>\n",
              "      <td>Travel Agency</td>\n",
              "      <td>Offline</td>\n",
              "      <td>Comprehensive Plan</td>\n",
              "      <td>No</td>\n",
              "      <td>186</td>\n",
              "      <td>MALAYSIA</td>\n",
              "      <td>-29.0</td>\n",
              "      <td>9.57</td>\n",
              "      <td>F</td>\n",
              "      <td>81</td>\n",
              "    </tr>\n",
              "    <tr>\n",
              "      <th>1</th>\n",
              "      <td>CBH</td>\n",
              "      <td>Travel Agency</td>\n",
              "      <td>Offline</td>\n",
              "      <td>Comprehensive Plan</td>\n",
              "      <td>No</td>\n",
              "      <td>186</td>\n",
              "      <td>MALAYSIA</td>\n",
              "      <td>-29.0</td>\n",
              "      <td>9.57</td>\n",
              "      <td>F</td>\n",
              "      <td>71</td>\n",
              "    </tr>\n",
              "  </tbody>\n",
              "</table>\n",
              "</div>\n",
              "    <div class=\"colab-df-buttons\">\n",
              "\n",
              "  <div class=\"colab-df-container\">\n",
              "    <button class=\"colab-df-convert\" onclick=\"convertToInteractive('df-59899573-fc8e-4975-8e20-8539f48f88c9')\"\n",
              "            title=\"Convert this dataframe to an interactive table.\"\n",
              "            style=\"display:none;\">\n",
              "\n",
              "  <svg xmlns=\"http://www.w3.org/2000/svg\" height=\"24px\" viewBox=\"0 -960 960 960\">\n",
              "    <path d=\"M120-120v-720h720v720H120Zm60-500h600v-160H180v160Zm220 220h160v-160H400v160Zm0 220h160v-160H400v160ZM180-400h160v-160H180v160Zm440 0h160v-160H620v160ZM180-180h160v-160H180v160Zm440 0h160v-160H620v160Z\"/>\n",
              "  </svg>\n",
              "    </button>\n",
              "\n",
              "  <style>\n",
              "    .colab-df-container {\n",
              "      display:flex;\n",
              "      gap: 12px;\n",
              "    }\n",
              "\n",
              "    .colab-df-convert {\n",
              "      background-color: #E8F0FE;\n",
              "      border: none;\n",
              "      border-radius: 50%;\n",
              "      cursor: pointer;\n",
              "      display: none;\n",
              "      fill: #1967D2;\n",
              "      height: 32px;\n",
              "      padding: 0 0 0 0;\n",
              "      width: 32px;\n",
              "    }\n",
              "\n",
              "    .colab-df-convert:hover {\n",
              "      background-color: #E2EBFA;\n",
              "      box-shadow: 0px 1px 2px rgba(60, 64, 67, 0.3), 0px 1px 3px 1px rgba(60, 64, 67, 0.15);\n",
              "      fill: #174EA6;\n",
              "    }\n",
              "\n",
              "    .colab-df-buttons div {\n",
              "      margin-bottom: 4px;\n",
              "    }\n",
              "\n",
              "    [theme=dark] .colab-df-convert {\n",
              "      background-color: #3B4455;\n",
              "      fill: #D2E3FC;\n",
              "    }\n",
              "\n",
              "    [theme=dark] .colab-df-convert:hover {\n",
              "      background-color: #434B5C;\n",
              "      box-shadow: 0px 1px 3px 1px rgba(0, 0, 0, 0.15);\n",
              "      filter: drop-shadow(0px 1px 2px rgba(0, 0, 0, 0.3));\n",
              "      fill: #FFFFFF;\n",
              "    }\n",
              "  </style>\n",
              "\n",
              "    <script>\n",
              "      const buttonEl =\n",
              "        document.querySelector('#df-59899573-fc8e-4975-8e20-8539f48f88c9 button.colab-df-convert');\n",
              "      buttonEl.style.display =\n",
              "        google.colab.kernel.accessAllowed ? 'block' : 'none';\n",
              "\n",
              "      async function convertToInteractive(key) {\n",
              "        const element = document.querySelector('#df-59899573-fc8e-4975-8e20-8539f48f88c9');\n",
              "        const dataTable =\n",
              "          await google.colab.kernel.invokeFunction('convertToInteractive',\n",
              "                                                    [key], {});\n",
              "        if (!dataTable) return;\n",
              "\n",
              "        const docLinkHtml = 'Like what you see? Visit the ' +\n",
              "          '<a target=\"_blank\" href=https://colab.research.google.com/notebooks/data_table.ipynb>data table notebook</a>'\n",
              "          + ' to learn more about interactive tables.';\n",
              "        element.innerHTML = '';\n",
              "        dataTable['output_type'] = 'display_data';\n",
              "        await google.colab.output.renderOutput(dataTable, element);\n",
              "        const docLink = document.createElement('div');\n",
              "        docLink.innerHTML = docLinkHtml;\n",
              "        element.appendChild(docLink);\n",
              "      }\n",
              "    </script>\n",
              "  </div>\n",
              "\n",
              "\n",
              "<div id=\"df-73a22c9e-a9ba-407a-9e6f-dac7d25290aa\">\n",
              "  <button class=\"colab-df-quickchart\" onclick=\"quickchart('df-73a22c9e-a9ba-407a-9e6f-dac7d25290aa')\"\n",
              "            title=\"Suggest charts.\"\n",
              "            style=\"display:none;\">\n",
              "\n",
              "<svg xmlns=\"http://www.w3.org/2000/svg\" height=\"24px\"viewBox=\"0 0 24 24\"\n",
              "     width=\"24px\">\n",
              "    <g>\n",
              "        <path d=\"M19 3H5c-1.1 0-2 .9-2 2v14c0 1.1.9 2 2 2h14c1.1 0 2-.9 2-2V5c0-1.1-.9-2-2-2zM9 17H7v-7h2v7zm4 0h-2V7h2v10zm4 0h-2v-4h2v4z\"/>\n",
              "    </g>\n",
              "</svg>\n",
              "  </button>\n",
              "\n",
              "<style>\n",
              "  .colab-df-quickchart {\n",
              "    background-color: #E8F0FE;\n",
              "    border: none;\n",
              "    border-radius: 50%;\n",
              "    cursor: pointer;\n",
              "    display: none;\n",
              "    fill: #1967D2;\n",
              "    height: 32px;\n",
              "    padding: 0 0 0 0;\n",
              "    width: 32px;\n",
              "  }\n",
              "\n",
              "  .colab-df-quickchart:hover {\n",
              "    background-color: #E2EBFA;\n",
              "    box-shadow: 0px 1px 2px rgba(60, 64, 67, 0.3), 0px 1px 3px 1px rgba(60, 64, 67, 0.15);\n",
              "    fill: #174EA6;\n",
              "  }\n",
              "\n",
              "  [theme=dark] .colab-df-quickchart {\n",
              "    background-color: #3B4455;\n",
              "    fill: #D2E3FC;\n",
              "  }\n",
              "\n",
              "  [theme=dark] .colab-df-quickchart:hover {\n",
              "    background-color: #434B5C;\n",
              "    box-shadow: 0px 1px 3px 1px rgba(0, 0, 0, 0.15);\n",
              "    filter: drop-shadow(0px 1px 2px rgba(0, 0, 0, 0.3));\n",
              "    fill: #FFFFFF;\n",
              "  }\n",
              "</style>\n",
              "\n",
              "  <script>\n",
              "    async function quickchart(key) {\n",
              "      const charts = await google.colab.kernel.invokeFunction(\n",
              "          'suggestCharts', [key], {});\n",
              "    }\n",
              "    (() => {\n",
              "      let quickchartButtonEl =\n",
              "        document.querySelector('#df-73a22c9e-a9ba-407a-9e6f-dac7d25290aa button');\n",
              "      quickchartButtonEl.style.display =\n",
              "        google.colab.kernel.accessAllowed ? 'block' : 'none';\n",
              "    })();\n",
              "  </script>\n",
              "</div>\n",
              "    </div>\n",
              "  </div>\n"
            ]
          },
          "metadata": {},
          "execution_count": 23
        }
      ],
      "source": [
        "travel_insurance.head(2)"
      ]
    },
    {
      "cell_type": "code",
      "execution_count": null,
      "id": "russian-entertainment",
      "metadata": {
        "id": "russian-entertainment",
        "colab": {
          "base_uri": "https://localhost:8080/",
          "height": 467
        },
        "outputId": "b3d0eb83-9e7d-4886-f6be-539a93b2b1ce"
      },
      "outputs": [
        {
          "output_type": "execute_result",
          "data": {
            "text/plain": [
              "<Axes: xlabel='Duration', ylabel='Density'>"
            ]
          },
          "metadata": {},
          "execution_count": 29
        },
        {
          "output_type": "display_data",
          "data": {
            "text/plain": [
              "<Figure size 640x480 with 1 Axes>"
            ],
            "image/png": "[encoded data removed]"
          },
          "metadata": {}
        }
      ],
      "source": [
        "# 오른쪽으로 꼬리가 긴 분포를 띈다.\n",
        "sns.distplot(travel_insurance['Duration'])"
      ]
    },
    {
      "cell_type": "code",
      "execution_count": 24,
      "id": "irish-optimization",
      "metadata": {
        "id": "irish-optimization",
        "colab": {
          "base_uri": "https://localhost:8080/",
          "height": 468
        },
        "outputId": "c0902ccc-c10c-4776-d9af-b22eb18c5bbf"
      },
      "outputs": [
        {
          "output_type": "execute_result",
          "data": {
            "text/plain": [
              "<Axes: xlabel='Commision_in_value', ylabel='Density'>"
            ]
          },
          "metadata": {},
          "execution_count": 24
        },
        {
          "output_type": "display_data",
          "data": {
            "text/plain": [
              "<Figure size 640x480 with 1 Axes>"
            ],
            "image/png": "[encoded data removed]"
          },
          "metadata": {}
        }
      ],
      "source": [
        "# 0인 경우가 대부분이다\n",
        "sns.distplot(travel_insurance['Commision_in_value'])"
      ]
    },
    {
      "cell_type": "markdown",
      "id": "immediate-bumper",
      "metadata": {
        "id": "immediate-bumper"
      },
      "source": [
        "## 3-4. 연속형 독립변수 상관관계"
      ]
    },
    {
      "cell_type": "code",
      "execution_count": 26,
      "id": "recorded-scope",
      "metadata": {
        "id": "recorded-scope",
        "colab": {
          "base_uri": "https://localhost:8080/",
          "height": 175
        },
        "outputId": "6352fa8c-87e0-47ca-93eb-b3767786d79e"
      },
      "outputs": [
        {
          "output_type": "execute_result",
          "data": {
            "text/plain": [
              "                    Duration  Net_Sales  Commision_in_value       Age\n",
              "Duration            1.000000   0.429235            0.344772  0.002468\n",
              "Net_Sales           0.429235   1.000000            0.651315  0.037756\n",
              "Commision_in_value  0.344772   0.651315            1.000000  0.118348\n",
              "Age                 0.002468   0.037756            0.118348  1.000000"
            ],
            "text/html": [
              "\n",
              "  <div id=\"df-403b5e80-a3ae-4b2d-aad1-4c6e954cb17b\" class=\"colab-df-container\">\n",
              "    <div>\n",
              "<style scoped>\n",
              "    .dataframe tbody tr th:only-of-type {\n",
              "        vertical-align: middle;\n",
              "    }\n",
              "\n",
              "    .dataframe tbody tr th {\n",
              "        vertical-align: top;\n",
              "    }\n",
              "\n",
              "    .dataframe thead th {\n",
              "        text-align: right;\n",
              "    }\n",
              "</style>\n",
              "<table border=\"1\" class=\"dataframe\">\n",
              "  <thead>\n",
              "    <tr style=\"text-align: right;\">\n",
              "      <th></th>\n",
              "      <th>Duration</th>\n",
              "      <th>Net_Sales</th>\n",
              "      <th>Commision_in_value</th>\n",
              "      <th>Age</th>\n",
              "    </tr>\n",
              "  </thead>\n",
              "  <tbody>\n",
              "    <tr>\n",
              "      <th>Duration</th>\n",
              "      <td>1.000000</td>\n",
              "      <td>0.429235</td>\n",
              "      <td>0.344772</td>\n",
              "      <td>0.002468</td>\n",
              "    </tr>\n",
              "    <tr>\n",
              "      <th>Net_Sales</th>\n",
              "      <td>0.429235</td>\n",
              "      <td>1.000000</td>\n",
              "      <td>0.651315</td>\n",
              "      <td>0.037756</td>\n",
              "    </tr>\n",
              "    <tr>\n",
              "      <th>Commision_in_value</th>\n",
              "      <td>0.344772</td>\n",
              "      <td>0.651315</td>\n",
              "      <td>1.000000</td>\n",
              "      <td>0.118348</td>\n",
              "    </tr>\n",
              "    <tr>\n",
              "      <th>Age</th>\n",
              "      <td>0.002468</td>\n",
              "      <td>0.037756</td>\n",
              "      <td>0.118348</td>\n",
              "      <td>1.000000</td>\n",
              "    </tr>\n",
              "  </tbody>\n",
              "</table>\n",
              "</div>\n",
              "    <div class=\"colab-df-buttons\">\n",
              "\n",
              "  <div class=\"colab-df-container\">\n",
              "    <button class=\"colab-df-convert\" onclick=\"convertToInteractive('df-403b5e80-a3ae-4b2d-aad1-4c6e954cb17b')\"\n",
              "            title=\"Convert this dataframe to an interactive table.\"\n",
              "            style=\"display:none;\">\n",
              "\n",
              "  <svg xmlns=\"http://www.w3.org/2000/svg\" height=\"24px\" viewBox=\"0 -960 960 960\">\n",
              "    <path d=\"M120-120v-720h720v720H120Zm60-500h600v-160H180v160Zm220 220h160v-160H400v160Zm0 220h160v-160H400v160ZM180-400h160v-160H180v160Zm440 0h160v-160H620v160ZM180-180h160v-160H180v160Zm440 0h160v-160H620v160Z\"/>\n",
              "  </svg>\n",
              "    </button>\n",
              "\n",
              "  <style>\n",
              "    .colab-df-container {\n",
              "      display:flex;\n",
              "      gap: 12px;\n",
              "    }\n",
              "\n",
              "    .colab-df-convert {\n",
              "      background-color: #E8F0FE;\n",
              "      border: none;\n",
              "      border-radius: 50%;\n",
              "      cursor: pointer;\n",
              "      display: none;\n",
              "      fill: #1967D2;\n",
              "      height: 32px;\n",
              "      padding: 0 0 0 0;\n",
              "      width: 32px;\n",
              "    }\n",
              "\n",
              "    .colab-df-convert:hover {\n",
              "      background-color: #E2EBFA;\n",
              "      box-shadow: 0px 1px 2px rgba(60, 64, 67, 0.3), 0px 1px 3px 1px rgba(60, 64, 67, 0.15);\n",
              "      fill: #174EA6;\n",
              "    }\n",
              "\n",
              "    .colab-df-buttons div {\n",
              "      margin-bottom: 4px;\n",
              "    }\n",
              "\n",
              "    [theme=dark] .colab-df-convert {\n",
              "      background-color: #3B4455;\n",
              "      fill: #D2E3FC;\n",
              "    }\n",
              "\n",
              "    [theme=dark] .colab-df-convert:hover {\n",
              "      background-color: #434B5C;\n",
              "      box-shadow: 0px 1px 3px 1px rgba(0, 0, 0, 0.15);\n",
              "      filter: drop-shadow(0px 1px 2px rgba(0, 0, 0, 0.3));\n",
              "      fill: #FFFFFF;\n",
              "    }\n",
              "  </style>\n",
              "\n",
              "    <script>\n",
              "      const buttonEl =\n",
              "        document.querySelector('#df-403b5e80-a3ae-4b2d-aad1-4c6e954cb17b button.colab-df-convert');\n",
              "      buttonEl.style.display =\n",
              "        google.colab.kernel.accessAllowed ? 'block' : 'none';\n",
              "\n",
              "      async function convertToInteractive(key) {\n",
              "        const element = document.querySelector('#df-403b5e80-a3ae-4b2d-aad1-4c6e954cb17b');\n",
              "        const dataTable =\n",
              "          await google.colab.kernel.invokeFunction('convertToInteractive',\n",
              "                                                    [key], {});\n",
              "        if (!dataTable) return;\n",
              "\n",
              "        const docLinkHtml = 'Like what you see? Visit the ' +\n",
              "          '<a target=\"_blank\" href=https://colab.research.google.com/notebooks/data_table.ipynb>data table notebook</a>'\n",
              "          + ' to learn more about interactive tables.';\n",
              "        element.innerHTML = '';\n",
              "        dataTable['output_type'] = 'display_data';\n",
              "        await google.colab.output.renderOutput(dataTable, element);\n",
              "        const docLink = document.createElement('div');\n",
              "        docLink.innerHTML = docLinkHtml;\n",
              "        element.appendChild(docLink);\n",
              "      }\n",
              "    </script>\n",
              "  </div>\n",
              "\n",
              "\n",
              "<div id=\"df-0cbe85d2-c44a-4643-9044-cd438b01bc2a\">\n",
              "  <button class=\"colab-df-quickchart\" onclick=\"quickchart('df-0cbe85d2-c44a-4643-9044-cd438b01bc2a')\"\n",
              "            title=\"Suggest charts.\"\n",
              "            style=\"display:none;\">\n",
              "\n",
              "<svg xmlns=\"http://www.w3.org/2000/svg\" height=\"24px\"viewBox=\"0 0 24 24\"\n",
              "     width=\"24px\">\n",
              "    <g>\n",
              "        <path d=\"M19 3H5c-1.1 0-2 .9-2 2v14c0 1.1.9 2 2 2h14c1.1 0 2-.9 2-2V5c0-1.1-.9-2-2-2zM9 17H7v-7h2v7zm4 0h-2V7h2v10zm4 0h-2v-4h2v4z\"/>\n",
              "    </g>\n",
              "</svg>\n",
              "  </button>\n",
              "\n",
              "<style>\n",
              "  .colab-df-quickchart {\n",
              "    background-color: #E8F0FE;\n",
              "    border: none;\n",
              "    border-radius: 50%;\n",
              "    cursor: pointer;\n",
              "    display: none;\n",
              "    fill: #1967D2;\n",
              "    height: 32px;\n",
              "    padding: 0 0 0 0;\n",
              "    width: 32px;\n",
              "  }\n",
              "\n",
              "  .colab-df-quickchart:hover {\n",
              "    background-color: #E2EBFA;\n",
              "    box-shadow: 0px 1px 2px rgba(60, 64, 67, 0.3), 0px 1px 3px 1px rgba(60, 64, 67, 0.15);\n",
              "    fill: #174EA6;\n",
              "  }\n",
              "\n",
              "  [theme=dark] .colab-df-quickchart {\n",
              "    background-color: #3B4455;\n",
              "    fill: #D2E3FC;\n",
              "  }\n",
              "\n",
              "  [theme=dark] .colab-df-quickchart:hover {\n",
              "    background-color: #434B5C;\n",
              "    box-shadow: 0px 1px 3px 1px rgba(0, 0, 0, 0.15);\n",
              "    filter: drop-shadow(0px 1px 2px rgba(0, 0, 0, 0.3));\n",
              "    fill: #FFFFFF;\n",
              "  }\n",
              "</style>\n",
              "\n",
              "  <script>\n",
              "    async function quickchart(key) {\n",
              "      const charts = await google.colab.kernel.invokeFunction(\n",
              "          'suggestCharts', [key], {});\n",
              "    }\n",
              "    (() => {\n",
              "      let quickchartButtonEl =\n",
              "        document.querySelector('#df-0cbe85d2-c44a-4643-9044-cd438b01bc2a button');\n",
              "      quickchartButtonEl.style.display =\n",
              "        google.colab.kernel.accessAllowed ? 'block' : 'none';\n",
              "    })();\n",
              "  </script>\n",
              "</div>\n",
              "    </div>\n",
              "  </div>\n"
            ]
          },
          "metadata": {},
          "execution_count": 26
        }
      ],
      "source": [
        "corr = travel_insurance.corr(method = 'pearson')\n",
        "corr"
      ]
    },
    {
      "cell_type": "code",
      "execution_count": null,
      "id": "reserved-priority",
      "metadata": {
        "id": "reserved-priority"
      },
      "outputs": [],
      "source": [
        "df_heatmap = sns.heatmap(corr, cbar = True, annot = True, annot_kws={'size' : 20}, fmt = '.2f', square = True, cmap = 'Greens')"
      ]
    },
    {
      "cell_type": "code",
      "execution_count": null,
      "id": "mysterious-message",
      "metadata": {
        "id": "mysterious-message"
      },
      "outputs": [],
      "source": [
        "# hue 옵션으로 구분해서 볼수도 있다. (시간이 다소 걸림)\n",
        "sns.pairplot(data=travel_insurance,hue=\"Claim\")\n",
        "plt.show()\n",
        "plt.close()"
      ]
    },
    {
      "cell_type": "markdown",
      "id": "fantastic-research",
      "metadata": {
        "id": "fantastic-research"
      },
      "source": [
        "# 3. 모델링\n",
        "- 이진분류 모델링 : 근접이웃모형 (보험금 청구 여부, Claim이 0 또는 1)"
      ]
    },
    {
      "cell_type": "markdown",
      "source": [
        "## 3-1 모델링을 위한 전처리\n",
        "- 이진분류 모델링 : 근접이웃모형 (보험금 청구 여부, Claim이 0 또는 1)"
      ],
      "metadata": {
        "id": "AYN8LmijSLsi"
      },
      "id": "AYN8LmijSLsi"
    },
    {
      "cell_type": "code",
      "source": [
        "# 일단 범주형 변수를 원핫인코딩 한다\n",
        "# 예) 남성, 여성 -> 0, 1로 바꿈\n",
        "\n",
        "from sklearn import preprocessing\n",
        "label_encoder1 = preprocessing.LabelEncoder()\n",
        "travel_insurance['Agency']= label_encoder1.fit_transform(travel_insurance['Agency'])\n",
        "\n",
        "label_encoder2 = preprocessing.LabelEncoder()\n",
        "travel_insurance['Agency_Type']= label_encoder2.fit_transform(travel_insurance['Agency_Type'])\n",
        "\n",
        "label_encoder3 = preprocessing.LabelEncoder()\n",
        "travel_insurance['Distribution_Channel']= label_encoder3.fit_transform(travel_insurance['Distribution_Channel'])\n",
        "\n",
        "label_encoder4 = preprocessing.LabelEncoder()\n",
        "travel_insurance['Product_Name']= label_encoder4.fit_transform(travel_insurance['Product_Name'])\n",
        "\n",
        "label_encoder5 = preprocessing.LabelEncoder()\n",
        "travel_insurance['Claim']= label_encoder5.fit_transform(travel_insurance['Claim'])\n",
        "\n",
        "label_encoder6 = preprocessing.LabelEncoder()\n",
        "travel_insurance['Destination']= label_encoder6.fit_transform(travel_insurance['Destination'])"
      ],
      "metadata": {
        "id": "InKbb9ToSBqq"
      },
      "id": "InKbb9ToSBqq",
      "execution_count": 30,
      "outputs": []
    },
    {
      "cell_type": "code",
      "source": [
        "column_names = [\"Agency\", \"Agency_Type\", \"Distribution_Channel\",\"Product_Name\",\"Duration\",\"Destination\",\"Net_Sales\",\"Commision_in_value\",\"Age\",\"Claim\"]\n",
        "travel_insurance = travel_insurance.reindex(columns=column_names)"
      ],
      "metadata": {
        "id": "z0feQQXnSHUB"
      },
      "id": "z0feQQXnSHUB",
      "execution_count": 31,
      "outputs": []
    },
    {
      "cell_type": "code",
      "source": [
        "y= travel_insurance.iloc[:,[-1]]\n",
        "X= travel_insurance.drop(y.columns,axis = 1)"
      ],
      "metadata": {
        "id": "DyN3g6fSXp1Z"
      },
      "id": "DyN3g6fSXp1Z",
      "execution_count": 32,
      "outputs": []
    },
    {
      "cell_type": "markdown",
      "source": [
        "## 3-2 데이터 분할\n",
        "- 훈련세트, 테스트 세트에서 보험금청구(claim)의 비중이 동일하도록 조정 : stratify 사용"
      ],
      "metadata": {
        "id": "Gdlya239YuY6"
      },
      "id": "Gdlya239YuY6"
    },
    {
      "cell_type": "markdown",
      "source": [
        "![image.png](data:image/png;base64,iVBORw0KGgoAAAANSUhEUgAAAyAAAAD3CAIAAABqwac1AAAgAElEQVR4nOzdd3xUVfo4/nPLtMyk9wSSEBIIGIqhSFs6CNhAhBVUigqyrKIotv2owJdV7OLiLrgurl0WRaRLlRogtCT0QEhIIYWUSabf+vvj+eW+rpNkMgkJhOR5/8FrmNx77plyzzynU7IsE4QQQggh1Hzo250BhBC6dWRZxlolQugWYG93BhBCtw7EFvAvRVHKv01Ih6IoSZJkWaZpmqIoeKYJ6UiSRFGUcm7T8uPltdQvvMGD4Uj1WcrL9D4dhFC7RWFlDqE2D25zSZLU0YwkSYQQmqYhQmpsaoQQQRDgRIZhmhBjQXQFEQykAM83b+AC6cOFKIpSv9j6LqREUYIgEEJomlbSgXxKknQzYSVCqD3AFiyE2jKlyUoQBIZhaJouKyurqqqiKCo4ODggIEAURUmSWJb1MlCAkEIURZqm8/Lyzp49269fv8jIyMZW1eB4m812+vRpk8mUlJSk1+shlGl2FEUxDFNeXn758uXw8PCYmBiWrbfoU14gz/M6na6qqurGjRuyLIeHh/v7+7tcLlITmTEM0xK5RQi1DRhgIdQGqcMdSZIEQbBYLHv27Dlw4IDNZiOECILAcVxUVNTEiRNTUlL0er0SY3mItJSeQZ7nq6urJ0+enJGRMXv27NWrV2u12kbFWJDOd999t3TpUr1e//nnnw8aNMhkMjV7g5Aoijk5Obt27Vq/fv25c+cWL1785JNPKrGR2+WUFygIQkVFxeeff3727Fl/f39orIqJiZk4cWJYWNjevXvHjx8fHBzc2MxAM9gt6A9FCN12ngIst+ISywKE7jiSJNlstoyMjKVLl1ZXVz/77LNDhw7VarWEkOLi4rVr1z711FOjR49+6aWX4uLiIMbystvL4XBkZmYGBASkpaVZLJagoKDG5o3n+aysLFEUCwsLCwsLBUFQ+uaasbRxuVzl5eWZmZmpqamyLGs0Gg89g6SmI/XkyZMTJ07s2bPnO++8ExERQQix2WzffPPNfffdRwjp27fvxIkTlbO8z60sy9D4p3Q7YrmK0J1CCYq8vG2xBQuhtkY9RspisezcufP5559PSEj4/vvvExMTlcOioqJSUlJ69OjxwgsvnD9//qOPPurVqxfEXsoPv3qst5I4TdMsy3bo0GHDhg3ff//9888/Hxwc7BYr1G7Nql0k6XS6v/71r1qtNjIycty4cb6+vhB2qC+nflxfOnW2nCmHGQyGAQMGGAyGs2fPnj59GsZjeXj3aJrOz89/+OGHo6OjN2zY4Ovrq/xp+fLl991338iRIy0Wi16vr31ufa9aeRutVmtGRkZcXFx4eLhGo/GQDYRQq6K+u72sGtU74kFJC4ZoqCcfIYRaP2i7On78+Pz58318fN5+++3ExERlULky9HvatGkLFy48dOjQkiVLLly4wPM8nK5ezsDtxpdlmWVZmqYfeuihdevWDR48WD23rr51EOS6JCYmvv/++wsXLoyOjlbaltwKsjrTqf3Yw2GEEIZhIKBRz1isDV7Fv//975KSkgkTJjAM43Q6ldxyHDdkyJD33ntPo9HAYCy3l1ZnNpTHkiSdO3fuxx9/zMnJ4XkeC1WE7iySJImi6P2dW0eApT5NEASHw+F0OmE2DUKolVPuX5fLVVFRsXjx4srKyoceemjgwIHQ+KQ+mKIolmVHjRrVt2/f7du3b9iwoaysTBRF5QAY6w3JchynDr8IITzPWywWp9Pptn4BqekLc7lcLpdLCSZqgyjQZrNB/6D6dJ7nISdKUjzPK41PbgeLoshxnNPp5DgOknJ7T7yZOahc99q1a4SQ6upqh8OhflEsy8qyPHbs2B49eqgDLHUigiC4XC51NuBfURTtdvvOnTuvXr0KaapfS51ZQgi1BnLN4AGn0+lwONxubQ/q7iJUKmQVFRWpqal+fn6dO3eOi4tr9nwjhFqCIAiiKG7cuPHYsWOJiYn9+/fX6XRwU9ce1p2YmJiSknL69Ol169bde++9fn5+BoNBEASoXxFCAgMDHQ6HxWIhhAQFBWm1WhjnDsGEKIo6nY6oihtJkhwOB8QZsixrtVqdTqfRaGiahiAPFjuA6A1iEfgrPCkIAs/zNpvNZDLp9XqO46CaR1GUr6+vj4+POkyEUo/jOEiHpmm4nE6nU6YKwuoMSv9jnTGWEkhJkqTT6SiK+u677x566KG7777bYDDo9XplHaywsLC77rrLrc4JkRnP8y6XC7Kq0+n0er1Wq2VZVhRFi8WydevWlStXhoaGOhwOeGN9fHyURjscjIVQa1ZVVZWRkWE2m5OTk2NiYtxGU9Sp3jFYMMlox44dM2fO1Ol0ixcvfv3111sk1wihZqKEOBCUbNy4kRASGhqanJws17M2JkVRAQEBiYmJISEhFy9eTEtLS0pKomm6qqqquLh448aNgiC8/vrrp06d+uc//2kymV577bVOnTo5nc7S0tK8vLxt27bFxMQ8++yz6uiqsrLy0qVLJ0+ezM7OdrlcUVFR/fr169q1KxRJer3e39+fYRir1VpSUvLbb79du3Ztzpw5nTp10ul0DoejoqLi0qVLP/3000MPPTR06NBr16799ttvhw8fNhgMM2fOHDx4sNFoVOISh8Nx+fLljIyM8+fPm81mmqbDwsKGDh169913BwYG1o4mG3zr9Hp9ly5dTCaT2Wx+6KGHvv/+++Tk5MjISFhFgqIok8nUp08fk8mkPpfn+ZKSkuzs7JMnT0JP61133TVs2LCuXbv6+fmVl5f/9NNP77//fnl5ub+//9mzZysrK4OCggYOHKjX63G5B4Rav8zMzOnTpxcXF7/yyisLFy4MCQlp8M6tN8CC6pqPjw8hJCwsDB4ghFo/WAazvLz8+PHjLMv6+/uHhITA6gN1VrZYlo2OjjaZTCUlJadPn542bVpVVdXu3bvffffdq1evDh06dMiQIW+++WZmZibHcRRF/ec//zl79uyWLVs+/PBDl8s1Z84cUlOTEwTBarVu2LDh448/7tGjx/Tp051O548//vj5558PGDAgISHB19c3Pj5+zJgxRqMxNTX1n//857Zt24KCgiZNmtShQwedTnfhwoWff/75gw8+IIR07NhRluXVq1dXVlZWV1efO3du7dq1GzZsmDhxIs/zDMNwHJeWlvbiiy/SNL1o0aLAwMDMzMzPP//83Xfffe+99+bNm2cwGJSX2WATEbxFhJBHHnlk165dx44ds1qtkyZNmjt37rRp07p16xYUFMSyrMFg6Nmzp3IWdJ7m5OT89NNPlZWVKSkp0dHR69evf+211+Lj4996661Jkybl5eVZrdYRI0Zs2bLFYrFkZmZeunQpMjISZhVggIVQ68cwTGhoaHFxsclk8nJx5gZmESq1Omy+RuiOoEQJ2dnZHMfpdDqDwWA0Gj2cIstyQEAAVKJKSkocDocoirGxsaGhobm5uYIg7Nix45lnnrl8+fIvv/wSGxsLXY09e/aEtpnw8HBIR5IkjuNOnz792muvJSYmrlu3Dp4fMWLEk08++csvv6SkpMyYMcPPz49hGFmWg4KC4uLifHx8Onbs6OPjwzCMKIoGg6Fbt25+fn48z587d87hcCxatGjEiBHXr1//y1/+smnTpqVLl44fP55hGFiq6o033sjIyNi9e/eoUaMIIePGjevUqdP06dO/+uqrMWPGJCcnq1+mhxHu0P1H07QkSZ07d166dOnf//73U6dOlZaW/vvf/96+ffuTTz4JCfr5+an7BQRBMJvN//vf/3Jzcz/77DNo2br//vvDw8P/9a9/vfPOOzExMSNGjOjXr9+BAwf2798fEhKyePHiTp063eQHjRC6lZoQBTWwbrLSDo/DMBG6U8ANCyPHYWkrGI3kIbZQRizZ7Xan0xkTEzN27NiRI0dSFHX9+vWxY8c+/fTTS5Ys+fjjj1988UVCSL9+/aZOndqjRw9YNQrSEQRBkqS1a9dWVFQ8/PDDpGbSjcFgGDt2rNFo7NSp02OPPXb//fcHBQUZjcYBAwZMnDgxKCjI6XQqc3N69Ogxa9asmJgYh8MRFhb21ltvjRgxQhCEqKioadOmEUJKS0tLSkpgvHlZWVlRUVFISAiENS6Xy+FwREVFhYWFVVdXFxcX135nPK/RQGoi1MGDB3/88cdPP/10t27dWJbNz89funTpiy++uGbNmqtXryr1VxhGlp6evmbNmqFDh5aXl2dlZV2+fDk/Pz86Olqv11++fPn33393uVyyLBcXF8Ootby8PJvNpszobPonjRBqxRpowcKGK4TuOG6/2Z4XJnADu8q4XC6NRiOKoiiK3bp1GzZsGMdxBoPhgQcegMMcDocyEEpNFMXz58+zLAttVDC6XKfThYeH6/X6q1evZmdnBwcHQycmIUSJM5Sry7JsNpshDIIhSspKMWFhYaRm4iEhhKbp2NjY5557rry8PCkpiRAiCEJGRkZqaqrL5YITvXl/1K9dmQspSVK3bt0WL148aNCgH374IS0t7cqVK2lpaWfPnj1+/PiiRYv69OlDagKsHTt2FBQU5Ofn79y502KxMAwjSVJRUVHfvn2hEdHpdOp0OnjJyuaPDa6bjxC6ozViJXeE0B0B+rlg2xloMnE6nZ6HUSprIgQGBrqtFxUQEACRAURF8K8yGVCdCIQmJpNJkqTS0lJKtaU0TBKE/sragYXbY+W/DocDTldm8BFCYFNFeJn+/v5/+ctfZFk2GAw7d+7Mysq6fv16UVFR7ZhS/UyDMQ28QJj/eN99991zzz27du364YcfDh06ZDab161bV15evmbNmo4dO0IT3YULF0wmU8+ePePj4y0WC8RPgwYNmjlzpizLoaGhOIYVoXYIV3JHqE2RZRkGM3Xq1Ck4OLiystJisVRUVHjeygbWfCKExMfHw5IEyp9gxQelU8zzKp0ajWbMmDE7duw4evSo2WwOCAiAwKi0tNRqtXbv3j0qKko9gKm+5WTggDr3fla61aCdyWAwXL58+ZtvvsnLyxs6dOjYsWOrq6t37doliqLnleXrTBlyK4oiLCQBZ4WEhEyZMqV///4bN2784osvLl68uH///m+//fbVV1+Fs8xms16vT0hIgD7T2tlWXx0rrgi1Ey2ydz1C6LZQ4hJZlsPDw/v37y+KYnV19fXr1z2cJUlSYWGh2Ww2Go0pKSmwZhVRRT+eF+dUMAzDsuykSZMefPDBc+fOffjhh0VFRZIk7d+//6effurbt+/MmTMhzvPQvOQNaNaCjB05cuS5555LS0ubOXPmzJkz+/TpExAQoBzgltvaK8W7vRb4Nz09PScnR30KTdNxcXHz5s176623IiIiRFHctWuXzWaDIMzpdLpcrosXLypJKZQX2OQXixBqVby/hTHAQqitkWWZZVmtVgsjzUtLS0+fPq38qfbxZrP54sWL5eXl/fr169mzJyz4pPzVQ2niNmCcoiitVhseHv7BBx8kJSX99NNPixcvfv7557/99tuePXu+9957AwcOrDMpaDRS/9dDbtVx0pUrV15//fUjR4783//938iRI2HxT1iNogkNRUoTXUZGxpkzZ4gqVIKBUwzDjB8/fuLEiaIoVlRUcBwHx/v7+9vt9sOHD7tcLrd2PrPZfOXKlerq6tovob7WO4RQ24ABFkJtEMuyLMuOGDFi1KhRBQUFR44cKSkpqR3cwK/7pUuX0tLSjEbjlClToqOjYTlQ0tBYpdphEAz5Yll227ZtycnJn3766aRJk8aMGTN37txXX331nnvugSmNSsQGgQv81y2k89DIpB5KdfTo0QMHDnTu3HngwIGCIEDOYZ9E8sctApUH3ryoioqKc+fOcRynjACDvzIMYzKZ7rnnHkKIyWSC8WQsyyYlJYmiuG/fvu3bt8PB0K9KUdSZM2eOHj2q7PlT+7VgaxZCdxwv60UYYCHUpig/2FqtNiws7JVXXomPj9+zZ8/mzZtJTeyioCjKYrGsW7fuypUrs2fPHj9+vL+/PwQ9SglS3zKYMN9QfQBs//DLL7+89957999//7hx48aPHw+rsUdGRiqjuNRXr719jfKnOp8kNfvewH9LSkpkWbZarVVVVRC9wQqr1dXVDMPAOCr13D23t8jDe7h+/fpr164pm+1AtATvSVlZGSFk+PDhSoA1duxYmqYvXbq0YsWKXbt2wZMsy6anp69fv95gMPj6+pKaIWUQtOn1epfLZbfb1SFgIz5mhNBt4v2tioPcEWprqJo1Mw0GQ//+/ZcvX7506dJ33303ICDg4YcfVrcVFRUVrVy5csOGDTNnzpw/f37Hjh0hKAFWq5UQUlxc7HK51DvDSJIEkQeEGtD/RdM0x3GiKK5ataq4uHj16tXp6ekmk0mr1RoMBj8/v4CAgJiYmNjYWK1Wq0RLVquV4zi73c7zvBI2OZ3OqqoqWZbhSaUZCVZngI384DVGRkYyDJOXl7dixYqXX365oqJi586d3377rcViCQoKysvLO3bsGMMwffv2tdvtFouF4zhYGMJDjCXLstFoPHXq1LPPPvv+++936dLFYDBAEAkx06pVq1JSUp555hmapuF9GDBgwJw5cz7//PPDhw8vWLCgd+/esbGxxcXFp06dGj169NChQ+F0nU7HMExBQcH169evXbu2Zs2aadOmJSYmMgxT53B+hNAdjVmyZEmdf4Dpx9nZ2evWrfPz8xs0aNCAAQPITaza4tY+72HkLELoJimNPTqdLjY29u67775x48aePXuysrIsFsuNGzeysrL27t371VdfXblyZcaMGbNnz46Li4M4gKKosrKy/fv3r1mzxmq1lpeXGwyG2NhYX19fpf+rpKRk48aN3377rVartdlsMTExkZGRWq1WFEWn03nkyJGzZ88ePnx4586du3bt2rFjx9atWzds2LBu3bqzZ88mJCSEhYU5nc5Tp079+OOPFy9erKqq8vX1jY6O9vf3LygoWLt27d69e6GXLSYmJiwsTBCE7OzsVatWXbhwAYaIJSUlmUym4ODg7Ozsc+fOHTlyZM+ePUePHrXZbGPGjMnJybl8+XJ2drZOp+vRo4fNZvvf//63b98+u93OsmxERERISIiyGoX6TYPANDU1VRRFf3//ffv2FRUV3bhxo7CwMCsra+fOnatXrw4PD3///fdh5S1oIdNqtUlJSWaz+dy5c6WlpfDas7Ozhw0b9sILL8TExEBxxzDMxYsXT506lZqaunXr1ri4uFGjRun1evWm1Lf+q4JQm1fndJNGoSgqLy9v69atpaWlI0aM6Nu3r7JTu4c0b0ULVu3QiqjW9LsFGUCoHVJuMZPJNHDgwPj4+EuXLp05c+bEiRPQhKPX60eNGtWzZ8+YmBhfX191I4rFYhFFceHChXC3ajQaaD2CBFmWdTgcOp1uxYoVEByIolhVVWUymfR6/WOPPbZnz55u3brBTjt2ux0aqDiOq6io+O233wwGw5IlS2Bf59GjR//pT3+SZVmr1bpcLoZhbty40alTp48++ghiHbvdDlkqLCycMGHCqFGjKIoyGAyFhYVhYWGRkZEffvhhSkrKuXPngoODhw0bNmTIEJZl9Xr9jh07UlJSJk2aFBERkZubm5yc/Pbbb0uSpNFooJGs9kKp8OokSerTp8+YMWN8fX2vX7+elZWVmZkJ2dBoNLNmzRowYEB4eLh6KJhOp0tISFi2bNm999576NCh8vLy0NDQQYMGDR06NCoqSvksYmJiYKvsnJycIUOGPPDAA4GBgRhdIdTs1PNI3AYb3MobrY7BpHLNan4ul2vHjh2PPPJIhw4dFi1a9Pzzzzcqc24xoyzLUKyrFy3EGAuhlgZ3Iqw57nK5YE1RiJO0Wi30W6kHSFEUxXEcz/PqSYLK2g0AkiKqVh+dTgddhwsXLgwPD3/mmWdYloVE4N7ned5msx07duzkyZOPPvrogAEDOI6DeX9Ao9FotVp4Uik9oKOTEALb6cCT0Bqk1WppmhZF0WKxQHBmMBgMBoMsyw6Hw26363Q6o9HIMAzP8zzPq0eVKVssq8sfZSyUy+WCkfJQDMKLhUUoYK1U9XAuJVlovYOdHCEzer3ebQQbz/MWi4XnedggUv1XLAkRakZKdKHsFaEu5Uhj7jhI6tChQ/Pnzz9z5sz/+3//75lnngkODlaGkNZ3olctWI2a6lK7LQ52ulDWfS4pKTlx4sSECRNg9UKMsRBqURAEwKBvGP+kPF/fra3RaJSWFeVg9ePaB0A09t///nfXrl2pqalGo5HjOB8fH6VZSBCEDh06uFyuGzduQIMZhHduV9Fqtco0RvWl9Xp97ddFCGEYRtl9WXk5RqMRRqBDCajVatXRoXJu7dcOz+h0OkiKpmmNRqOegageYq8+Bd5hHx8fiPAoFfUbrtFoAgIClOmTtd9bhNDNgLsPKjk7d+7UarXDhw+HP0EoArNhSHP0GzaoObsI3bILRSohRKksXrhw4d133127du3JkyehzIUNy5oxDwih2pQSxO2OcytoiCry8FzoKAco8ZMoikVFRW+//bbFYjlx4sTo0aPdYhqdTme32zdt2hQfH9+9e3eiqlDWmdUGn1eiHHU7kFJVdRs27k0ZqhzjNt8QIiqiaq+qL9t1XsUtNq1vViZCqLnArTpy5MjOnTtHR0c/+eSTs2bNUvZIVRqk4eCWi7Q8TV1xGzVVH/Wka8DzfHV1NYyr0Gq1ZrP5o48+6tmz5/Dhw9evXz9jxozu3btbrVaWZbH5CqFbTN24on6myakpKYSEhKSkpJSVlc2YMeOpp57avXv39evXYWphVlbWkiVLxo8fHx4ePmnSpGa56+uLZm4ycbfT3SJOLK8Qas2omrGngiDQNL1kyZJTp04tWbIENrzaunUrRVE6nY5lWYvF4nA4lNCFtMBSKTfVguVWmYNhFrA7GFReN23a9PHHH6elpYmi6OPjI0mSzWZ7+eWXrVarMusbYyyE2gC45f/zn//07dv3rbfe+vLLL7/88kv1AYMHD/7kk09SUlKg4CMYrCCEWgDEWCzLCoIwffr0uXPnWq1WvV6/devWzZs3G43GefPmLViwIDw8nBAiCALP8yzLqvcHI81UOjVx8RV1k5Usy4IgwL73MAI0IyPjqaeeCgoKevjhh48ePQojPR0OR3V19axZs+Li4mAiTzO+DITQbQR3MQzMWrRokc1mO3PmzIYNG7777ruffvopLS3NbrcfOnSoZ8+ePM+7DbFCCKGWIIoiy7IrVqyorq622WyCIOj1ep7n33///ejo6F69ev3zn/+EaTQajQZ2FPWQWhNilZtqwRJFEUZrwrLFJSUlv/7666pVq86cOUNRFMuyBoPB5XJVVlYqo02nTp2qrFLYtBwjhFohqGsZjUZY0SAxMTEpKQmehOGYFotFp9PpdLrGTuFBCKHGgiCEoqg5c+Y8++yzLpcLVpOhKAqWDr548eKCBQuef/75J554Yvbs2UOHDiU1UY16EMXNlFSNbsGC4hIWXIBhYlVVVZs3b544cWKHDh3mzZt37tw5mD7N87zVauV5HvIniqKvr2/fvn2VAAtLWITaDKWv32g0+vj4MAwDI9+VNbd8fX2VOYx47yOEWo7SS+hwOGiaHjRoEPQDEkJkWYZ9HURR1Gg0Go3mq6++GjZsWIcOHZYtW5abmwuxDUxtgWinyWOzGhFgybKsXnDBbDbv379/4cKFKSkpDz744MaNG2EtHEKI0+lUFtGhaqaIE0LGjh3r4+OjzNDB+YMItRnKDDv4FxbZAhqNBkor9XhShBBqUVAWMQwzevRoQojbyjKiKLpcLpfLpdFodDpdSUnJW2+9lZCQMG7cuM8///zSpUtwLuzWBcFPYzPgVRehElpB/k6dOrVly5ZNmzadPn0a4i2NRiNJEsdx9b1C+LdTp06QFM/zjc0oQgghhFCj8Dzfq1cvUrNWnxvY85QQApEMIWT37t27d+8OCgoaOXLkpEmTRo8eHRYWRghpwuBRrwIshmGUoWE7duw4c+ZMRUUFPK/RaBoMmJQKa+/evdVbxiKEEEIItRCIisaMGUMaGpkAvYGEENjw3mw2//zzz+vXr09ISBgwYMD06dNhcYdGXd3TVjkcx23fvn3KlCl6vT46OpphmKysLFKzvympiQe96emDRrbu3btHRETUubpgE1BUHZlHCLVm6tX1at+/2HuIEGpGVM02Evv27VMGKrgd4HaKMpIBjocdunx9fYODg0tKShwOx7Jly+bOndtsW+U4nc7s7GxCCGyP6nQ6YYl2ZYx9g4EODHQ9f/78+fPnvbkiQgghhFBzgTik9vNuW1lASAM0Gg3shWqz2SwWS+3jPfMqwIJt6k0m0zfffEMIgW1KYXSYN8uEKmukjh49GrpC3TaL8Ca70Frmtv3FracM1L292UCo1YKlW+Cxsqqyl+c2YRipZ27b1DRv4nVyK82wlR01lyZPEGk9X8Im57/JNy90/FVUVHz11Vcajaa+4Uzq9GFaHnQIchxntVoJIffdd1/fvn2///77K1eueH/1BgIsuKqvr+/9998/e/bsL7744rPPPluxYkV+fj7LskajEbb1gQYtD2DT+xkzZjzxxBPeZw4hhBBC6GZYLBYPAZZ6nxyWZfV6PUVRDofDbrd37tx5/vz58+fP1+v1Fy5c2LhxY6Ou61ULFs/zFRUVgiCwLPviiy+++OKLmZmZq1ev3rhxY1lZGTSg8TzPcVx9o/Thwe7du8eNG6fVapXtrBFCbUyTq5vqpq/mysntbW/GZSlQc7ntX+Y7DrxdDocjICDgo48+Ih5b8mia1mq1Op1OFEWO44KDg6dNmzZnzpy+ffvCiRzHFRcXN9iW5MarAAuuzbKsKIoOh4NhmJ49e/7rX//617/+9d13361du/bMmTMWi4VlWVj+yi0TUG6Konjx4kXo0cS9MhBCCCHU0iiKKigoILV2TwawGAKsmm4ymbp37z59+vSZM2fCX2H9d51OB0v6KW1dde5mNcEAACAASURBVM7Rqc3bdbCU6YsGg0FZN0Kj0Tz++OOPP/54fn7+zz//vHPnzsuXL5eVlUFTliAIsAQq7GtNCElLSysoKEhISKhvrBlCCCGE0M1Twg/o2lNvNUjTNCx8xbJsaGhoYmLi6NGjp0yZEhMTAwcIgiDLMgRVbuEUrD7qTQzj7aIO6vVCKYqC9bhgeVOapjt27Lhw4cKFCxcePnx4+/btR44cycrKqqqq4jgOckkIgfatnTt3du3aVRAESIHgxGyEEEIINRMlGBIEwWAwnDx5sqyszMfHB7bNgZ1wtFqtyWTq2rXr4MGDx40b96c//QlOUW9Xox6b1bS+/kZv9qxelAFiQKV9i6bpwYMHDx48uLy8/NixY9u2bUtLS7t27ZrD4XA4HCzLCoKwZs2auXPnEkKUAAshhBBCqLnA8leEEJ7nlyxZQlGUTqfjOM5gMPj4+ERGRg4ZMmTs2LH9+/cPDw+HU5QwRlnlQAmtmjwNs9EBFvnjUoFEFdkpmQgODp4wYcKECRPy8vJSU1P37t27d+9ei8XCMMz58+e3bNkydepUjuNwJBZCCCGEmhe0+7Asm5ubu2XLFn9/f4Zh4uPjhw4dev/99/fs2bNTp07KkeSPM2yUSMatyaoJjVhNCbDU1yN/DLPgMQyxoigqJiYmJiZm6tSp2dnZu3bt+v333zMzM994441Ro0aZTCboH8WZEQghhBC6eUpcQQix2Wxz5szp2rVrSkrKPffc8+CDD8bGxtYZSLkFMw1ewss2rZsKsJTMuT1W5xUCw8TExMTExPnz52dmZn7xxRc7d+587LHHeJ7XaDStZw00hBBCCN3poPnq/Pnz/fv3nz17dkJCgucGqsauqOLlkc0QYHnOgXpaI0VRPXv2XLlypcVigUXosfkKIYQQQs0CIgqGYWRZ7t279z333ENUbU71RVHexCH1dR160IIBlpryqiRJ4nne19eX3Nz69wghhBBC9YGB7SzLqpuvmhx1eN8zqLhFAZaCpmmdToehFUIIIYRaCMQYbnPpmiXw8D7Muj17J6t7DxFCCCGE2pjbE2AhhBBCCLVhGGAhhBBCCHnF+843DLAQQgghhJoZBlgIIYQQQs0MAyyEEEIIoWaGARZCCCGEUDPDAAshhBBCqJlhgIUQQggh1MwwwEIIIYQQamYYYCGEEEIIeVLfRtEeYICFEEIIIeRJEzZ7xgALIYQQQsiTJuyejAEWQgghhJAnjW2+IhhgIYQQQgg1OwywEEIIIYSaGQZYCCGEEELNDAMshBBCCKFmhgEWQgghhFAzwwALIYQQQqiZNRBgNWFeIkIIIYRQO9dAgKWsrNWEJbYQQgghhNqnBgIsSZK0Wi3LshhgIYQQQqh9omlao9GwLEvT3o6tauA4hmE4jqMoSpKkm84eQgghhNCdRxAEnucFQXC5XF7uS0jVPgiegX8tFsu1a9cMBkNISEhAQEBLZBohhBBCqDUrKys7dOjQ9evXhwwZ0qVLF71eTxoaPVVHgIUQQgghhOqkBE6eAyy2zjMp6v8PvARBsNvtFEXhGCyEEEIItU+yLEuSRFGUj48Py7LEi8l/dQRYRBWdSZLkcrm8H9KFEEKoPYCfCax7o/ZDlmWappUACVqjPBxfd4BFCOF5nuf5rVu3/vnPf9br9TqdThRFQgikDqGccrBbExdctbE3HmRdFEX1ifBY/TIghKzz9Oa6KCGEpmm3C9V3XdS8lM/xVnZeK9M4GvsRw4nqW671g/e2waLhNlIPAwWQZ4ZhlHcb3nl1czup+fjq/DiUwxr71YILqS8Nal9FSV+pkXo5EvbOAq9IkiSn00nTtF6vhzenNX+jmoVy17TyzxR+vNxuH3gS/mUYBn7NGYZRn1i720t918CT9ZWTDb4tcPU6/6TcTfV9f+pL2cNFlSICXmydl4br1n7SLSfKS5Zl2Wq1RkZGfvHFF8OHD/fx8anz0mr1BlhKUUUI0Wg0MTEx8JG06F1UZ+Itfd/elosiD1p5+dUG3KHf7TrDptqHYV2oRUHt2uFw5OfnUxQVGhpqNBqbVj+5c925ZZSHz6h2k2TtOolS+XFLx3MDBwQ6Hn5V1UFMnRmus07YYKtKgwdAWeEWjHrIZG5uLs/z3i+qUG+ABVeCjsYHH3zwu+++gzYt5dpub0Rz3Vq1k/XQEO328d9MHlro5aBGaVozJGqsVv7zUGchC2W022F13rb4/WlRoig6nc6jR48+/vjjsbGx//nPf/r27etwOEjN/au0CrTJqOt2dYw2ttnVQzrQaVNfe5Ln+kmDL7zBaKbOLCldAZ4Tb1quPLwit6CtdhuecgDDMBUVFU8//XR6err3+fQUYCnXg+mIGo1Go9F4mS5CCKE2SavV+vv7cxzHsqzRaCSEGAyG250phFqWn58fy7Ju3a+eeQqwlFR4nq+vYRAhhFA7IcuyKIp2u91sNkuSJIqizWZr5Q2iCN0kiHzsdjvP84060asAi2DbO0IIoZpBKtBdCw/wdwG1bcqQ9MZ+1b3d7BlgTQUhhNqnOgfI1p7yiVBb1bIBFkIIIYQQapCnAEu9GMYtyQxCCKE7AP46INQgXKIdIYRQo2FohZBnGGAhhBBqNBx3hdqhRn3tvQqw8EZCCCGEEPKeVwEWNgUjhBBCqN1qwiL+2IKFEEIIIdTMcAwWQgghhFDDmr8FCyGEEEIIeQ8DLIQQQgihZoYBFkIIIYRQw5p/mQaEEEKoNpwChdoVDLAQQgi1OGWzZ4RQbRhgIYQQQgg1MwywEEIIIYSaGQZYCCGEEELNDAMshFoEDk9BCCGP2ngJyd7uDCBUh8aGJs27Xab66k1LWZZlOFF5gBBqM5pWd7o1RYFb3lp3+dOa89YMMMBCrdHtLRRu8uoQVMmyLEkSwzAYYyHUxrTaO1pd2rTukkcmhCJEIoSuedwGYYCFWheofkmS5KGO6LarOUVRNE0rj2/y6hRF8TzP8zxN01qtFhL0Plkl/xzHQYCl0+lad0mHEGocqD55X0YxDENaPiyDcsblckmSRAjR6/VY8txeGGChVkRp+6EoSpIkmqYpioICAoozWZYZhoFwSpZlURTduvNuskCBFDQajUajUeeqsYlIkqTX62u/qCZnDCHUSsg1CCFQRpGakIvU1PeUNmx4siUKAaVcUo9GEEVRp9PB81CEttaSB7JEqx63QTjIHbUiUAbJsmyz2ZxOZ3V19Y0bNwoKCvLz82/cuFFeXm61WouLi69evXrlypX8/HyXy+V0Onmeb67yC1LYsmVL9+7d//rXv+bl5QmCQBoTY0EDGMMwH3/8sa+v79dff01RlCAIkL2byRtCqDWAOMZutzscjuLi4ry8vPz8/MLCwvLycrPZXFZWVlhYmJ2dnZubW11dLQiC0+mEOmGzBzpQ/1Ray6D++f333/v6+i5btozjOJ7nW3fJ02oz1jywBQu1IhBd8Tz/5ptvfvrpp4QQf39/nU5HUVRJSQkco9FoQkND4eCioiJCSL9+/bZt22YymW6+M46iqNLS0m+++aaoqGjdunUDBw584IEHfH19vU8TKqxHjhxZvny5yWR68cUXp0yZ4uPjIwgCy7KttTaJEPKWy+X66aefnnjiCUKIXq/39/enabqqqsput8MBISEhUGoVFBTAM2lpaT169NBoNM0yKFMJmFwuF8MwULDIskzT9LVr1/7+97936NDhrbfeuvfee3v06EHTdCseCdoKs9ScsAULtS40TdvtdkmSFi9eLMuy2WwuKSkpLi7+7rvvOnXq5O/vX1xcXFhYWFhYeP36dVmW//a3v0EB16hhUmpufwoMDOzTp4/T6YyLi0tISICC0nNq6v9CfbF79+4DBw4sLi4eO3asj48PDMZq7FtR3yUQQreR0+k0m82PP/54WVkZNGJdv3792rVrI0eO1Gq1X3/9tdLuLstyZmZmfHy8JEkwcqB2ao29uyFUglY0GC8Bz8CD2NjYIUOGXLx4cciQIUlJSQzD3MzwL1xr5iZhgIVaEbifKysru3fvPn36dOgrtNlsPM9fuHDBarVWVVUdOnSovLzcYrFYrVaO495+++3k5GSoyXl5FeqP3P6k0WheffXVa9euHT9+fMCAAXq9vvZhbqfUTsHf33/Tpk0XLlz48ccf4UXdTA9mq6x6ItROcRwXGBj41FNPBQcHW61Wq9Vqt9vT0tKKi4s5jjt//nxeXh48aTabe/To8dJLL12+fJll2Tpv5Mbe3RCoSZJUUlLyj3/84+jRo8rICkKILMtffPFFZmbmwYMHfX19oe2qyUGS56IPNQi7CFHrAoVFbGyswWAghBiNRnhemdDn6+trNBqhsR1Gvvfs2dNtcrJSyYMDlDGnygFQoYQ/Qc2PqMaKEkLCwsJqN02Rmh5AdeIw7kGdeeXfpKQk6BlUmuiVQlAZPKHOrbosU19dFEVlMmNjZzUihJpdcHBwQECAIAhQQFEUZTAYoBzQ6/VGo9FoNMKTkiSNGDEiIyODYRiO45QSQB0SqQsQeKA+TP08PIDJPampqfv27evRo4dSKJGa8KtHjx5QaEDJo6RZZzmpzBlSF4DKMVBU1lkdRQ3CAAu1InCrx8XFxcXFqaMi9Z2v7t2D56dPn86yLMRJkiRB6aPT6QRBEARBlmWWZVmWJTUTD2FyDdQCoQyCAk6uWWFBFEVRFGma1mg0SiQEJ0KzPMuygiDAM4QQURS1Wq06h0oibikDyBIMfof/QjZq13FlWYZR9ko8B68Urqu8RVjwIXTLBAcHjxw5EsoNdZzkFsqQmhpRUlJSYmKiLMtarRaeh5uaqMoEuPfVwQ0UDlCsAZqmlXLs8uXLn3322Y0bNwwGA8yhYRgGihRZll0uF6wyo+QNiiOY3QylCpSTkCac61aSQAaUshfGchFV/RCLnQZhgIVaESXUUP5L/hhdqSklAkxLlmWZ53mO44qKii5fvjxixAhZlk+dOlVcXDxo0KCoqChJknier66uvnjxYlFRkSRJJpOpc+fOMTExer1eKTtEUeQ47urVq06ns0uXLn5+foQQONflcp0+fdpoNPbq1Yvn+cuXL1+7dk0QhOTk5Li4OAh94GCXy8VxXHp6utFo7Nevn1wzg5rjuIqKipycnI4dO0ZFRZnN5itXrhQXFwcHB3ft2jUkJAQKUFJTRrtcLrPZnJmZaTabGYbp0qVLp06dlGhSo9Goj8fyDqFbAGIX4nHxBaViBg9YllXWa4Bl9s6ePVtUVOR0OsPDw5OSkgIDA9XDPXmet1qt6enpZWVlFEUFBQUFBQVpNJrY2FiWZVNTU999990DBw706NGjsLDw4sWLer0+Ojpar9dDIZOZmSkIwqBBg6A4FQQBCsYLFy6MHj0aSrnDhw9brdbQ0NCUlBSj0ai0YymZrK6uzsrKys/Pp2m6Q4cOXbp08fHxgcMgLMPaXYMwwEKtiFssRXk3wRiqWS6X6+jRo5s3b961a1dZWdnhw4c3bNjw5ptvsiw7ceLEf//735IknThx4pNPPhEEYejQodXV1Xv27CkvL3/sscfmzZsXEhJCCLHb7SdOnPj11183bNjQrVu35cuXJyUlGQyG0tLSvXv3btq0afv27bNmzYqLi1uxYsWOHTvOnj1L03RYWNjPP//cp08fQRAYhikpKdm9e/fmzZt///33KVOm9OvXDxaSyMrK2rp16+bNm81m86uvvtqlS5dVq1YdPHiwqKjIaDROmTLlxRdfTEhIUAosp9O5devWL7/8MiEhISkp6fjx42lpaZMmTRowYIAsy06nMyUlJTEx8SZH0COEGsX7AkpdoEHDsyAIV69eXbVqVXx8vI+Pz+7du7du3dq/f/+XX34ZxsgTQkRRLC0tXbZsmdPp7N+/f2lp6ZkzZ9LT03v27Pn++++XlZV9++23ubm5DMOUlpb+/PPPAQEBnTt3nj59up+fX2pq6rZt29auXZucnLxp0yaapvV6fWZm5rZt2/73v/+dP3/eZrPt27fvvffey8vLu3btWnh4+NSpU9955x2TyaREVy6XKysra8WKFUVFRSNHjqyoqPj000/j4uImTZqk0+mcTmdkZGSPHj38/f1b/L2+w2GAhVqdJlSJKIqCRWj27dt35syZjh07HjhwYM+ePfHx8fn5+QcOHLBarWaz+dlnny0uLv7999+7d+/OcdzAgQMXLFjwwQcfhIeHP/XUUzRN22y24uLiI0eO5OXlxcXFKSVOZWVlSUnJli1b7HZ7bm7u4sWLWZZ99913OY5bunRpWlraggUL9u/fD1VDi8WSk5Oze/dus9msjNwSRbGwsDA9Pf3IkSMhISEHDhw4evRo9+7dZ86ceezYsX/84x9r1qxJSkp68sknfX194aK//vrrrFmzFi1atHDhwpCQEJ7n33jjjeXLlwcHB8+cOdNqtfr7+2OAhdAtpi6gvKkEKqMtKYrKzs6eN2/eokWLRowYwTDMk08++dxzz61evfry5cvffvvt8OHDOY4TBGHJkiWlpaWbNm2C7rzLly9//PHHV65ckWX57rvvXrly5fr16xcuXBgWFvbkk0/269ePZVmTyVRYWFhaWrp169by8nKlV9HhcED98Pz58waD4eeff/7yyy+nTZvWrVu31NTUJUuWrFy5csCAAdOmTZNrFoIvKCh44YUXCgoK1q1bd/fdd3Mct379+pdeeunXX38dPXr0XXfdZbPZunTp0sJvc5sg1wJdwhzHWa3WX3/9lRAyY8YM5U+1j0eo5ShfuSVLlsDyV3v27LHb7dAmpP5COp1OWZa/+uorQkhkZOScOXNgbdKXXnrpyy+/lGV51apVhJBRo0bBMAVZlvPz82fOnElR1LPPPltVVQWpSZL04YcfGo3GUaNGnT592ul0Qr1TlmUoExMTE7du3apcd8uWLTqdjmGYy5cvy7IsCILL5XI4HBMnTiSEPPfcc7Isw+BWp9O5b9++pKQkmqYfeeSRs2fPQgpWq3X+/PkURT3xxBO5ubmQjRs3bvTu3TswMDA9PR3KXMhw9+7dCSHbtm2DjoaWffcRUoGfBp7nq6qqtm/fbjAYevXqdeLECbl9/zTAYKY9e/YkJycTQhYvXnzjxg23NwTeOrvdPm7cuOeee47neafTCQXFjRs3fHx8CCEPPvig3W6H+Mbf33/FihWSJDkcDrjEyZMnFy9efObMGUjwhx9+8Pf3T0lJSUtLU19CluU5c+YQQsaOHVtVVWWxWCB7a9euhdEOs2bNcrlccDzHcVOnTiWEzJkzB851uVxVVVXLly+HF6Lkv6ioCJJ94YUX7Ha73C4/8fLy8gceeCAyMnLz5s1Wq1V5wz3AZRrQHU9WjRuFIQJOp3Py5MkhISEBAQEffvjh7Nmz7XZ7hw4dunbtGh0dDRVKl8vF8zwMY1cGksuyLEmSTqdTxjapL2EwGERRHD9+/IQJEziOg7ApOTlZp9NBAxXcVIQQSZJgsx31nB1oatLr9REREY8++uhdd90liqIgCAaDIT4+3mAwlJeXO51OOP7QoUP5+fl+fn5+fn4wIUiW5YiIiLvvvpsQsmPHDkIIz/OkrtFpCLU0GQffeEdWTRzOyMjYv39/bGzsiRMnMjIyTpw4kZmZeenSpaioKL1ef+HChXPnzmm1WovFQlHUV199dfbsWapmb8GYmJjhw4cbjUYoZKDGJYqiUstSuiNhZRn5jwNYYdIPRVErV66Es6DalpKSQggpKSmBdOBPe/bs0el0wcHBSqBgMpm6du1KUdTp06evXLlCsNjxDnYRojaCqtlGkBASHBz8pz/9SQm8YL70hAkTOnbsGBISAnWR/Pz89PT0jIwMaKBStjWEhRvUyZI/dgTA5jzKPBqtVgsjJ1wul3Kwer6POimlxxAqpgzDwHRFSMHpdIqiCAdD96LT6eQ4jtTM4mFZVhl0DzMZW/xtRQjdHCXGOnbsGMdxW7ZsOXjwoDIRWJKklJSUAQMGwOIOkiSFhYXBmMuHHnronXfeSUlJiY6ODgwMHD58OKnZYVC9XAulWgdLmSTkVvJAcaTRaGw2m5+fH8x/pGnaZDIRQhwOhzJhUJIk6A2w2+1KuafRaPz8/KCsU+/TijzDAAu1HRRFQThCUZTVaoWGd3VbVK9evSorK/fv35+WlpaTk2MymQIDA2E1ZCWokmsm/tROHJ50W1WL1DSbqVNQl3du6cg1MyUp1TpYygINyvEJCQlBQUH5+fkFBQUxMTGw4oMoitXV1YSQ3r17C4KgDgQRusWwDcMbVM16e4SQwsJCURQXL14MoVKdYG2tZcuWvfrqqxcvXpw2bdrw4cMff/zx4cOHR0dHe9hYQimUlEqaGhQ7sE2q+oNzW+cdQrGYmJjU1NTCwkKO4zQaDTSY2Ww2Qkh4eHhAQAC2X3oJC2jUpkBTEKkpOEhNuCOKosvlglmEH330UXV19csvv/zRRx+lpKRAC5ZSgVNWnPJQgrjVDmsf4GXpow6q5D9OTUpJSRkxYoQgCL/88kt1dbXL5SKEXL58+cSJE8nJyaNHj1Y2N/TmQgi1BPyVrU1pr6p9b0Kf/unTpx0OBwwwgHE8yhp7cs2ifaNHj/7qq6+eeOKJ5OTkffv2Pf3006+99tqRI0egI0+dZp1Vwdq5Ujeu135eSZNhGI1GM2nSpODg4CNHjqSnp8MIipKSknPnzkVFRY0fPz48PPxm3p87XaO+89iChdoU9bJ4ypOyLPM8n5eXt2zZsuPHj69cuXLy5MmEkLy8PJhuU2dStZ+HNJUVbuBJZZl19UZjHuIedXu+QlkjR3nex8fn+eefz8/P//XXXxMTE/v06cMwzA8//GAwGN5+++0OHTpA3yJWJdHthV+/2tR3t3oMFlT/Dh48CAPG3dqtnU4nRVGwJh+sxr569eodO3Zs3Lhx8+bNP//8c3Fx8fvvvz9gwADS1ObDOhvUiarkgTrb6NGjFy5c+Mknn3zwwQcLFixgGObgwYNZWVlPPfXUfffdR2oVsO0KBliobWrUN1vdIMTzvCAIP/7446ZNm2bNmjV58mSlY05pcq+zxllfmmp1LpFQZyejB3Ue36FDh379+kVEROTm5sJweJPJtGLFimHDhomiCE33+POGUKtS5y0Jt2pERARN0/v37z958iTcxcpC7TRNHzhwoGPHjnfddZfD4SCEwFj1e++9t3///snJyStXrjx58uSmTZt69eoFgx/quxZRdRcqRZYyYsFtw2l1/AfPMAxjNBqHDRuWmpoaEBBw4MABnU5nt9v/8pe/jB8/3t/fv91GV00obDHAQncMtyLDA7dyBMYQbNmyhWXZjh07wpMwZhya5aHl3K0hSj1GSnmmdgbqHPGgzok6G97XO0VR/PDDDwsKCpYuXarT6SorKxmG6dChAyxbD2NjsQULodagwRZruEn79+8fGhpaUlKybNmygICAXr16kZrKVXp6+oYNG1566SVZlgsKCk6dOvXnP/+Z4ziWZQMDA5944onKysrly5cXFBQ4nU4IsNSjReuL6tTZIPVX/JQCE9ZuOHfu3CeffDJ58uTJkyeXl5dzHBcWFhYQEKBOGYsdb7THOBTdQZTbWJmXB5uq1m43gmdgcWFZlmGvaLeYTJKk8+fPV1ZWUhRls9m2bdt2/PhxQgjMi8nKyrpx4wasfQyX8/HxgWZ8dY3NZDJBTiBvSrmj1+tJTRGm1+shTWUMKUVRGo0G9ppgGEapg0LKUFvVarUQP1EUdejQoc8//zwnJycjIyMvLw+Kv6KiosLCQpjFrURXOAwLodsI6maw4AshBKbaKRU2oqqY9e7de9y4cYSQvXv3vvzyy//973/37t27Z8+eb7755o033rjrrrs6d+7M87zD4Vi1alV5eTmkQwjR6/Vdu3Y1mUwxMTFQdMDWpQ6HAw44evRoVlYWTPHRarWQH61Wq0zxUdZu8Pf3V8o0nU4HswhpmoZkBUFwOByfffbZ5s2bq6urs7OzYWx7ZWXl9evXYYaN2xgJ5AG2YKFWDVp90tPTf/vtt5KSEkLIf//73+Dg4I4dO+p0OggylIPNZvP3339PCLl69erq1avnzZsHy8ZAtDRp0qQTJ07s2bPn+eef79atm8VicTgcMCpi3759S5cu7dWr17333nvt2rW9e/dWVlYeP3782LFjsJgWTdNpaWmnTp0ihPz+++/nz5/v3LkzNCNt2rQJMvb111/37t3baDSKonjq1Kl9+/YRQrZv3z537tyEhARBEMrKyg4ePHj+/HlBEPbu3Qvdf7Is5+fn79+/H7YeS01NDQ4ODggI4Hne39//xIkTCxYsCAgIMBgMEH7p9Xo/P7+EhISJEyf26NGD4zjY0hUrlAjderDkSklJyfr167Oysggh27dv79+/f0pKCqyGQFS1RKPR+Morr1y/fn3Xrl27du1KT08PCQmRJOnGjRt//vOfH330UZqmOY6jKOrgwYNPP/30vHnzBgwYYDKZTp8+vWHDht69ez/yyCNQkevYsWNERMSVK1c+/vjjDh06aDSaRx99lGGY7OzsAwcOiKJ47Nixo0eP3nPPPbIsW63WX375xWq1EkK+++67KVOmwMCJ/Pz89evXE0JOnDhx4MCBgQMHkpop2C6X68MPP/zyyy+h5NHr9T4+Pr6+vh07dhw7duzAgQOx2PEGs2TJkjr/AJMarl69unbt2l69ek2aNAmexzcU3Rpw91ZXV58+ffrQoUNlZWUxMTEJCQmwpALHcVFRUer1YCoqKnbu3Hn+/PmoqKj4+HhJkvz8/KKjo2EVBoqiYmJibDbblStXcnJyHA5H7969J0+eHBERceHCBZfL1b179/vuu0+n0x08ePDq1auRkZGRkZE0TQcFBUVHR585c2bfvn0ulysuLi4oKIiiqOjoaKPReOjQodTUVL1e36VLF1hENDQ0tLS0dNu2bTabLTExMSwsDHaxCAwMPHr06PHjxw0GQ0JCgo+Pj8FgCAkJqa6uPnDge7i/UQAAIABJREFUwNWrV8PDw6OioliWhY1dY2NjnU5nTk5OeHh4eXl5eXl5SUlJQUFBTk7OhQsXfvvtt6NHj44ZM0Y9ZRrvTXQLwJSR/Pz8devWhYSEPPTQQ5GRkaRdfv1gevKFCxdSU1NzcnKCgoI6d+7s5+cHUVdoaChUAtWnhIWF9enTR6PRWK3WyspKh8MREhIya9as5557LjIyEuqT5eXlBw4c0Gg0p0+fTktLO3z4cEZGRkRExNNPP3333XdDrRKa6q9cuZKdnR0YGDhp0qTevXuXlJTA3qaxsbGRkZEMwwQEBBiNxv379585cyY6OhoKRlEUExISysvLf/vtt5ycnJiYGFh+2d/fPyoqSpKkpKSkjIwMi8USGBh4/fr10tLSwsLCq1evnj9/fv/+/fv27YuOjoYdKUh7+tydTuevv/5aVFR0//33d+rUyW0p6TrV0dAn1yzPyHHc7t27J06cOGPGjK+//ppgzyu65TiOq6iosFqtyqKasFKL0WgMDQ1VCi+KopxO5/Xr12HBBUIIrKEXFhamLLsnimJxcTHsRePv79+hQ4egoCCz2XzlyhVBEGJiYsLDwzmOKysrg3X2INmgoKDg4OCKioqqqiqYZU1RFMMwERERPj4+RUVFDocD1jKFPj5IpLS0FCZgQ0t+QEBAQEBASUlJdXU1rAcBbfLBwcGiKMIC7nBFKBMDAwMrKir+9re/jRs3DnoNYClUeADN+K+88sozzzzzyiuvuFwunU6H9yZqacoyS3a7/fDhw5MnT+7ateuaNWtSUlLa59cP4iGz2Ww2m0VRhAGdUAPU6XRhYWHQWwcHqweel5aWFhQUWK1Wmqb9/PxiYmICAgKUnkSbzZaVlWUwGCBZlmUNBkN4eHhISAj07sF1y8rKcnJynE5nREREx44dDQaDxWKprKxUFyaBgYF+fn7FxcXwpCzLsBBDTEwMFJjKIFTlYELIgQMHPv3009dee83X19dqtcIMG9ibq7KyctOmTQaD4W9/+1uXLl3a1edeWVk5c+bMU6dOrV69esSIEdCp6vnlYxchatU0Gk1ISAhs2qA8CdGMUn+CP2m1WhjArsRGRDXFD8KyiIgI2NBQadby9/eHoaYwNMpgMERHR6sHyENxGRAQAEWPkjIMbggLCyOEQMykXFGn0ymjUElNQEZRVGhoaHBwsFvKMGBLfUXotVy+fHlUVNSQIUMMBoPBYFCGW8GAfaPRaLFYTp8+3aiB8wihZgR3fUBAgK+vr9ttSNUsnl77B5iiqJCQkKCgIPXiCOo4zMfHp0ePHuSPRZl6MWR4JigoCNqxoOwihJhMJigrlMOg5IEmRuV5SMpgMMTGxqqvIsuyJEnZ2dlvvvnmO++8M2DAAJfLBQs3AFggsHPnztu3b6+srGzut7MNwgALtXZeTgmmavaI8IBlWbddJmiaVnZ+qF2QEVWgVmc24Irq67oFdp4TqfOKhJBffvll7dq1b731FmxPQWrqyhBWQqF58uTJSZMmUbVWDkQI3UrelDzKkUrbEty2cs32XOrD1APk1ee6PaMuT5Qyrb6Sp86k3J7nOM5utz/77LOlpaWw1rx6DBmMZGVZtry8PDw8vFOnTli1axAGWKi1q68Nlvrjhqb1Hak8Wbsso1QzqL25XKPydjOJ5OXlVVdXf/DBBzRNT5gwITo6Wp3tysrKd955p2PHjoMGDXI6ndA/WOflEEK3gPf3u9IP6DZu0q2YajDB2mVXnaWZ99mDc81mc0ZGhs1me+GFF15++eXo6Gj18dXV1Zs3b75w4cLkyZPVjfGoPhhgoVatgSGEfyxfmpCUlwMIbtk4Ayhep06deuHChY0bN86fPz8yMjI5OTk6OtrHx8flcpWWlubm5j766KNz584lqq2B2s9ICIRalSbceh5O8T41b1q5vDldCelomg4LC3v77bdfe+21f/zjH99++21iYmLXrl19fX1hEnRZWVlycvLcuXO7du2KBY43MMBCqNUJCwt79913p06dum/fvrS0tGvXrl29elWj0URHRw8aNGjZsmWwHI56H2uEEGoCpSsARlBMmzZt8ODBmzZtSktLy8nJSU1NZVk2LCwsJSVl3rx5ffv2NRgMyqJfGGZ5hgU0Qq2IMmbC19d30KBB/fv3t9vtNpsNpij6+voqIyGU4RHtaiIPQqglQElC07TRaExMTFywYAHP83a7XRAEmPIMmyRCyYPRlZcwwEKoNYLapEaj0el0ymLxyiB35b8EizmE0M1RShJYxwECKb1ebzQalQOUOYnqU5BnGGAh1Ooo5R3Mka7zrwgh1LyUFvHa8yKV4fkEiyCvYYCFUCuFDVQIoVvMc7GDxVGj4Ao6CCGEEELNDAMshBBCCKFmhgEWQgghhFAzwwALIYQQQqiZYYCFEEIIIdTMMMBCCCGEEGpmGGAhhBBCCDUzDLAQQgghhJoZBlgIIYQQQg2ova+GZ14FWLh4K0IIIYTauUbFWF4FWI2N2hBCCCGE2jNswUIIIYQQambYgoUQQggh1MywBQshhBBCqJmxjT0BW7MABp0INRaWHm0JfJrKZ4ofLmrD4BefpulGfc+9DbAkSWpKptouLE0QQu2NLMtK3ZKiKIqiaJqGX4fbWCRidRe1NFmW4RveqC9bAwEW3Dlms/nixYuyLEuSBKnXrrW0+a84RVE3/2Lb/LuEkFrtH12smXjjZgqKFn2HIXG73Z6bm0tRlN1uz87O1ul0oihigNWi1D9AqOW4RTgKmqarq6urq6sblVoDARbP84SQ/fv3z5gxQ5IkQRDquzxpH99yRWO/63B7tKu3CCH1bYJffi+18oICqvI2m83pdObm5r7++uv+/v7wS3G7YPDRctrte6u8cOW3WxCEq1ev+vr6ep9IvQEWRVEMw4SGho4cOVKWZZfLRbCIvDnt9puKEGpLKIoKCgqKj48nhHAcJ0mSXq+/3ZlCqMUNGDDA398/KCiIpr2bIOi5Dd/lclVUVDAMAxGc0nyFkVYT4JuG2iesV7RVSpmGHzFq86DtVqvVmkwmlmXhy+/5Z73hNhX1wC68ixBCCCHUDqn7Db053ttZhBhaIYQQQqjdavTYa4ycEEIIIYSal1cDtRBCCCGEkPfq6CJUt2kJgmCz2bwcMI8QQm6asDofuiPgJ4vaG0mSaJo2GAwsyxIvvvz1jsGCVa/OnDmzbNmy4ODg6upqZRYhqasn0svb7HbNQMSZjwgpbtnAAIZh9Ho9RVEcx/E8jwMSboFmL+jc5jnBA5ZlfXx8JElyOBywPiJ+uC3t1v+EYQytkGWZpmmapsPCwmbPnt2tWzetVttgXNFAgJWbm7t161ZfX18/Pz+KokRRrG86oefLqFd+v5XtYcpuWero8OYTRKi9oShK2cjBS7IsC4JgsVgoitLr9QaDAX+G71zKbwl8ghzHWa1WhmFMJhOs5H67M4haCjZPAEmSysrKgoODR48enZiYqNVqGzyl4VmEoij26tXr73//u8ViufkdCW/LR4XfD4RuXqPuI1mWRVHMz8//8ssvs7KyHn300fHjx7do9hBo3uLOLa6CONvpdF66dOntt98OCQlZuHBhcnKyw+Forisiz279zxn+gBJCGIapqqr66KOP8vLyvK8lNhBgMQxDCImKirrnnnsEQcDaJ0LISzzPZ2Vlbdy4kabp+Pj4YcOGQXmCxcgdTRRFh8Oh0+koivLz8+vXr19KSgq2YKG2jabp8vLyr7/+uqCgwPtw06t1sLRaLcuyMKoLIYQaBLVejUYDY0KhixCny7QBUNOGnwOapnU6nTd9JQjd6fR6PZRg3gdYDZR3SrMwthAihLxHURRN0xzHFRUVlZaWwi70WIy0AeodQmDzEPxYUZsHBVpjq4gNNEqpG/OVPaWbkjuEULsB5YZGo+nevfsPP/xQXV3dqVOnxlb+UGvjuW8XP1nUtjXhG95AgIX3DEKosZTKmI+PT2JioiRJGo3mdmcKIYSargnttTisCiHUUiiKYhiGqnG7s4MQQk3UhPWeGtFFiBBC3lNWpIT/4gCDtgfjZoQ8wAALIdT84HdXFEWn0ykIgl6v1+l0tztTqJnhDwRqh5ptFmF967YjhFB9YLACx3HZ2dmLFi168MEHN27cePPLFKNW5RZvy4HQHcerAAshhBpLlmW73X7lypXMzMzS0lKsp7Ulco3bnRGEWi+sfyCEWoSy86D6X9QGwJpADMNgjIWQB14FWHgLIYSagGVZo9Ho7+8PO6vc7uyg5gG/CNjni5Bn2IKFEGoRkiQ5HI7c3Ny8vLyKigoMsNoYHICFkGe4DhZCqJlBLKXX6/v375+enn67s4NaBPZsIOQZBlgIoeanjLtS9gamaRobsRBC7QcGWAihlkJRFMuykiRhaNVWYTsWQvXBTnSEUEuRZVkURUmS8Ge4TcKPFbVD3n/tsQULIdTMlP5Bu91+9epVi8USHx8fERFxu/OFEEK3DrZgIYRaBM/zOTk5b7755qOPPoorubcx2HaFUIMwwEIItQgY4W42m8vLyx0OB/4kI4TudI0qx7CLENVB/R1q8vBkJRFY0RuHObc38InrdDqDwaDX63HZpDaGqnG7M4L+oFlKb1QnZXcKL2GA1Ro1ua7fLLeT29WbEBspKcC52HTRPsmyzDAMy7Isy4qieLuz0zDl66r+wsO318tbQF2paN6MNXua6GY0rUy7BZ/gzZfeyLNGvZ8YYLVejbqHm+suUi9fRAhhWbbJ7U+yLHMcBz+xBG/19odlWT8/v8GDB0dGRnbv3r1R53r48tf+FtU+uFHfNPXpnh97SLZ2HprlC9+oPKBbowl7a96aTw2yJIqiIAgsyzIMcwsuijzAAKuVEkWR53l4DDdnnQ2/yq1uMBhI8wUxHMeVl5fLshwcHKzX671PWX2Yy+W6fv260WgMCwvDX4V2BT5ulmXj4uL+7//+r1HnevNNU465ycZR9bVgRQmoDKhThrH50L9ZX97UTbbNWJFoVB7QraHsw8jzvDrk9VA+E0IaVYo2KjO1fwtsNltZWVlAQEBgYCDBERq3FQZY/197Zx4V1ZE18Hq97zTQ7LugsgjKKsZAUJAkbjgSTXSMY4xGYqKJu5/JmMRJgs6JmtHMOMZJNGqMiSju6OCC4I4biIAmQUBkp1ma3pf3/XEPdZ4NIhgcEev3B6f7Ue+9ev2qbt1769at3ghN042NjXfv3gVDBAIdcJcG0wQ6jNlsNpvNNE2Hh4fzeLw/2ItwF719+/bmzZvVavU777wzdOjQ7lpCJpOJxWKdPXv2q6++Cg4O/uijj+Ry+R+pGOFZBA9FNE1DGveut0/sQ7UCugPz+gghSBaPy7BYLA6H03WTAO6l1WpbW1tdXFzwpDZFUSaTqbKyUiAQODg4oIeMVbjXGI1GnU6n0+lkMhkMqI8N8y5arbaurk4mk5FO9HRhqtGNjY0lJSUmk4nL5UKrsFgs0A7BZw8HsRd/8ODBAoEAq2I9qO4wwzDg84EDB3bs2JGQkPDuu+8KBAIul9tT9yJ0F6Jg9Ub0ev3p06fXr1+vUCi8vb35fD6Hw6moqMjPz1epVAEBAQMGDODxeDRNt7S0/Prrr6WlpSdPnnR1deXxeH/87kajMTMzc9OmTQghV1fXkJAQiUTSrSsYDAaxWPz5559nZ2dnZWWNHTs2Li6OpPN+3oDXDdp5t/xSCCGtVltWVqZWq6HZWCwWDocjEAg8PDxsbGyYpxiNxrKysqamJjjC4XBcXFywntT5pB5FUWazubGx8d69e2fPnq2url6xYgWPx8P62Y0bN7Zs2WJvb//hhx8qFAqrIC084prN5oaGht9///3GjRvNzc0TJkwICAh4/B+uDbCvTpw4ceTIkdDQ0Lfeegt3cOKTeIoYjcbs7OyvvvrK1tbW19eXz+cjhKqrq/Py8lQqVf/+/QMCAgQCgdFo1Ov1+fn5dXV1e/fu9fPz6/FpO2wJQB9hsVh6vf7rr7++fv36qVOnJk+e7OLigogT6+lBFKzeiE6nq6iocHBwmDVrVmhoqEgk4nA4GRkZZ8+eLSsrmzx58uzZs+3s7MCQysrK+uSTT8rKylxdXXukF7FYrMDAwNGjR2s0mrCwMHCMdW/pBIdD0/To0aObm5sHDhzYUxUjPEPgcBC1Wm02m0UiEZ/P74qOBR90Ol1BQcHp06dv3rzJ4/EMBkNwcHBcXJyNjY2NjY3VTHRxcfGJEyeuX7/O5/NHjBgxduxYGFe6Qmtra25u7tatW/fs2ePi4jJv3jxbW1twSLBYrH/+85/btm1DCEVFRU2YMEGv1/P5fKu+YDabW1tbz549++OPPx46dMjT03PYsGE9omAZjUYul/vZZ59du3bN3d391Vdf9fLyMpvNvSS25rnt0SCfFQrFzJkzw8LChEIhh8PJzs6+dOlSaWlpUlLS+++/b2tra7FY1Gp1ZmZmampqeXl5//79LRZLj7w7bBtUVlZKJBLmVCBN0+PGjeNwOP379+fxeCwWi6wxeooQBas3otPpbG1t58+fn5CQgA86OTmBJ8nBwcHR0VEmkyGE7O3t/fz8qqur79+/D5u+4cXw2LjpULnpcLkTfOZyufHx8W5ubkajMTAwEOyzhwlT5nXwZ7CzFyxYEB4e7uLiMmDAgE4UrK6E7j6hxVmEJwTWrmprazMyMioqKhITE4cOHdr562O2VRsbm9jYWJPJlJaWVl9fjxBKTEx86aWXoNnj61AUJRQKw8LCGhoaNm7cOGzYsPj4eD8/P/zfR1bVZDI5OjpCvKOjoyPuPnBuUFBQQECASCRycHCAic4Oq01RlEQisbe3N5lMcrkcukwXwY+sVqtbW1udnJxwa4fbRURENDU1BQcHQ7ciXeCpo9frZTLZnDlzxowZgw86OTmJxWKEkKOjo729PSg9Dg4Os2fPNhgMNTU1bDbbai1tt1ZOWK1spSiqqqpq//790dHRkZGR2LcqEAg+/PDD4cOHBwUFgZkBOlYnsYOd+7fI0oo/AlGweiMCgSAwMNDNzQ0x2rdOp4P+aTAYjEYjTJ0YjUYejzd27Ni6ujoWi2WxWKziYaHngOKFOyF8wJ9Ruz7G5/MHDx4Mn5kFcBm4Ji6PLTP8X4QQj8fDCiK+vtXd0YMxBB0qgszyzKcj9HJMJlNdXd0vv/xy9epVe3v7qKioR56CGwCHw3F2dp46derVq1f//e9/azQaW1tbZ2dnvV5vVZ6iKEdHRz8/P3t7+1WrVkVHRzPb1SPvKJfLw8PDR4wYceTIERaLhZsW9Jc5c+b4+fnZ2dm98MILUKv2tWWz2RKJ5MUXX9Rqtbt37zYYDF36dRDClYTuefHixcrKyjfffBObSVwul6bpTz75ZOTIkf7+/i4uLljJ6w0D3vPmGsG/OY/H8/f3h7A8LJE0Gg1EDep0OiyfQTC+8sorJSUlTN2dKTxBxDFlGm4VWJxi0ccUm5mZmYcPHw4KCmKKcYSQra1tYmKiVc3xXawuDo/QXseyspyZcrhnf9W+DVGweiMymSw4OBiCE5nKB9NwB6CMv79/v379EEIQSgxlmO5o3H9AdjOvY3XrThQdZgWYrjLUFmfD1KLa21v4OFOyMCvTHqgMUzBBYSwRUKf2GeHpAu3NZDLh9VZdB48HSUlJv/zyi1ar3bp165w5c9CDbx9/3bdvX0BAwEsvvWQ2m63aHtMwwC3QqsHg0YtZeYSQVCodP348nmdhDnjwdLjBGwwGCBRr7+iC0RFXADFaMkVRZrOZxWIZDIbNmzcPHDiQpmmTyQTOKuhWrq6ukyZNam9UWNUBPaRDMX8BeBBmZdhs9uN1H6qbYQN9CalUGhISAto2mLWoo8ZDURS8QQ8PD0dHR9QmrNq3EGbjxH+ZZayEP0IoJyfnP//5j9lstrOzw//tUHpbtXk8Cljd3ao883iHel77EwntIQpWb4TNZotEIquD2ExhAk2cz+fjVUtqtXrHjh08Hm/mzJmVlZV79uxRq9VTpkzx9vaGmNn6+vq0tLTGxkaTyaTRaAYOHDhy5EhPT08rxejcuXPFxcUvvPACM5qkqKjo2LFjsbGx4eHhNTU16enppaWlNjY28fHxUVFRTD8ZQqipqSkrK6uqqurtt9/Gsxsmkyk3N/fSpUuJiYmBgYEFBQWHDx9uaWnx9fUdNWqUp6cnsw7woaioKCcnR6lUNjc3u7q6Tpw4EXx7naiJhF4Fc1DvIliTDg8Pj4yMrK2tzcvLO336dGJiol6vFwgE2I63WCx1dXUZGRmLFi3icrkQt8R0i7ZXTdqPiHCE2cVomgbVx2rSED3odoIjLBZLLBaDtmSlvcGDt4+8wfWHf/373/8+evToiy++SFEUnmEEZYvL5T5Mu+owHot5ENQv5lerylj1WUJX6FA+o4drKjweD9YkoTa7t6Cg4NKlS2q1uqSkxM3NLSEhITQ0lKm4UxRVXl7+008/wTpxgUDg7Ozs5uY2ZMiQxsbGXbt27dmzp7Cw0MvLa8+ePefPn3d1dR02bJiTkxNCqKWlJT09ncViTZ48GSEEzclkMp08eTI3N/fDDz+USCS5ublHjhwxGo3e3t4Qs8hU76BVlJWVHTx4UKlUms1mJyensWPHenl5kXbSLYiC9WzD7BX37t375Zdfzp8/f+bMmTFjxowbN278+PH5+fkKhaKwsHDnzp0sFuvy5cuffvqps7NzUlISTdM3btz44osvDhw4sGDBgtjYWIRQS0tLVlbWoUOHLl++TNO0g4NDQECAxWLJzc3dv3//2bNnb9y4sXfv3n379m3btk2j0RQWFtbV1e3bt2/jxo3R0dEGg4HL5dbU1OzYsePUqVN37961sbF56623LBaLXq8/dOhQenp6SUlJXV1dYGBgYWHh2rVrdTpdSUkJh8N5/fXXFy9e3K9fP+bQtXfv3h9//DEoKCg8PFyn023ZsiUjIyMsLMxisSiVyuDg4BkzZsA2LKTn90JA23iMuGysf4jF4smTJ589e7aurm7Tpk0vv/wy+AzgymAzpKWlsdnsiRMnIoY6hYe3W7duHT9+vLy8nMvlDh48ODExEdwJ7VV5qw/goigsLDxy5Mj8+fNhjISWBk+k0Wi2b98Osz/Dhw+Xy+UCgYC5pzW0ZIvFcuLEibNnzyqVSsi8OmLECEhchxDKz8//5ptvDh8+rFari4qKTp06pdFogoODweYBF/WJEyeqqqqmTJkCHjLU5vpis9nl5eU///zzvXv37OzsYmJi4uLi2Gw2/n3g11Cr1SdOnLC1tR02bBiXy83Ozr5w4YJAIEhKSvL29n5s7Qq/o8c49zkEv7JffvnlypUrcXFx4LlcvXp1enr6G2+8MX/+fISQyWQymUwVFRVLlix5+eWX3d3dtVrt9evXt23b5ufnt379epqmXVxc/Pz87ty5A+YEn89nsVh8Pv/3338/ePDg+fPnz507N3jw4KSkJA6Ho1KpDh8+fPDgwYKCgtLS0o8//nj58uWnT5/mcDjXrl0Ti8Xnzp1LTU11dnaGlmAymUDgf/HFF97e3omJiY2NjcePH09PT4+IiGCz2SqVKigoaMKECRAvSARvJxAF65nhYYIM61gymSwqKurQoUMNDQ0IoWXLlk2bNi0zM/Po0aP37t1DCNXW1n766adnzpzJysqKjIzUarUREREVFRXbtm1TKBQhISFyuZzNZvv6+trb25eWlsrlcmx1ubq6enl5paWlmc3mTZs2OTs7v/HGG97e3jqd7qOPPrp48eKWLVsGDhwoFAqhMkOHDv3vf/97+/btiIgI1Oa76t+/v4eHR3p6ukAg2Ldvn5eX15IlS5ycnPLy8tasWZOWlhYaGso0kjIzM7/44ovBgwdPmTLFx8dHKBQ6OjpOnz49Jydn1qxZCQkJCoWCmRiJ0Kvgcrk+Pj6rVq1SKpWDBg3q7msCFcFisbzyyiuenp4ajebkyZNXrlwJDw8Hvw5EHOp0uoMHD77yyisQY86c81IqlT/88ENWVlZ4ePjQoUMLCwu//vrrrVu3LliwICEhgZmqium4gltrtVroO/n5+UVFRSkpKTweDxQmGCZzc3M///xzHx+fiIiI6urqf/zjH6DWgP8MtU3YlZaWrlu3rrq6esSIEb6+vqdPn166dGlkZOTixYsDAgJUKlV2drZarYa737p1y97evqmpSS6Xe3p6NjY2/vTTT6dPn75161ZISMjUqVPxL2M0Gtls9g8//PDzzz8nJiZGRUVduHBh4cKFgwcPfv/996OiosCXVlJScujQoVOnThUWFi5dulQsFn///feXL1++ffs2RVFpaWlr164dMmQIm81+7LlCghUP+w3Bd5WZmfmvf/1rzZo1AwcOpCgKQvdWrlxZXl7u4uIyadIko9HI4XBWrlzp4eExffp0NpvNYrEiIiJ4PN6NGzfMZrOXl9e0adNYLNbJkyft7e1HjBgRHh5OUZRQKLRYLFFRUWlpaVVVVbB3Ak3THA4nMDDw9OnTxcXFNjY2CxYssFgsK1ascHJy+u233+bOnfvzzz+PHDly+vTp4A82Go2//fbbggULxGLxwoULfX19dTqdQqFYvnz5t99+O3Xq1JEjRzo5OWELgdAJJFj4maHDfsucC5dKpTExMUOGDOFwOAcPHgwPD09JSfn66683b978+eef0zRdVFSUnZ3N4XBgSRRFUSKRKCEhwWw2//rrr3V1dQghoVAYGBj40ksv2dnZ4XAWFovl4eERFxfn7e1tNBqFQuHMmTPHjx8fFhY2YsSI6dOnI4QuXbpUV1cHYlomk8XExIwdO5YZKSkQCPz9/SdMmABpSO3s7P785z8nJSVFRka++uqrcXFxSqXyxo0barUaj44//vhjeXn50KFD3dzcuFyuyWSKjY2Njo5ubW1tbGxMSkqKjo7+4+lVCT0Odp/IZLLo6GjIL/AYU4SgrMvl8tdff12v1+t0uk2bNjEjTiiKunjxYklJybRp0/DCeZiyAAAgAElEQVR94V9NTU3bt2/fuHHjoEGDZs+ePXHixHnz5k2aNCkvL2/jxo3FxcUdbo+I76vT6dzc3MrLy69fv242m7FfCrSo3Nzct956a8iQIfPnz09OTp4+ffq8efPKy8sbGxuZeRzu3buXmpqamZk5evToP//5z2+88cbHH38cEBCwa9euXbt21dfX83i8MWPGfPnll7DyMSEhYdq0aSkpKYGBgRRFqdVqd3f3O3fuFBUVGY1G7JyDhJYbNmz46KOPpkyZ8uabb06aNGnhwoUTJ07MyMhYvnz5+fPnYc0am83m8Xi///57ZWXlwYMHN2zYEBAQ8OWXX+7du7d///7nzp376quvLBYLJCtGj+WOIr3Pig5/EGirGo1m9erVSUlJQ4cOlcvlNjY2EolkxYoVjo6ONTU127Ztq62t5XK5lZWVR44csbe3F4lEME/t6uo6bty40NBQtVrN4/EEAgHIPXBcicVisGxtbW2HDx8eEBDA7AiwYikhIUEsFqtUqgEDBixbtiwhISEwMHDChAnJyck6ne7s2bPQHYxGo8Fg+Pnnn69evRoXF+fn5wdXCAsLi4uLa2lp0el0w4cPf+GFF2BJ+3P49rvVR4iC9czAjNVlQj0YbSoWi81ms5ubG8yY+Pj4TJ8+PTo62mw2e3t7R0REjBw5EqZIIMkvzEFAJDJiLIxqv1gJ4qhMJlNcXJyvry+Px4NzIUhLqVRqNBrECCuBMAWryRehUAjmcmxsrIeHB1h1UqnUx8eHpumGhgaDwQBPWl5eXlhYSNO0SCRisVhsNhv8EyEhISwWq6CgQKlUkjCs3gzdbnFGd0+Hc2manjFjhpubG5/P379//+3bt6ExgK6ze/fuIUOGBAUFgeKOFYX6+vrs7Ozq6mpnZ2fYrMnBwSEyMtLJyam4uPju3bt4K6r2WCwWsVgcHBw8fvx4g8GANRvwmTU2Nn722Wc8Hm/evHnu7u58Ph+cx6+99ppVOP/t27czMzMtFouHh4dUKuVyuf369QsLC2Oz2devX9doNDRNu7u7Ozs7wy14PJ6vr6+vry8kbYfoxhdffBH/jHRbxvALFy6sXr06IiIiOTlZLpfDrkSTJk2KiYnJycn517/+VVFRwWaz3dzcxowZExwcbDAYVCrV1KlTp02bFhMTk5CQMHv2bD6ff+XKleLiYtSmOHbrBZFO1yHtB2Ac23f58uVr164VFBR89dVXq1evTk1N/fLLL9esWdPa2moyma5fv15SUgJt22Aw7Nq168CBAyKRiM1mgzMYB0uhdj8+8ytT8OLjPB4PwrkmTZokk8n4fD6Xy+VwOEFBQQihqqoqMKehdV28eJHL5UqlUtTW8ORy+YABA1gs1t27d8EUf27pVrMnCtYzA5awHepY+DOMMV5eXpAvETonZBB2d3f//vvvN2zYIBKJVCrV+fPn165du3nzZtjtAdvoYBh1eBemQoMjPEABglVUzPIQwsK8DkVR2OEEU3sQRMzhcIRCIUy+4AfU6/V6vR47D/DdYexhxmkRQd87odp47Ag5HMqtUCgmTJig0WhaW1t37NhBtQUC37x5MycnZ+rUqdCGmbeGuGBvb28PDw9w5FAUBR1Br9drtdoOPVgY6Dj29vYQ7Y7aAuoRQpmZmadOnRo7dqy9vT08GmSZDwoKEolEer0ej21SqdTFxcXb29vBwQH/GtDUVSoVOKKotkAr1Naq8UZYCCGRSATjHDP0ymKx/PDDD3V1dbGxsUKhEOYiWSyWm5vbiBEjRCJRTk7OhQsXWCwWl8sVCoUQJh8bGxsaGiqTyeD6gYGBXC63paWltrb2MV4NIv2uazAX5eXn57e0tPB4PIgdZLFYPB5PKBR++umn69evh2lBmqYVCkV0dPSdO3cWLly4fPnyX3/9FVz+gwYNggbZ4Y06tzahjWGjBTczyN3F3GzKbDZrtVq6DTjI4XBEIhFFUVbbUhE6h8RgPWM8UqhhLQf0FdQW9gvDAISQp6en79+/XyqVhoeH+/j4nD59Gqz/Lt6IOQDg4bO9o6JDBcjqIHNiAkYyPJDAhif5+flVVVW4t1NtMZh+fn4SiYSI+N4MTdOQYlGtVru4uHR3Kz2ma5aiqLlz527atAlC2hcuXCiXyymKOnbsmFAojI2Nxeo+PtHJyWnFihXvvffegAEDEEIlJSUXL148ceLE/fv3cZjUIyvAzO4GqFSq9PR0rVYbEhKC2zyUBMcA1ttomg4JCfnuu+/YbHb//v1hTUlubu6xY8cguz2+i5XdYvWVabeAknf37t3jx48LhUInJyeqLdkSQkgqlQ4aNMjd3f327dtXrlwZPXo0DIpwLozo+PowqWQymZipxbrVofBo3fVTngesfhCmVVxRUWGxWCZMmBAREUEzUpphwPkkEAjWrVu3dOnSEydOrFu37siRI2PGjJk+fTqEVVnZsejBntK+AgDITxDdHQpkfC6Xy/X19T1//nxZWRnFyANiNpsNBoOrq6uzszP1HCfp6BbEg/Xs0RWJhpeX4wEA+oNSqXzvvffWrFkzatSov/71r0lJSa6urqDWtO+3VmCDBl+zfYFH1rPznsmMNXZ1dU1OThYKhXv37i0pKQGfBEJo+/btYrH4vffeo9rWeRF6G9BUjEZjSUnJypUr33zzzYyMjEc2sIfBZrONRiNMkWi12qqqqr1797JYrIaGhuPHj48aNcrR0ZHpf4UPHA7H1dU1KCioqqrq73//+5o1ayoqKvz9/e3s7HA+3g5r3slDIYSUSuXNmzcRQrAknnlHps0A8Pn8AQMG9O/f/8KFC8uWLfv+++9hDxNIM4F7E4xhqKOx0wooUFBQUFdXx+Fw8NaEuEva2dm5uLiYzeaKigrYn5FZH2b/Zc57ogdNHcITAnTZ4uJigUAgkUhsbGykUqlMJpNKpRKJRCaTgV+fw+EEBARs2bJl/fr1ISEhBQUFX3/99dtvv52WloYeTBfCvHjn7659B7E6F07ncDgcDmfKlCk8Hu/w4cPXrl0DX1dLS8v+/fvlcvlrr70GPYgo1l2BjE/PHl0Rgu37HuyYlpKScuzYsbS0tOHDh7PZbJ1Oh+cpmB3mYbrRw1Srnqo8Ux1ks9lTp04Vi8XLli2bOnXq2LFj7ezsYJz+7rvvQkNDYVaI9PNeC+TmqKqqKisrUyqVjxdAjc/icrkffvjhvn37TCbT9u3bZ8+enZeXV1tb+/rrr7d3i+IPkEBk0KBBb7/9dkBAQEFBwe7du/HO0EwPWecPgoupVKrm5uaHNTyrGXxI8L127drMzMwJEyaMHTvW3d1dp9PhpovVGniEDrcoYGa4gPLV1dWQNByyxuPrUBQFIc8IIaPRaDQamR0WPwVTzaIfsv9PVyDaWNeh2hIWIoTOnDnzwQcfqNVqgUCAXy5N05Cggc/nQwisq6vrjBkz4uPjjx079s0331y8eHHdunW2trbx8fH4mky1mHp44jd80CrFaHsgxVdkZOTevXvnzZsXExMzf/58sVick5PT0NCwdu3aUaNGPedSt1vPThSs3k57y5JpwTzSjQSAbM3IyDh06FBCQsILL7wAi2x1Op1er8e+Lrptj1vm1w7v2/5GVoWZX1kPbjiKN5FgXpn5ILiwWCxuaWlJTk729/cHSbRo0SJfX19vb2+Y+yAivjeDX2vn0U5dgcPh6HS6qKioqKio3Nzc27dvp6WlFRUV+fn5DRkypMMpEo1Gs2fPntTU1ISEhP/7v/+Ty+WQyKrDrvQwoUm1rfmAr9jPRNN0XV0dzUhnitrcxtg9RlFUfX19amrqgQMHlixZMmXKFBhQsWqFb4qvz5wz6rAm8BccYBaLpaGhgWYsBYArgFuXy+ViPxkObbTqZTDv0913wTz98c7tS3Tu+cPHQeiB1/Pw4cO5ubmRkZEtLS0SiQTiynk83r59+xQKxYgRIyC7FZfLtbGx4fP5M2bMCAwM/Nvf/nb58uXjx49HRkbKZDJ8Xxw4QbXNkls1WgA7+x9WVdyEzGazXC6XSqVubm6pqalms1mlUqWkpAwcONDT0xMS6j7Pgrdbz04UrN4O1ZZXF6QkzLwwbVArsKUCXQ73GZqmi4uLDQaDTCbj8XgGgwFWcUMGdghsxMEcOLScOSDhACmr/eBg4y288BBXG1cPso/iCuP9InBhsN7wZzz87Nix49KlS3PnzoWFx1Ar+AVguTIMmUTQ905gaIfFCrBi7jEuwnTP8Hi8RYsWvf76683NzatWraIoavHixbDHObO9QXO6desWTMmNGzcOYsyhJNMd1ZVpcfTgzJ1QKJRKpdXV1deuXfvTn/5kYew9BX0KJlkQQmazOTMzc/fu3eHh4TExMbAcDCEEm4qy2nYLhb7DHKdpmjYYDDj3N64JbuphYWECgYCiqLy8PIqimKeD15DP5wcHBysUCvhZQKuz6nSAlfHTXTq85nMFVnzxPC/orFYNEr4OGzbMzc2toaFhwoQJ+fn59vb2qE0nbm5uTk9PX7t2LUVR169fv3r16jvvvKPRaGDxaVhY2OTJk0tKSmpqaphuS0jGAQoZrhLYzDi5GqDVaqm2fZmYlYe2bTKZYBUhRLjevHnz3Xff3bJlS1hYGDwOTHQYjUaVSgXLJhBRsrsAicHqvWChCYGoQqEQVkIJBAIYt6BLY8lrNptNJhNMEEAEq06nwzoN9CWLxXLy5Ek2my0QCMRisVQqhS14bWxs3Nzc2Gx2bW0tZHGELAxisRiGSRjDoHNKJBK9Xo+NY1hFCJIajkO2OuiEbDabw+FA/4Q6g6yBp8AXl0gkMCzBuQihgoKCbdu2nT59uqCgwGg0isVimUwml8ttbW3lcrlEIoHFOM+5OdWbgegNgUDA5/PlcvljT0Whtthbg8EwZsyYfv36GY3GsrIyqVSamJjY4RJFo9F4//79srIyHo8nk8lQWyISOzs7mUwG4brQO5ieofZuHvxfjEKhgLwk+/fvh2uCXqXX6yUSiUgk0ul0Go3GYrG0trbeuXOntrbW0dFRKpWC2kRRlKOjI4/HMxqNWNPCPQuWzcIO7oixZTuuDHS0gQMHRkZGqlSqwsLC2tparICCEIAMXpA+lG7b+QQP/8yHsjrSXZ7z8ZWpDWOlByEkFAqhPWCTGLeuoUOHRkRE6HQ6g8Hg4eGxevXqmpqaysrKnTt3Dhw4MCYmxsXFRavVyuXybdu2Qf6alpYWrVYrFov9/PxEIpGDgwPkf4YE7lqtViKRcLnca9euXb58uampyWQyiUQii8ViZ2dnMBjAGjebzdALBAIBLKGFVqHRaOA4n8/HI4hGo1m1alVdXd3NmzeFQqFEIpFIJCB4bW1tZTIZpCR8zt9+FyEKVu8Fy0Eej8fn83/77bf6+nqapvPy8mQyGd4fBk8QQDqGoqIioVC4b98+g8Egl8tBpoMVGxMTgxBqbW0NDQ3dv3//kiVLKIpKTk6WSqW3b99etmxZSkpKUVER7K5QX1/f3Nx8//59WOzNYrFg5EAI1dXVOTk58Xg8GEGrq6u5XG51dTX0doQQmDg5OTkIoYaGhubmZjDrZTLZ3bt3wcIuLy/HKSQkEkllZaXJZGppaQH1Dvp/U1NTWVnZzJkzHRwcYL26ra2tt7f34MGD58yZU11djb0XRMfqVUDT5fF4gwcPPnbsmFKpnD179mMrWNijSdO0SCSaO3cuTdMcDicxMdHBwcHSbmNBhBBY2yaTqb6+HpI3Qta33NzcwsJCHo8nlUphl1yj0QiuXLgmTt+AVX84rtfrYVCxs7ObNGkSQqisrCwlJQVSPlosFgcHh7KysqqqKnt7e1dXV2xyWCyWoqKilpYWGBERQjk5OU1NTVwuF0wFsEnAuoBKikSimzdv0jQNGhhu26DJQV9etGgRTdO1tbX79u1jsVitra06nc5oNFZXVxcVFcXFxcXExGAPIpwCzi14KPgMByFai/iiuguWz3w+H7K5whYaxcXFtra2zOlg5im7du0aMGBAfX29jY3NJ598Alk83nzzzVGjRs2dOxfC5oxGY3Fx8ahRoxBCOAQ+PT3d1tZ29uzZcFmFQqFQKMrKyjZt2rRo0aJVq1bB1B6Hw7l7965EIsnLy1MoFLA5B+x+CCZ3U1MT7HkgEAjkcnl+fj5CqKKiAjcSmqYbGhrq6+thgBAKhTY2Ng4ODp6enoMHD4aEurBlE2kzj4ZuB3Q/g8HQ2tq6d+9ehBAk0Yd/tS9PeELAr61UKrdv356YmGhrawvZ4cCEnTlz5m+//QYiGKRwbm4uZMGBxL4ikSg1NZWmaZ1OR9M0SOc1a9bgVx8ZGWmxWCorK2HvZB8fn7Nnz6rV6r/+9a/e3t5isRgyCc2dOzcvL2/r1q0hISGwipjH48XGxl69erWurm7u3Llubm5isZjFYgmFwlmzZmk0muzs7ISEBOwD8/Hx+f777+/fv798+XJbW1sulyuRSBwcHJYuXVpUVHTlypVx48YJhUJ4uuDg4O3bt7e2ttI0XVhYmJiYCCZah6334MGDMI4+1RdF6AAQI6A0K5VKmID+g1czm80ajaa6utrFxcXGxubWrVtw0OrKoDRcuXIFUnQGBwcfP368sLBw9OjRXl5ezs7OdnZ2K1euXLRo0XfffQehVF9++aWNjU1gYGBLSwu+CE3Tmzdvtre3FwgEEO1kMBhgxnP27NkIIYFAEBUVVVhY2NDQMHPmTB6PZ29vDyutjh49qtFofvrpJycnJw6Hk5ycfOfOnfT09GHDhvn6+rLZbG9v7/37948aNQo2/UxOTmaxWKGhoaWlpX/5y1/mzJlD03RzczNN0++++y5CCDYPpWkafFTNzc1Lly5FCIWHh5eWlsK/lEplcnLyyy+/XFpaisVCY2PjxIkT2Wx2amoqKHNwvKCgQKFQ2NraHjx4kO6abIe3YDQam5ubjx49KhAIhgwZcuXKlS6e3seAR25pafnuu+/i4+NtbGwgxzpCKCgoKCUlJS8vT6vVwqQbFAZ9l6bpWbNmgQRjsVhSqfSbb76haRr6iFarvXbtGmpL7BwQEJCYmBgQEDBlypTq6mqsH9M0nZqaChdxd3fPzc2laTorK+vVV1+F10pRlL+//9atW8vLy9955x0HBwepVMrj8WxtbWfNmqXVai9cuDB8+HCEkFAohA08tmzZQtN0a2trTU1NXFwcQggMZiu4XO7OnTuf4i//tGhoaBg/fryrq+uhQ4daW1vxi+gEomD1ER72anAKBpqmIUm6SqXKyclRq9U0TWu12tbW1paWloKCAij/x5WVnmokBoNh+/bt//znP5uamoxGY1VV1Z07d/Ly8s6cOZORkbFr167w8PCEhITm5mbIcdojNyX0FJY2YN7hj78guFpra6vZbF64cGFsbKyFQfvCkJLU1dUVDwzr169vbGx87bXX4Ov777/f3NxcU1Ozbt06V1dXWPYRHx9/8uRJvV5fV1f37bffyuVyMCqCgoJOnDgBDwKj5tKlS5lZQkaPHp2RkeHu7q5QKD777LP8/HyTyaRUKhcvXozNAxcXl6tXr545cyY8PByO7NmzB5I65ubmOjs7w8GXXnoJfrfCwsJly5YhhMAJ8dprr924cQMeUKPRaDSaDRs2cDgcsVi8cuXKf/zjH/Hx8TNnzqysrMS/+aVLl6ZNmwbDpFwu/+CDD4qLi5VKZXp6elhYGDhXXFxcvv3225qamvaqaoevgChYTLr+4FjHgjeu1+uzsrJAMaJpGqaVAZVKBfK5tbX12LFjR48erampoWkaT/mB6ULTdENDQ1lZGVwB74HxR9DpdFqt9vz58zNmzIAjZWVlhYWFubm52dnZx48f37Zt28iRI8ePHw/mzXP13h9DwepgbgWOQLb+48ePw05bP/zwA3ruJ93/x9Bt0yIg1HCqdAjX5XA4Vtmr6QejAcB3DTkV8SQL/JfL5YLjB7Zhhyyj8BfipSBYCrU5wGEmDkcVQDGYtscVg+sLhUIOhwPyHeYmaJqGwlBDsNJgchOujBCCakPD47axa9eunTt3Ll68ODo6GiLocbQKlGxqapo3b97q1atdXFwoRp5JQu/kD0oPui2CmM1ml5WVNTQ0hIaGMiOorErC8YqKiqysLHt7+1GjRkHbrqiouHz5cmRkJOzOpFKpWltbsR7W2NioUqnc3Nw0Gk1DQ4O3tzcc1+l0NTU1zs7OEHsOy76qq6tPnDjB5/Pj4+Pt7Ozu3btXWFiYkJAAwex0W2jUtWvX8vLyQkJCsF6VnZ1dXl4O+yfiqMSmpqbdu3cPHz48ODgYptGbm5ubmpq8vLxw3Uwmk0KhgMtCIDxCaM+ePWfOnIH91/38/GAaEZbFQEYJW1tbuFFdXR2k562urnZ1dQV3i8lkqqysdHR0hE7ayTvCr0Cj0Zw7d27ixIn+/v7/+c9/wsPDn8OhActVSK+AI64QQjDPwJTPzCA/EIOQxoxui1uFjPw42gHmbfF2ZDiSnbknNyhbILphiwKaoYTRNA2htJBGDqQ3QgikMUhpPDuMxxSapktKSuLj47du3RoTE2OxWGA5BTNasbS09KeffoqLi4uOjkaPG8DXC8Gq0MMeSKlUvvXWW1euXNm8eTNMFqFHPT5RsPo4TO2KbouFB5kOyg10RVj9RD24evyRV0YPSTfarUZiVR7Ur6KiolmzZrm6uq5bt87Dw4Ppo7JYLLB+cM+ePffv33///ffRg8nlCU8dum3xnUqlgmxV4eHh/fr1e0L36rARIoQghBw0b1g5gcNiwEUEbR61jVUwJjE1dXwcBjB8O3AhgGMJbmQ2m0HdwcMeDHhmsxl7sCDChmpLEA9RUFAlsIahS4J2hZ8LbA+KopgDNh6GUdtcEmAwGCBjO82IrcZVYk61gxUEqlgXE/YSBas9jy3uoAWito1frQZii8UCKwTxbhxYXFOMdbWg1eFVouiPqTtarbalpSUpKam6urq0tBQaOfbTIIRAYztw4EBtbe2f/vQnhULxXL33x1CwSJqGZ4P2ejDwMNvdqgD+C72RaWEjRtp3Zu+1ukiHFWh/HEfcP6y2Xbk4TdPl5eUNDQ15eXkeHh4zZ84cNGgQs4BWq/32228LCgo++ugjRLSr3orJZCopKVmxYsX58+f//ve/L1y40Co3T7dgNk7Qs8Hg7vDVw0HwvGLVipnBBEYsqi15AVPDsLRlqe7wOJwCu8iBDwAhBF9hKMI3gmIdmjQwvwOLgrHbAzwN4NnFDws6n9WPgNp6DbhAsBMCqoHadWTmXof40XBh9OBOz6QrdYtOxB3q6MfE5bHURQ+awXAEtHMsq9GDBi1+ie3/2xUBi09vX1Kj0Vy+fFksFs+bN2/FihUuLi7MAiqVavv27b/++utf/vIXhUJh6UP53OHHoGlEUQ/1YD0GRMF6NuhiO35kMWZns7KG0YO9t4tX7lbhLpanKCo2NnbevHmffPLJ+vXrN27c2L9/fx8fH6FQaDKZfv/9dwjmXbJkiYODA36oPtPV+wygjojFYnt7e4hw+oNXY/5l5lTskA6HMfSgOUF3tJvew1QN5nGsEjFVRuaVOylGMaazmQoTYmhC+GDnrRp7tqye+mEd+ZGPRngMuvvrtddv2r+v9rZuJ7oaevib7eJBPEvo4uKyc+fO2bNnf/PNN5s2bQoJCYHwRLVaff/+fZVKlZSUtGDBAk9PT8uDyef6Bl3RrjrRp9tDFKznjk7Ebm+Aassl8957740dOzYjI+PYsWP5+flZWVlcLnfgwIFJSUlJSUmhoaHYgUG0q14LZOKwmpzqER750h82jLUfkx6DDi/+sNGuKx4Oq6mfx6tD18/tETqxxwiPpCuttysGc09VBvy1FEVNmTIlJiZm3759GRkZ169fv3XrllQqHTBgwLhx48aMGRMdHU215b5GfShqCD8EOLE6oVvBvkTBIvQumJMjXl5eKSkpKSkp7YvhsIA+08P7HhaLRafTNTQ06PX6pqambll+j+Sxfbo92Fq66Afqyh0fW1l5io2f9Lu+BNUWQGKxWNzd3T/44IMPPvigfTGQzDhorC+1AZBPxINF6MswRxqIA4WteCxtqeQhNykJGen9cDgcT0/PWbNm3blz58UXXyTLPAmEXg62b2GZORa8MM0N6ydQHzVrn8QDEQWL0HuBoJb2s0t9z3jqY1BtMebOzs44pyKBQOjNMK1WWKndvkyfVK2eHETBIvRSurs8h9CrwBO4kGLDyu9IIBB6LUTw9hREwSL0XkhnftaBNW44Vc/Trg6hJ+nZoDpC74F01U4gMVgEAuFpgmWQ2WxWqVRGo1EikQiFQiK4+xKw2QNRswjPFd0SYkTBIhAITwSz2VxdXZ2enl5WVjZ+/HjYepnoWH0G8ioJhM4hChaBQHgimEymqqqq7du3X7lyRaFQDB8+nCwkJBAIzw9E3hEIhCcFl8uVy+U2NjZisZg4PPoYJNEogdA5RMEiEAhPBIqx0R7+QCAQCM8JRMEiEAhPCi6X6+Tk5OPjAzvPEwgEwvMDicEiEAhPBC6X6+XltXDhQqVS6e/vTwKwCATCcwVRsAgEQg+Do3OkUml4ePjTrg7hSUFmfgmETiAKFoFAeCLA0AvbcsOuR0+7RgQCgfC/gyhYBALhiQB+LDab/bQrQuh5yOJBAuGREAWLQCD0MHjloFarLSsra21t9fb2dnBwQGRgJhAIzw3EaU8gEJ4IRqPx3r17GzZsWLJkSWZmJk3TRLvqM5DQKwLhkRAFi0AgPCm0Wm1xcfHVq1dra2ufdl0IPQzRsQiEzunGFCF2+z+xyhAIhD4Fi8USCAQ8Ho/P5yMiPfoQFEXBqgXslSQvl9Dn6e6y2W4oWMS9TyAQug5N0waDoaamprGxsbGxkaIoIkP6APAeYZhhsVhkwxzCcwJWrbquY3VJwTKbzSAriY1CIBC6iNlslsvlycnJERERERERer3+adeI0ANYLBadTmc2m+GzXq+nadpoNKKOBh4yZBD6BrUxzHEAAAGeSURBVFwu12AwmM3mbhmKXVKw5HI5RVHg5CcQCIQu0r9//48//vhp14LQw4hEIjc3NzabzWazPT09KYri8XhPu1IEwpPFxcVFKpWazWaLxdLFUzpTsLDvNysra86cOaC7Pazw/9hSIR5pAqH3Q9M0yCMOh2MVstOVc59k1QiPj8lkqq2tpSiqurp6/vz5jo6OMDpYRaiQN0joSxgMhnPnzonFYh6P10U59lAFi6Zpi8XS0tJC0/StW7du3brVc/UkEAgEwjNPS0vL3r17n3YtCIT/HRwOR61Wd9GJRXUya242m1Uq1YULF4RCIdbXOpyAJJYKgUB4JE9FUBBvdxfp+tuhKMpisZhMJlhLCO5J2BOJeLCeBMw2TNrz0wJiDUUikb+/v1wu74pLvmMFCy8SsVgsBoPhydWYQCAQCAQC4ZmAoigul9vFgIcOFCyA6cciKjOBQCAQCAQC3rf+8RUsAoFAIBAIBMLj8Yg0DUT9IhAIBAKBQMB0cVqPeLAIBAKBQCAQehiy2TOBQCAQCARCD0MULAKBQCAQCIQe5v8BOvQd2nra5gcAAAAASUVORK5CYII=)"
      ],
      "metadata": {
        "id": "Vo90IksWYenF"
      },
      "id": "Vo90IksWYenF"
    },
    {
      "cell_type": "code",
      "source": [
        "#데이터 분할\n",
        "from sklearn.model_selection import train_test_split\n",
        "X_train, X_test, y_train, y_test = train_test_split(X, y, test_size=0.3, random_state=41, stratify=y['Claim'])\n",
        "#Random state값을 다르게 해도 정확도가 비슷하게 나옴"
      ],
      "metadata": {
        "id": "s-DuMRl6RuNS"
      },
      "id": "s-DuMRl6RuNS",
      "execution_count": 44,
      "outputs": []
    },
    {
      "cell_type": "markdown",
      "source": [
        "# 4. 불균형 상태(claim=1, 전체 보험금 청구가 1% 수준인 데이터 셋)\n",
        "- 이진분류 모델링 : 근접이웃모형 (보험금 청구 여부, Claim이 0 또는 1)"
      ],
      "metadata": {
        "id": "p0HIFp38YjFS"
      },
      "id": "p0HIFp38YjFS"
    },
    {
      "cell_type": "code",
      "source": [
        "from sklearn.neighbors import KNeighborsClassifier\n",
        "kn = KNeighborsClassifier()"
      ],
      "metadata": {
        "id": "xNc_0ehNX4Sd"
      },
      "id": "xNc_0ehNX4Sd",
      "execution_count": 39,
      "outputs": []
    },
    {
      "cell_type": "code",
      "source": [
        "kn.fit(X_train, y_train)\n",
        "kn.score(X_test, y_test)\n",
        "# 정확도가 90% 넘는데 이 세션 왜 한 걸까?\n"
      ],
      "metadata": {
        "id": "zGw2dDX6X9mX"
      },
      "id": "zGw2dDX6X9mX",
      "execution_count": null,
      "outputs": []
    },
    {
      "cell_type": "markdown",
      "source": [
        "## 보험금 청구한 \"데이터 세트\"만 뽑아서 보자"
      ],
      "metadata": {
        "id": "nppHRujBZcMB"
      },
      "id": "nppHRujBZcMB"
    },
    {
      "cell_type": "code",
      "source": [
        "#claim이 1인 즉 보험금을 청구한 데이터 세트\n",
        "X_test_claim_1 = X_test[y_test['Claim'] == 1]\n",
        "y_test_claim_1 = y_test[y_test['Claim'] == 1]"
      ],
      "metadata": {
        "id": "l83QvKOrUM6y"
      },
      "id": "l83QvKOrUM6y",
      "execution_count": 46,
      "outputs": []
    },
    {
      "cell_type": "code",
      "source": [
        "X_test_claim_1"
      ],
      "metadata": {
        "id": "OASjoVbxWRu6"
      },
      "id": "OASjoVbxWRu6",
      "execution_count": null,
      "outputs": []
    },
    {
      "cell_type": "code",
      "source": [
        "y_test_claim_1"
      ],
      "metadata": {
        "id": "Z_M46I1UWWLR"
      },
      "id": "Z_M46I1UWWLR",
      "execution_count": null,
      "outputs": []
    },
    {
      "cell_type": "code",
      "source": [
        "#보험금을 청구한 케이스만가지고 예측해 본다\n",
        "kn.predict(X_test_claim_1)"
      ],
      "metadata": {
        "id": "LY3sGlplW_Ly"
      },
      "id": "LY3sGlplW_Ly",
      "execution_count": null,
      "outputs": []
    },
    {
      "cell_type": "markdown",
      "id": "banned-webcam",
      "metadata": {
        "id": "banned-webcam"
      },
      "source": [
        "# 5. 균형 상태(claim=1, 전체 보험금 청구가 50% 수준인 데이터 셋)\n",
        "- 이진분류 모델링 : 근접이웃모형 (보험금 청구 여부, Claim이 0 또는 1)"
      ]
    },
    {
      "cell_type": "code",
      "execution_count": 53,
      "id": "computational-generic",
      "metadata": {
        "id": "computational-generic"
      },
      "outputs": [],
      "source": [
        "# 일단 범주형 변수를 원핫인코딩 한다\n",
        "# 예) 남성, 여성 -> 0, 1로 바꿈\n",
        "\n",
        "from sklearn import preprocessing\n",
        "label_encoder1 = preprocessing.LabelEncoder()\n",
        "travel_insurance['Agency']= label_encoder1.fit_transform(travel_insurance['Agency'])\n",
        "\n",
        "label_encoder2 = preprocessing.LabelEncoder()\n",
        "travel_insurance['Agency_Type']= label_encoder2.fit_transform(travel_insurance['Agency_Type'])\n",
        "\n",
        "label_encoder3 = preprocessing.LabelEncoder()\n",
        "travel_insurance['Distribution_Channel']= label_encoder3.fit_transform(travel_insurance['Distribution_Channel'])\n",
        "\n",
        "label_encoder4 = preprocessing.LabelEncoder()\n",
        "travel_insurance['Product_Name']= label_encoder4.fit_transform(travel_insurance['Product_Name'])\n",
        "\n",
        "label_encoder5 = preprocessing.LabelEncoder()\n",
        "travel_insurance['Claim']= label_encoder5.fit_transform(travel_insurance['Claim'])\n",
        "\n",
        "label_encoder6 = preprocessing.LabelEncoder()\n",
        "travel_insurance['Destination']= label_encoder6.fit_transform(travel_insurance['Destination'])"
      ]
    },
    {
      "cell_type": "code",
      "execution_count": 54,
      "id": "humanitarian-witness",
      "metadata": {
        "id": "humanitarian-witness"
      },
      "outputs": [],
      "source": [
        "column_names = [\"Agency\", \"Agency_Type\", \"Distribution_Channel\",\"Product_Name\",\"Duration\",\"Destination\",\"Net_Sales\",\"Commision_in_value\",\"Age\",\"Claim\"]\n",
        "travel_insurance = travel_insurance.reindex(columns=column_names)"
      ]
    },
    {
      "cell_type": "code",
      "execution_count": 55,
      "id": "driven-daniel",
      "metadata": {
        "id": "driven-daniel"
      },
      "outputs": [],
      "source": [
        "y= travel_insurance.iloc[:,[-1]]\n",
        "X= travel_insurance.drop(y.columns,axis = 1)"
      ]
    },
    {
      "cell_type": "code",
      "execution_count": 56,
      "id": "hollywood-reform",
      "metadata": {
        "id": "hollywood-reform",
        "colab": {
          "base_uri": "https://localhost:8080/"
        },
        "outputId": "ac2765ca-8be7-45a5-8a8a-c2d5d57b561c"
      },
      "outputs": [
        {
          "output_type": "stream",
          "name": "stdout",
          "text": [
            "Shape of X before SMOTE: (63326, 9)\n",
            "Shape of X after SMOTE: (124798, 9)\n",
            "\n",
            "Balance of positive and negative classes (%):\n"
          ]
        },
        {
          "output_type": "execute_result",
          "data": {
            "text/plain": [
              "Claim\n",
              "0        50.0\n",
              "1        50.0\n",
              "dtype: float64"
            ]
          },
          "metadata": {},
          "execution_count": 56
        }
      ],
      "source": [
        "# ! pip install imblearn\n",
        "# 불균형 데이터를 다루기 위한 패키지\n",
        "from imblearn.over_sampling import SMOTE\n",
        "\n",
        "sm = SMOTE(random_state=42)\n",
        "X_sm, y_sm = sm.fit_resample(X, y)\n",
        "print(f'''Shape of X before SMOTE: {X.shape}\n",
        "Shape of X after SMOTE: {X_sm.shape}''')\n",
        "print('\\nBalance of positive and negative classes (%):')\n",
        "y_sm.value_counts(normalize=True) * 100"
      ]
    },
    {
      "cell_type": "code",
      "source": [
        "X_sm.columns"
      ],
      "metadata": {
        "colab": {
          "base_uri": "https://localhost:8080/"
        },
        "id": "Oc8WPKYgQ7ei",
        "outputId": "0ef657a4-b0b3-4e03-8118-4e147ad6dca9"
      },
      "id": "Oc8WPKYgQ7ei",
      "execution_count": 57,
      "outputs": [
        {
          "output_type": "execute_result",
          "data": {
            "text/plain": [
              "Index(['Agency', 'Agency_Type', 'Distribution_Channel', 'Product_Name',\n",
              "       'Duration', 'Destination', 'Net_Sales', 'Commision_in_value', 'Age'],\n",
              "      dtype='object')"
            ]
          },
          "metadata": {},
          "execution_count": 57
        }
      ]
    },
    {
      "cell_type": "code",
      "source": [
        "#데이터 분할\n",
        "from sklearn.model_selection import train_test_split\n",
        "X_train, X_test, y_train, y_test = train_test_split(X_sm, y_sm, test_size=0.2, random_state=42)"
      ],
      "metadata": {
        "id": "Iq7ewGrSQ_ba"
      },
      "id": "Iq7ewGrSQ_ba",
      "execution_count": 58,
      "outputs": []
    },
    {
      "cell_type": "code",
      "source": [
        "from sklearn.neighbors import KNeighborsClassifier\n",
        "kn = KNeighborsClassifier()"
      ],
      "metadata": {
        "id": "Ewk01qglIvVT"
      },
      "id": "Ewk01qglIvVT",
      "execution_count": 59,
      "outputs": []
    },
    {
      "cell_type": "code",
      "source": [
        "kn.fit(X_train, y_train)\n",
        "kn.score(X_test, y_test)"
      ],
      "metadata": {
        "colab": {
          "base_uri": "https://localhost:8080/"
        },
        "id": "5_NauItyQnQs",
        "outputId": "cdfd868d-d256-48c0-c4e5-9b542aa67947"
      },
      "id": "5_NauItyQnQs",
      "execution_count": 60,
      "outputs": [
        {
          "output_type": "execute_result",
          "data": {
            "text/plain": [
              "0.9399439102564102"
            ]
          },
          "metadata": {},
          "execution_count": 60
        }
      ]
    },
    {
      "cell_type": "code",
      "source": [
        "#claim이 1인 즉 보험금을 청구한 데이터 세트\n",
        "X_test_claim_1 = X_test[y_test['Claim'] == 1]\n",
        "y_test_claim_1 = y_test[y_test['Claim'] == 1]"
      ],
      "metadata": {
        "id": "7kro8pLSa_VT"
      },
      "id": "7kro8pLSa_VT",
      "execution_count": null,
      "outputs": []
    },
    {
      "cell_type": "code",
      "source": [
        "X_test_claim_1"
      ],
      "metadata": {
        "id": "eRrIpNfIbKYg"
      },
      "id": "eRrIpNfIbKYg",
      "execution_count": null,
      "outputs": []
    },
    {
      "cell_type": "code",
      "source": [
        "y_test_claim_1"
      ],
      "metadata": {
        "id": "kQHpcMi5bN_5"
      },
      "id": "kQHpcMi5bN_5",
      "execution_count": null,
      "outputs": []
    },
    {
      "cell_type": "code",
      "source": [
        "#보험금을 청구한 케이스만가지고 예측해 본다\n",
        "k1=kn.predict(X_test_claim_1)\n",
        "print(k1)"
      ],
      "metadata": {
        "id": "XZfWTNZ4bSnL"
      },
      "id": "XZfWTNZ4bSnL",
      "execution_count": null,
      "outputs": []
    },
    {
      "cell_type": "code",
      "source": [
        "df_k1 = pd.DataFrame(k1, columns=['k1'])\n",
        "\n",
        "# 클래스별 데이터 개수 계산\n",
        "counts = df_k1['k1'].value_counts()\n",
        "\n",
        "# 1의 비율 계산\n",
        "ratio = counts[1] / len(df_k1) * 100\n",
        "\n",
        "# 막대 그래프 그리기\n",
        "plt.bar(counts.index, counts.values)\n",
        "\n",
        "# 비율 정보 텍스트 추가\n",
        "plt.text(0.5, max(counts.values), f\"Ratio of 1: {ratio:.2f}%\", ha='center')\n",
        "\n",
        "# 그래프에 제목과 축 레이블 추가\n",
        "plt.title(\"Distribution of k1\")\n",
        "plt.xlabel(\"k1\")\n",
        "plt.ylabel(\"Count\")\n",
        "\n",
        "# 그래프 보여주기\n",
        "plt.show()"
      ],
      "metadata": {
        "colab": {
          "base_uri": "https://localhost:8080/",
          "height": 472
        },
        "id": "iOqQdO70bnbi",
        "outputId": "c5cb0a8b-053f-4844-c259-93132656e1d0"
      },
      "id": "iOqQdO70bnbi",
      "execution_count": 64,
      "outputs": [
        {
          "output_type": "display_data",
          "data": {
            "text/plain": [
              "<Figure size 640x480 with 1 Axes>"
            ],
            "image/png": "[encoded data removed]"
          },
          "metadata": {}
        }
      ]
    },
    {
      "cell_type": "markdown",
      "metadata": {
        "id": "N35oJk3L6nd2"
      },
      "source": [
        "#5. 균형 상태(claim=1, 전체 보험금 청구를 확률 함수 형태로 수정한 모형)\n",
        "이진분류 모델링 : 근접이웃모형 (보험금 청구 여부, Claim이 0 또는 1)"
      ],
      "id": "N35oJk3L6nd2"
    },
    {
      "cell_type": "code",
      "source": [
        "import numpy as np\n",
        "from imblearn.over_sampling import SMOTE\n",
        "\n",
        "sm = SMOTE(random_state=42)\n",
        "\n",
        "# Calculate the desired ratio for minority class (e.g., 50%)\n",
        "desired_ratio = 0.5\n",
        "\n",
        "# Calculate the number of samples needed for the minority class\n",
        "minority_count = np.sum(y == 1)\n",
        "majority_count = np.sum(y == 0)\n",
        "minority_samples_needed = int(majority_count * desired_ratio - minority_count)\n",
        "\n",
        "# Apply SMOTE with the desired ratio using sampling_strategy argument\n",
        "sm = SMOTE(sampling_strategy={1: minority_samples_needed}, random_state=42)\n",
        "X_sm, y_sm = sm.fit_resample(X, y)\n",
        "\n",
        "\n",
        "print(f'Shape of X before SMOTE: {X.shape}')\n",
        "print(f'Shape of X after SMOTE: {X_sm.shape}\\n')\n",
        "\n",
        "# Calculate the percentage of positive and negative classes\n",
        "y_sm_series = pd.Series(y_sm.squeeze())  # y_sm을 시리즈 형태로 변환\n",
        "y_sm_percentage = y_sm_series.value_counts(normalize=True) * 100\n",
        "print('Balance of positive and negative classes (%):')\n",
        "print(y_sm_percentage)\n"
      ],
      "metadata": {
        "id": "f-Fvyb9Qsu8r"
      },
      "id": "f-Fvyb9Qsu8r",
      "execution_count": null,
      "outputs": []
    },
    {
      "cell_type": "code",
      "execution_count": null,
      "id": "available-trust",
      "metadata": {
        "id": "available-trust"
      },
      "outputs": [],
      "source": [
        "X_sm.columns"
      ]
    },
    {
      "cell_type": "code",
      "execution_count": null,
      "id": "aggressive-compromise",
      "metadata": {
        "id": "aggressive-compromise"
      },
      "outputs": [],
      "source": [
        "from sklearn.model_selection import train_test_split\n",
        "X_train, X_test, y_train, y_test = train_test_split(X_sm, y_sm, test_size=0.2, random_state=42)"
      ]
    },
    {
      "cell_type": "code",
      "source": [
        "from sklearn.neighbors import KNeighborsClassifier\n",
        "kn = KNeighborsClassifier()"
      ],
      "metadata": {
        "id": "Bc9E_dRRdiYp"
      },
      "id": "Bc9E_dRRdiYp",
      "execution_count": null,
      "outputs": []
    },
    {
      "cell_type": "code",
      "source": [
        "kn.fit(X_train, y_train)\n",
        "kn.score(X_test, y_test)"
      ],
      "metadata": {
        "id": "U-dkx5XadlB4"
      },
      "id": "U-dkx5XadlB4",
      "execution_count": null,
      "outputs": []
    },
    {
      "cell_type": "code",
      "source": [
        "#claim이 1인 즉 보험금을 청구한 데이터 세트\n",
        "X_test_claim_1 = X_test[y_test['Claim'] == 1]\n",
        "y_test_claim_1 = y_test[y_test['Claim'] == 1]"
      ],
      "metadata": {
        "id": "kjkSGAtAdo4r"
      },
      "id": "kjkSGAtAdo4r",
      "execution_count": null,
      "outputs": []
    },
    {
      "cell_type": "code",
      "source": [
        "X_test_claim_1"
      ],
      "metadata": {
        "id": "Sq-P0ZKOdr4Z"
      },
      "id": "Sq-P0ZKOdr4Z",
      "execution_count": null,
      "outputs": []
    },
    {
      "cell_type": "code",
      "source": [
        "y_test_claim_1"
      ],
      "metadata": {
        "id": "s4LW0IObdvoU"
      },
      "id": "s4LW0IObdvoU",
      "execution_count": null,
      "outputs": []
    },
    {
      "cell_type": "code",
      "source": [
        "#보험금을 청구한 케이스만가지고 예측해 본다\n",
        "k2=kn.predict(X_test_claim_1)\n",
        "print(k2)"
      ],
      "metadata": {
        "id": "6IS9Xw5zdzDY"
      },
      "id": "6IS9Xw5zdzDY",
      "execution_count": null,
      "outputs": []
    },
    {
      "cell_type": "code",
      "source": [
        "df_k2 = pd.DataFrame(k2, columns=['k2'])\n",
        "\n",
        "\n",
        "# 1의 비율 계산\n",
        "ratio = counts[1] / len(df_k2) * 100\n",
        "\n",
        "# 막대 그래프 그리기\n",
        "plt.bar(counts.index, counts.values)\n",
        "\n",
        "# 비율 정보 텍스트 추가\n",
        "plt.text(0.5, max(counts.values), f\"Ratio of 1: {ratio:.2f}%\", ha='center')\n",
        "\n",
        "# 그래프에 제목과 축 레이블 추가\n",
        "plt.title(\"Distribution of k2\")\n",
        "plt.xlabel(\"k2\")\n",
        "plt.ylabel(\"Count\")\n",
        "\n",
        "# 그래프 보여주기\n",
        "plt.show()\n"
      ],
      "metadata": {
        "id": "qjB6gISrd3WZ"
      },
      "id": "qjB6gISrd3WZ",
      "execution_count": null,
      "outputs": []
    }
  ],
  "metadata": {
    "kernelspec": {
      "display_name": "Python 3",
      "language": "python",
      "name": "python3"
    },
    "language_info": {
      "codemirror_mode": {
        "name": "ipython",
        "version": 3
      },
      "file_extension": ".py",
      "mimetype": "text/x-python",
      "name": "python",
      "nbconvert_exporter": "python",
      "pygments_lexer": "ipython3",
      "version": "3.8.5"
    },
    "colab": {
      "provenance": []
    }
  },
  "nbformat": 4,
  "nbformat_minor": 5
}